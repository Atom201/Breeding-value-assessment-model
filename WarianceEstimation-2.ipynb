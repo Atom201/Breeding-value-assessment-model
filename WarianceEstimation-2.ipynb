{
  "metadata": {
    "kernelspec": {
      "name": "python",
      "display_name": "Python (Pyodide)",
      "language": "python"
    },
    "language_info": {
      "codemirror_mode": "r",
      "file_extension": ".r",
      "mimetype": "text/x-r-source",
      "name": "R",
      "pygments_lexer": "r",
      "version": "4.1.3"
    }
  },
  "nbformat_minor": 4,
  "nbformat": 4,
  "cells": [
    {
      "cell_type": "markdown",
      "source": "#### Mixed model + variance parameter estimation",
      "metadata": {}
    },
    {
      "cell_type": "markdown",
      "source": "Consider the model:",
      "metadata": {}
    },
    {
      "cell_type": "markdown",
      "source": "$\\mathbf{y} = \\mathbf{X\\beta+Za+\\epsilon}$, where",
      "metadata": {}
    },
    {
      "cell_type": "markdown",
      "source": "Consider the vector $\\mathbf{y}$ - a vector with phenotypic values ($n \\times 1$ in our case where $n$ is the number of animals).",
      "metadata": {}
    },
    {
      "cell_type": "markdown",
      "source": "vector $\\mathbf{\\beta}$ represents the vector of fixed effects ($p \\times 1$), where $p$ is the number of fixed effects.",
      "metadata": {}
    },
    {
      "cell_type": "markdown",
      "source": "vector $\\mathbf{a}$ represents the vector of random effects ($q \\times 1$), where $q$ is the number of random effects.",
      "metadata": {}
    },
    {
      "cell_type": "markdown",
      "source": "vector $\\mathbf{\\epsilon}$ represents the vector of errors or residuals ($n \\times 1$), where $n$ is the number of observations or data points.",
      "metadata": {}
    },
    {
      "cell_type": "markdown",
      "source": "The matrix $\\mathbf{X}$ is the design matrix for fixed effects, with dimensions $n \\times p$, where $n$ is the number of observations or data points and $p$ is the number of fixed effects.",
      "metadata": {}
    },
    {
      "cell_type": "markdown",
      "source": "matrix $\\mathbf{Z}$ is the design matrix for random effects, with dimensions $n \\times q$, where $n$ is the number of observations or data points, and $q$ is the number of random effects.",
      "metadata": {}
    },
    {
      "cell_type": "markdown",
      "source": "We assume that the matrices $\\mathbf{X}$ and $\\mathbf{Z}$ are independent. Additionally, we assume that:\n",
      "metadata": {}
    },
    {
      "cell_type": "markdown",
      "source": "$E(\\mathbf{y}) = \\mathbf{X\\beta}$, $E(\\mathbf{a})=E(\\mathbf{\\epsilon})=0$",
      "metadata": {}
    },
    {
      "cell_type": "markdown",
      "source": "$V=Var(\\mathbf{y})=Var(\\mathbf{Za})+ Var(\\mathbf{\\epsilon})=\\mathbf{Z}Var(\\mathbf{a})\\mathbf{Z}^{T}+\\mathbf{I}Var(\\mathbf{\\epsilon})\\mathbf{I}^{T}=\\mathbf{ZGZ}^{T}+\\mathbf{R}$, where",
      "metadata": {}
    },
    {
      "cell_type": "markdown",
      "source": "$\\mathbf{G}=\\mathbf{A}\\cdot\\sigma^{2}_{a}$, $\\mathbf{R}=\\mathbf{I}\\cdot\\sigma^{2}_{\\epsilon}$",
      "metadata": {}
    },
    {
      "cell_type": "markdown",
      "source": "$ \\left[ \\begin{array}{cc}\n         \\mathbf{X}^{T}\\mathbf{X} & \\mathbf{X}^{T}\\mathbf{Z} \\\\\n         \\mathbf{Z}^{T}\\mathbf{X} & \\mathbf{Z}^{T}\\mathbf{Z}+\\mathbf{A}^{-1}\\alpha \\end{array}\\right]\\cdot\n  \\left[ \\begin{array}{c}\n         \\widehat{\\mathbf{\\beta}} \\\\\n         \\widehat{\\mathbf{a}} \\end{array}\\right]=\n  \\left[ \\begin{array}{c}\n         \\mathbf{X}^{T}\\mathbf{y} \\\\\n         \\mathbf{Z}^{T}\\mathbf{y} \\end{array}\\right]$, where",
      "metadata": {}
    },
    {
      "cell_type": "markdown",
      "source": "$\\alpha=\\frac{\\sigma^{2}_{\\epsilon}}{\\sigma^{2}_{a}}$",
      "metadata": {}
    },
    {
      "cell_type": "markdown",
      "source": "$ \\left[ \\begin{array}{c}\n         \\widehat{\\mathbf{\\beta}} \\\\\n         \\widehat{\\mathbf{a}} \\end{array}\\right]=\n  \\left[ \\begin{array}{cc}\n         \\mathbf{X}^{T}\\mathbf{X} & \\mathbf{X}^{T}\\mathbf{Z} \\\\\n         \\mathbf{Z}^{T}\\mathbf{X} & \\mathbf{Z}^{T}\\mathbf{Z}+\\mathbf{A}^{-1}\\alpha \\end{array}\\right]^{-1}\\cdot\n  \\left[ \\begin{array}{c}\n         \\mathbf{X}^{T}\\mathbf{y} \\\\\n         \\mathbf{Z}^{T}\\mathbf{y} \\end{array}\\right]$",
      "metadata": {}
    },
    {
      "cell_type": "markdown",
      "source": "$ C = \\left[ \\begin{array}{cc}\n         \\mathbf{X}^{T}\\mathbf{X} & \\mathbf{X}^{T}\\mathbf{Z} \\\\\n         \\mathbf{Z}^{T}\\mathbf{X} & \\mathbf{Z}^{T}\\mathbf{Z}+\\mathbf{A}^{-1}\\alpha \\end{array}\\right] = \n         \\left[ \\begin{array}{cc}\n         \\mathbf{C}_{11} & \\mathbf{C}_{12} \\\\ \\mathbf{C}_{21} & \\mathbf{C}_{22} \\end{array}\\right]$",
      "metadata": {}
    },
    {
      "cell_type": "markdown",
      "source": "$ C^{-1} = \\left[ \\begin{array}{cc}\n         \\mathbf{C}^{11} & \\mathbf{C}^{12} \\\\ \\mathbf{C}^{21} & \\mathbf{C}^{22} \\end{array}\\right]$",
      "metadata": {}
    },
    {
      "cell_type": "markdown",
      "source": "The precision of the estimation is given by $r^2 = \\text{diag}(1 - \\mathbf{C}^{22} \\cdot \\alpha)$, where $\\mathbf{C}^{22}$ is a matrix, and $\\alpha$ is a parameter or another matrix involved in the calculation.",
      "metadata": {}
    },
    {
      "cell_type": "markdown",
      "source": "1. MATRIX A",
      "metadata": {}
    },
    {
      "cell_type": "code",
      "source": "library(AGHmatrix)\n\nid = 1:8\nsire = c(0, 0, 0, 1, 3, 1, 4, 3)\ndam = c(0, 0, 0, 0, 2, 2, 5, 6)\n\nped = cbind(id, sire, dam)",
      "metadata": {
        "scrolled": true,
        "trusted": true
      },
      "outputs": [],
      "execution_count": null
    },
    {
      "cell_type": "code",
      "source": "A = Amatrix(ped, ploidy = 2)",
      "metadata": {
        "trusted": true
      },
      "outputs": [],
      "execution_count": null
    },
    {
      "cell_type": "code",
      "source": "(A = as.matrix(A))",
      "metadata": {
        "trusted": true
      },
      "outputs": [],
      "execution_count": null
    },
    {
      "cell_type": "markdown",
      "source": "2. We define the successive sources of information.",
      "metadata": {}
    },
    {
      "cell_type": "code",
      "source": "y = as.matrix(c(4.5, 2.9, 3.9, 3.5, 5.0))\nt(y)\n\nsex = c(1, 0, 0, 1, 1)\nX = matrix(0, 5, 2)\nX[,1] = sex\nX[,2] = 1-sex\nX\n\nmodel.matrix(~factor(sex) - 1)",
      "metadata": {
        "scrolled": true,
        "trusted": true
      },
      "outputs": [],
      "execution_count": null
    },
    {
      "cell_type": "code",
      "source": "I = diag(5)\nZ = matrix(0, 5, 8)\nZ[1:5, 4:8] = I\nZ",
      "metadata": {
        "trusted": true
      },
      "outputs": [],
      "execution_count": null
    },
    {
      "cell_type": "markdown",
      "source": "3. We solve the system of mixed equations.",
      "metadata": {}
    },
    {
      "cell_type": "code",
      "source": "library(MASS)\n\nmme = function(y, X, Z, A, sigma_a, sigma_e) {\n    alpha = sigma_e / sigma_a\n    invA = ginv(A)\n    C = rbind(cbind(t(X)%*%X, t(X)%*%Z),\n              cbind(t(Z)%*%X, t(Z)%*%Z+invA*c(alpha)))\n    rhs = rbind(t(X)%*%y, t(Z)%*%y)\n    invC = ginv(C)\n    estimators = invC%*%rhs\n    list(C = C, est = estimators)\n}\n\nmme(y, X, Z, A, 20, 40)",
      "metadata": {
        "trusted": true
      },
      "outputs": [],
      "execution_count": null
    },
    {
      "cell_type": "code",
      "source": "C = as.matrix(mme(y, X, Z, A, 20, 40)$C)\n(invC = ginv(C))\n\ninvC22 = invC[3:10, 3:10]\n(r2 = diag(1 - invC22*2))\n(r = sqrt(r2))",
      "metadata": {},
      "outputs": [
        {
          "data": {
            "text/html": [
              "<table>\n",
              "<tbody>\n",
              "\t<tr><td> 0.59556097 </td><td> 0.15730213 </td><td>-0.164119413</td><td>-0.083624565</td><td>-0.13059083 </td><td>-0.26455749 </td><td>-0.14827804 </td><td>-0.16632621 </td><td>-0.2842464  </td><td>-0.2378790  </td></tr>\n",
              "\t<tr><td> 0.15730213 </td><td> 0.80245865 </td><td>-0.132863260</td><td>-0.241250738</td><td>-0.11196840 </td><td>-0.08730803 </td><td>-0.29891465 </td><td>-0.30600266 </td><td>-0.1859495  </td><td>-0.1986488  </td></tr>\n",
              "\t<tr><td>-0.16411941 </td><td>-0.13286326 </td><td> 0.471094211</td><td> 0.006928037</td><td> 0.03264668 </td><td> 0.21954371 </td><td> 0.04495225 </td><td> 0.22077427 </td><td> 0.1386223  </td><td> 0.1341923  </td></tr>\n",
              "\t<tr><td>-0.08362457 </td><td>-0.24125074 </td><td> 0.006928037</td><td> 0.492095721</td><td>-0.01030797 </td><td> 0.02039033 </td><td> 0.23734577 </td><td> 0.24515571 </td><td> 0.1198194  </td><td> 0.1106640  </td></tr>\n",
              "\t<tr><td>-0.13059083 </td><td>-0.11196840 </td><td> 0.032646682</td><td>-0.010307967</td><td> 0.45645878 </td><td> 0.04812709 </td><td> 0.20132326 </td><td> 0.02261354 </td><td> 0.1258983  </td><td> 0.2177471  </td></tr>\n",
              "\t<tr><td>-0.26455749 </td><td>-0.08730803 </td><td> 0.219543709</td><td> 0.020390333</td><td> 0.04812709 </td><td> 0.42768015 </td><td> 0.04704420 </td><td> 0.12757186 </td><td> 0.2428012  </td><td> 0.1231911  </td></tr>\n",
              "\t<tr><td>-0.14827804 </td><td>-0.29891465 </td><td> 0.044952254</td><td> 0.237345770</td><td> 0.20132326 </td><td> 0.04704420 </td><td> 0.42810675 </td><td> 0.16972255 </td><td> 0.2197160  </td><td> 0.1780739  </td></tr>\n",
              "\t<tr><td>-0.16632621 </td><td>-0.30600266 </td><td> 0.220774267</td><td> 0.245155707</td><td> 0.02261354 </td><td> 0.12757186 </td><td> 0.16972255 </td><td> 0.44228277 </td><td> 0.1521830  </td><td> 0.2192238  </td></tr>\n",
              "\t<tr><td>-0.28424641 </td><td>-0.18594950 </td><td> 0.138622268</td><td> 0.119819354</td><td> 0.12589831 </td><td> 0.24280124 </td><td> 0.21971599 </td><td> 0.15218301 </td><td> 0.4418562  </td><td> 0.1680818  </td></tr>\n",
              "\t<tr><td>-0.23787901 </td><td>-0.19864885 </td><td> 0.134192262</td><td> 0.110664009</td><td> 0.21774710 </td><td> 0.12319108 </td><td> 0.17807393 </td><td> 0.21922376 </td><td> 0.1680818  </td><td> 0.4223641  </td></tr>\n",
              "</tbody>\n",
              "</table>\n"
            ],
            "text/latex": [
              "\\begin{tabular}{llllllllll}\n",
              "\t  0.59556097  &  0.15730213  & -0.164119413 & -0.083624565 & -0.13059083  & -0.26455749  & -0.14827804  & -0.16632621  & -0.2842464   & -0.2378790  \\\\\n",
              "\t  0.15730213  &  0.80245865  & -0.132863260 & -0.241250738 & -0.11196840  & -0.08730803  & -0.29891465  & -0.30600266  & -0.1859495   & -0.1986488  \\\\\n",
              "\t -0.16411941  & -0.13286326  &  0.471094211 &  0.006928037 &  0.03264668  &  0.21954371  &  0.04495225  &  0.22077427  &  0.1386223   &  0.1341923  \\\\\n",
              "\t -0.08362457  & -0.24125074  &  0.006928037 &  0.492095721 & -0.01030797  &  0.02039033  &  0.23734577  &  0.24515571  &  0.1198194   &  0.1106640  \\\\\n",
              "\t -0.13059083  & -0.11196840  &  0.032646682 & -0.010307967 &  0.45645878  &  0.04812709  &  0.20132326  &  0.02261354  &  0.1258983   &  0.2177471  \\\\\n",
              "\t -0.26455749  & -0.08730803  &  0.219543709 &  0.020390333 &  0.04812709  &  0.42768015  &  0.04704420  &  0.12757186  &  0.2428012   &  0.1231911  \\\\\n",
              "\t -0.14827804  & -0.29891465  &  0.044952254 &  0.237345770 &  0.20132326  &  0.04704420  &  0.42810675  &  0.16972255  &  0.2197160   &  0.1780739  \\\\\n",
              "\t -0.16632621  & -0.30600266  &  0.220774267 &  0.245155707 &  0.02261354  &  0.12757186  &  0.16972255  &  0.44228277  &  0.1521830   &  0.2192238  \\\\\n",
              "\t -0.28424641  & -0.18594950  &  0.138622268 &  0.119819354 &  0.12589831  &  0.24280124  &  0.21971599  &  0.15218301  &  0.4418562   &  0.1680818  \\\\\n",
              "\t -0.23787901  & -0.19864885  &  0.134192262 &  0.110664009 &  0.21774710  &  0.12319108  &  0.17807393  &  0.21922376  &  0.1680818   &  0.4223641  \\\\\n",
              "\\end{tabular}\n"
            ],
            "text/markdown": [
              "\n",
              "|  0.59556097  |  0.15730213  | -0.164119413 | -0.083624565 | -0.13059083  | -0.26455749  | -0.14827804  | -0.16632621  | -0.2842464   | -0.2378790   |\n",
              "|  0.15730213  |  0.80245865  | -0.132863260 | -0.241250738 | -0.11196840  | -0.08730803  | -0.29891465  | -0.30600266  | -0.1859495   | -0.1986488   |\n",
              "| -0.16411941  | -0.13286326  |  0.471094211 |  0.006928037 |  0.03264668  |  0.21954371  |  0.04495225  |  0.22077427  |  0.1386223   |  0.1341923   |\n",
              "| -0.08362457  | -0.24125074  |  0.006928037 |  0.492095721 | -0.01030797  |  0.02039033  |  0.23734577  |  0.24515571  |  0.1198194   |  0.1106640   |\n",
              "| -0.13059083  | -0.11196840  |  0.032646682 | -0.010307967 |  0.45645878  |  0.04812709  |  0.20132326  |  0.02261354  |  0.1258983   |  0.2177471   |\n",
              "| -0.26455749  | -0.08730803  |  0.219543709 |  0.020390333 |  0.04812709  |  0.42768015  |  0.04704420  |  0.12757186  |  0.2428012   |  0.1231911   |\n",
              "| -0.14827804  | -0.29891465  |  0.044952254 |  0.237345770 |  0.20132326  |  0.04704420  |  0.42810675  |  0.16972255  |  0.2197160   |  0.1780739   |\n",
              "| -0.16632621  | -0.30600266  |  0.220774267 |  0.245155707 |  0.02261354  |  0.12757186  |  0.16972255  |  0.44228277  |  0.1521830   |  0.2192238   |\n",
              "| -0.28424641  | -0.18594950  |  0.138622268 |  0.119819354 |  0.12589831  |  0.24280124  |  0.21971599  |  0.15218301  |  0.4418562   |  0.1680818   |\n",
              "| -0.23787901  | -0.19864885  |  0.134192262 |  0.110664009 |  0.21774710  |  0.12319108  |  0.17807393  |  0.21922376  |  0.1680818   |  0.4223641   |\n",
              "\n"
            ],
            "text/plain": [
              "      [,1]        [,2]        [,3]         [,4]         [,5]        [,6]       \n",
              " [1,]  0.59556097  0.15730213 -0.164119413 -0.083624565 -0.13059083 -0.26455749\n",
              " [2,]  0.15730213  0.80245865 -0.132863260 -0.241250738 -0.11196840 -0.08730803\n",
              " [3,] -0.16411941 -0.13286326  0.471094211  0.006928037  0.03264668  0.21954371\n",
              " [4,] -0.08362457 -0.24125074  0.006928037  0.492095721 -0.01030797  0.02039033\n",
              " [5,] -0.13059083 -0.11196840  0.032646682 -0.010307967  0.45645878  0.04812709\n",
              " [6,] -0.26455749 -0.08730803  0.219543709  0.020390333  0.04812709  0.42768015\n",
              " [7,] -0.14827804 -0.29891465  0.044952254  0.237345770  0.20132326  0.04704420\n",
              " [8,] -0.16632621 -0.30600266  0.220774267  0.245155707  0.02261354  0.12757186\n",
              " [9,] -0.28424641 -0.18594950  0.138622268  0.119819354  0.12589831  0.24280124\n",
              "[10,] -0.23787901 -0.19864885  0.134192262  0.110664009  0.21774710  0.12319108\n",
              "      [,7]        [,8]        [,9]       [,10]     \n",
              " [1,] -0.14827804 -0.16632621 -0.2842464 -0.2378790\n",
              " [2,] -0.29891465 -0.30600266 -0.1859495 -0.1986488\n",
              " [3,]  0.04495225  0.22077427  0.1386223  0.1341923\n",
              " [4,]  0.23734577  0.24515571  0.1198194  0.1106640\n",
              " [5,]  0.20132326  0.02261354  0.1258983  0.2177471\n",
              " [6,]  0.04704420  0.12757186  0.2428012  0.1231911\n",
              " [7,]  0.42810675  0.16972255  0.2197160  0.1780739\n",
              " [8,]  0.16972255  0.44228277  0.1521830  0.2192238\n",
              " [9,]  0.21971599  0.15218301  0.4418562  0.1680818\n",
              "[10,]  0.17807393  0.21922376  0.1680818  0.4223641"
            ]
          },
          "metadata": {},
          "output_type": "display_data"
        },
        {
          "data": {
            "text/html": [
              "<ol class=list-inline>\n",
              "\t<li>0.0578115770821034</li>\n",
              "\t<li>0.0158085581151144</li>\n",
              "\t<li>0.0870824309247228</li>\n",
              "\t<li>0.144639692852925</li>\n",
              "\t<li>0.143786506530158</li>\n",
              "\t<li>0.115434468727441</li>\n",
              "\t<li>0.116287655050209</li>\n",
              "\t<li>0.155271707028944</li>\n",
              "</ol>\n"
            ],
            "text/latex": [
              "\\begin{enumerate*}\n",
              "\\item 0.0578115770821034\n",
              "\\item 0.0158085581151144\n",
              "\\item 0.0870824309247228\n",
              "\\item 0.144639692852925\n",
              "\\item 0.143786506530158\n",
              "\\item 0.115434468727441\n",
              "\\item 0.116287655050209\n",
              "\\item 0.155271707028944\n",
              "\\end{enumerate*}\n"
            ],
            "text/markdown": [
              "1. 0.0578115770821034\n",
              "2. 0.0158085581151144\n",
              "3. 0.0870824309247228\n",
              "4. 0.144639692852925\n",
              "5. 0.143786506530158\n",
              "6. 0.115434468727441\n",
              "7. 0.116287655050209\n",
              "8. 0.155271707028944\n",
              "\n",
              "\n"
            ],
            "text/plain": [
              "[1] 0.05781158 0.01580856 0.08708243 0.14463969 0.14378651 0.11543447 0.11628766\n",
              "[8] 0.15527171"
            ]
          },
          "metadata": {},
          "output_type": "display_data"
        },
        {
          "data": {
            "text/html": [
              "<ol class=list-inline>\n",
              "\t<li>0.240440381554562</li>\n",
              "\t<li>0.125732088645319</li>\n",
              "\t<li>0.295097324496043</li>\n",
              "\t<li>0.380315254562481</li>\n",
              "\t<li>0.379191912532636</li>\n",
              "\t<li>0.33975648445238</li>\n",
              "\t<li>0.341009757998519</li>\n",
              "\t<li>0.39404531088308</li>\n",
              "</ol>\n"
            ],
            "text/latex": [
              "\\begin{enumerate*}\n",
              "\\item 0.240440381554562\n",
              "\\item 0.125732088645319\n",
              "\\item 0.295097324496043\n",
              "\\item 0.380315254562481\n",
              "\\item 0.379191912532636\n",
              "\\item 0.33975648445238\n",
              "\\item 0.341009757998519\n",
              "\\item 0.39404531088308\n",
              "\\end{enumerate*}\n"
            ],
            "text/markdown": [
              "1. 0.240440381554562\n",
              "2. 0.125732088645319\n",
              "3. 0.295097324496043\n",
              "4. 0.380315254562481\n",
              "5. 0.379191912532636\n",
              "6. 0.33975648445238\n",
              "7. 0.341009757998519\n",
              "8. 0.39404531088308\n",
              "\n",
              "\n"
            ],
            "text/plain": [
              "[1] 0.2404404 0.1257321 0.2950973 0.3803153 0.3791919 0.3397565 0.3410098\n",
              "[8] 0.3940453"
            ]
          },
          "metadata": {},
          "output_type": "display_data"
        }
      ],
      "execution_count": 10
    },
    {
      "cell_type": "markdown",
      "source": "4. Estimation of variance parameters.",
      "metadata": {}
    },
    {
      "cell_type": "code",
      "source": "var(y)",
      "metadata": {},
      "outputs": [
        {
          "data": {
            "text/html": [
              "<table>\n",
              "<tbody>\n",
              "\t<tr><td>0.678</td></tr>\n",
              "</tbody>\n",
              "</table>\n"
            ],
            "text/latex": [
              "\\begin{tabular}{l}\n",
              "\t 0.678\\\\\n",
              "\\end{tabular}\n"
            ],
            "text/markdown": [
              "\n",
              "| 0.678 |\n",
              "\n"
            ],
            "text/plain": [
              "     [,1] \n",
              "[1,] 0.678"
            ]
          },
          "metadata": {},
          "output_type": "display_data"
        }
      ],
      "execution_count": 11
    },
    {
      "cell_type": "code",
      "source": "sigma_a = 1.01  #starting value for random effect\nsigma_e = 10.01 #starting value for error variance",
      "metadata": {},
      "outputs": [],
      "execution_count": 15
    },
    {
      "cell_type": "code",
      "source": "EM = function(y, X, Z, A, sigma_a, sigma_e) {\n  n = nrow(X)\n  p = ncol(X) \n  q = nrow(A) \n  \n  t = 1 #iteration number 1\n  tmp = 0.1 #test for convergance\n  \n  while (tmp > 0.00001) {\n    mme_new = mme(y, X, Z, A, sigma_a, sigma_e)\n    C_new = ginv(mme_new$C)\n    Ck = C_new[(p+1):(p+q), (p+1):(p+q)]\n    mme2 = mme_new$est\n    \n    a = as.matrix(mme2[(p+1):(p+q)])\n    sigma_a_new = (t(a)%*%ginv(A)%*%a + sum(diag(ginv(A)%*%Ck))*c(sigma_e))/q\n    \n    res = as.matrix(y-X%*%as.matrix(mme2[1:p]) - Z%*%as.matrix(mme2[(p+1):(p+q)]))\n    X.tmp1 = cbind(X,Z) %*% C_new\n    X.tmp2 = t(cbind(X,Z))\n    sigma_e_new = (t(res)%*%res + sum(diag(X.tmp1%*%X.tmp2))*c(sigma_e))/n\n    \n    tmp = max(abs(sigma_a - sigma_a_new), abs(sigma_e - sigma_e_new))\n    sigma_a = sigma_a_new\n    sigma_e = sigma_e_new\n    \n    t = t + 1\n  }\n  list(t = t, sigma_a = sigma_a, sigma_e = sigma_e)\n}",
      "metadata": {},
      "outputs": [],
      "execution_count": 13
    },
    {
      "cell_type": "markdown",
      "source": "$y=X\\beta+Za+\\epsilon$",
      "metadata": {}
    },
    {
      "cell_type": "markdown",
      "source": "$\\epsilon = y - X\\beta - Za$",
      "metadata": {}
    },
    {
      "cell_type": "markdown",
      "source": "#### $\\sigma^{2}_{\\epsilon[t+1]} = \\frac{\\widehat{\\epsilon}^{'}_{[t]}\\widehat{\\epsilon}_{[t]} + tr([X, Z]C^{22}_{[t]}[X, Z]^{'})\\cdot\\sigma^{2}_{\\epsilon[t]}}{n}$",
      "metadata": {}
    },
    {
      "cell_type": "markdown",
      "source": "#### $\\sigma^{2}_{a[t+1]} = \\frac{\\widehat{a}^{'}_{[t]}A^{-1}\\widehat{a}_{[t]} + tr(A^{-1}C^{22}_{[t]})\\cdot\\sigma^{2}_{\\epsilon[t]}}{q}$",
      "metadata": {}
    },
    {
      "cell_type": "code",
      "source": "(wyniki = EM(y, X, Z, A, sigma_a, sigma_e))\nwyniki$sigma_a+wyniki$sigma_e\nvar(y)",
      "metadata": {
        "scrolled": true
      },
      "outputs": [
        {
          "data": {
            "text/html": [
              "<dl>\n",
              "\t<dt>$t</dt>\n",
              "\t\t<dd>206</dd>\n",
              "\t<dt>$sigma_a</dt>\n",
              "\t\t<dd><table>\n",
              "<tbody>\n",
              "\t<tr><td>0.6555048</td></tr>\n",
              "</tbody>\n",
              "</table>\n",
              "</dd>\n",
              "\t<dt>$sigma_e</dt>\n",
              "\t\t<dd><table>\n",
              "<tbody>\n",
              "\t<tr><td>0.0180315</td></tr>\n",
              "</tbody>\n",
              "</table>\n",
              "</dd>\n",
              "</dl>\n"
            ],
            "text/latex": [
              "\\begin{description}\n",
              "\\item[\\$t] 206\n",
              "\\item[\\$sigma\\_a] \\begin{tabular}{l}\n",
              "\t 0.6555048\\\\\n",
              "\\end{tabular}\n",
              "\n",
              "\\item[\\$sigma\\_e] \\begin{tabular}{l}\n",
              "\t 0.0180315\\\\\n",
              "\\end{tabular}\n",
              "\n",
              "\\end{description}\n"
            ],
            "text/markdown": [
              "$t\n",
              ":   206\n",
              "$sigma_a\n",
              ":   \n",
              "| 0.6555048 |\n",
              "\n",
              "\n",
              "$sigma_e\n",
              ":   \n",
              "| 0.0180315 |\n",
              "\n",
              "\n",
              "\n",
              "\n"
            ],
            "text/plain": [
              "$t\n",
              "[1] 206\n",
              "\n",
              "$sigma_a\n",
              "          [,1]\n",
              "[1,] 0.6555048\n",
              "\n",
              "$sigma_e\n",
              "          [,1]\n",
              "[1,] 0.0180315\n"
            ]
          },
          "metadata": {},
          "output_type": "display_data"
        },
        {
          "data": {
            "text/html": [
              "<table>\n",
              "<tbody>\n",
              "\t<tr><td>0.6735363</td></tr>\n",
              "</tbody>\n",
              "</table>\n"
            ],
            "text/latex": [
              "\\begin{tabular}{l}\n",
              "\t 0.6735363\\\\\n",
              "\\end{tabular}\n"
            ],
            "text/markdown": [
              "\n",
              "| 0.6735363 |\n",
              "\n"
            ],
            "text/plain": [
              "     [,1]     \n",
              "[1,] 0.6735363"
            ]
          },
          "metadata": {},
          "output_type": "display_data"
        },
        {
          "data": {
            "text/html": [
              "<table>\n",
              "<tbody>\n",
              "\t<tr><td>0.678</td></tr>\n",
              "</tbody>\n",
              "</table>\n"
            ],
            "text/latex": [
              "\\begin{tabular}{l}\n",
              "\t 0.678\\\\\n",
              "\\end{tabular}\n"
            ],
            "text/markdown": [
              "\n",
              "| 0.678 |\n",
              "\n"
            ],
            "text/plain": [
              "     [,1] \n",
              "[1,] 0.678"
            ]
          },
          "metadata": {},
          "output_type": "display_data"
        }
      ],
      "execution_count": 17
    },
    {
      "cell_type": "markdown",
      "source": "5. Heritability.",
      "metadata": {}
    },
    {
      "cell_type": "code",
      "source": "(h2 = 0.6555048 / (0.6555048 + 0.0180315))",
      "metadata": {},
      "outputs": [
        {
          "data": {
            "text/html": [
              "0.973228614404302"
            ],
            "text/latex": [
              "0.973228614404302"
            ],
            "text/markdown": [
              "0.973228614404302"
            ],
            "text/plain": [
              "[1] 0.9732286"
            ]
          },
          "metadata": {},
          "output_type": "display_data"
        }
      ],
      "execution_count": 18
    },
    {
      "cell_type": "code",
      "source": "cbind(mme(y, X, Z, A, wyniki$sigma_a, wyniki$sigma_e)$est,\n      mme(y, X, Z, A, 20, 40)$est)[3:10,]\n\ncor(cbind(mme(y, X, Z, A, wyniki$sigma_a, wyniki$sigma_e)$est,\n      mme(y, X, Z, A, 20, 40)$est)[3:10,])",
      "metadata": {
        "scrolled": true
      },
      "outputs": [
        {
          "data": {
            "text/html": [
              "<table>\n",
              "<tbody>\n",
              "\t<tr><td> 0.27628267 </td><td> 0.098444576</td></tr>\n",
              "\t<tr><td>-0.12980570 </td><td>-0.018770099</td></tr>\n",
              "\t<tr><td>-0.08638891 </td><td>-0.041084203</td></tr>\n",
              "\t<tr><td> 0.04800924 </td><td>-0.008663123</td></tr>\n",
              "\t<tr><td>-0.57427373 </td><td>-0.185732099</td></tr>\n",
              "\t<tr><td> 0.40960922 </td><td> 0.176872088</td></tr>\n",
              "\t<tr><td>-0.90253116 </td><td>-0.249458555</td></tr>\n",
              "\t<tr><td> 0.54139768 </td><td> 0.182614688</td></tr>\n",
              "</tbody>\n",
              "</table>\n"
            ],
            "text/latex": [
              "\\begin{tabular}{ll}\n",
              "\t  0.27628267  &  0.098444576\\\\\n",
              "\t -0.12980570  & -0.018770099\\\\\n",
              "\t -0.08638891  & -0.041084203\\\\\n",
              "\t  0.04800924  & -0.008663123\\\\\n",
              "\t -0.57427373  & -0.185732099\\\\\n",
              "\t  0.40960922  &  0.176872088\\\\\n",
              "\t -0.90253116  & -0.249458555\\\\\n",
              "\t  0.54139768  &  0.182614688\\\\\n",
              "\\end{tabular}\n"
            ],
            "text/markdown": [
              "\n",
              "|  0.27628267  |  0.098444576 |\n",
              "| -0.12980570  | -0.018770099 |\n",
              "| -0.08638891  | -0.041084203 |\n",
              "|  0.04800924  | -0.008663123 |\n",
              "| -0.57427373  | -0.185732099 |\n",
              "|  0.40960922  |  0.176872088 |\n",
              "| -0.90253116  | -0.249458555 |\n",
              "|  0.54139768  |  0.182614688 |\n",
              "\n"
            ],
            "text/plain": [
              "     [,1]        [,2]        \n",
              "[1,]  0.27628267  0.098444576\n",
              "[2,] -0.12980570 -0.018770099\n",
              "[3,] -0.08638891 -0.041084203\n",
              "[4,]  0.04800924 -0.008663123\n",
              "[5,] -0.57427373 -0.185732099\n",
              "[6,]  0.40960922  0.176872088\n",
              "[7,] -0.90253116 -0.249458555\n",
              "[8,]  0.54139768  0.182614688"
            ]
          },
          "metadata": {},
          "output_type": "display_data"
        },
        {
          "data": {
            "text/html": [
              "<table>\n",
              "<tbody>\n",
              "\t<tr><td>1.0000000</td><td>0.9879948</td></tr>\n",
              "\t<tr><td>0.9879948</td><td>1.0000000</td></tr>\n",
              "</tbody>\n",
              "</table>\n"
            ],
            "text/latex": [
              "\\begin{tabular}{ll}\n",
              "\t 1.0000000 & 0.9879948\\\\\n",
              "\t 0.9879948 & 1.0000000\\\\\n",
              "\\end{tabular}\n"
            ],
            "text/markdown": [
              "\n",
              "| 1.0000000 | 0.9879948 |\n",
              "| 0.9879948 | 1.0000000 |\n",
              "\n"
            ],
            "text/plain": [
              "     [,1]      [,2]     \n",
              "[1,] 1.0000000 0.9879948\n",
              "[2,] 0.9879948 1.0000000"
            ]
          },
          "metadata": {},
          "output_type": "display_data"
        }
      ],
      "execution_count": 23
    },
    {
      "cell_type": "markdown",
      "source": "6. Wald test with new $\\sigma^{2}_{a}$ i $\\sigma^{2}_{\\epsilon}$",
      "metadata": {}
    },
    {
      "cell_type": "markdown",
      "source": "6.1 old variance parameters",
      "metadata": {}
    },
    {
      "cell_type": "code",
      "source": "G = A*c(20)\nR = diag(5)*c(40)\nV = Z%*%G%*%t(Z) + R\nV\n\n(varB = ginv(t(X)%*%ginv(V)%*%X))\n(seB = sqrt(diag(varB)))\n\n(testWalda = mme(y, X, Z, A, 20, 40)$est[1:2] / seB)\n(p_value = round(2*pnorm(abs(testWalda), lower.tail = FALSE), digits = 10))",
      "metadata": {
        "scrolled": true
      },
      "outputs": [
        {
          "data": {
            "text/html": [
              "<table>\n",
              "<tbody>\n",
              "\t<tr><td>60.0</td><td> 0.0</td><td> 5  </td><td>10  </td><td> 2.5</td></tr>\n",
              "\t<tr><td> 0.0</td><td>60.0</td><td> 5  </td><td>10  </td><td> 7.5</td></tr>\n",
              "\t<tr><td> 5.0</td><td> 5.0</td><td>60  </td><td> 5  </td><td>10.0</td></tr>\n",
              "\t<tr><td>10.0</td><td>10.0</td><td> 5  </td><td>60  </td><td> 5.0</td></tr>\n",
              "\t<tr><td> 2.5</td><td> 7.5</td><td>10  </td><td> 5  </td><td>60.0</td></tr>\n",
              "</tbody>\n",
              "</table>\n"
            ],
            "text/latex": [
              "\\begin{tabular}{lllll}\n",
              "\t 60.0 &  0.0 &  5   & 10   &  2.5\\\\\n",
              "\t  0.0 & 60.0 &  5   & 10   &  7.5\\\\\n",
              "\t  5.0 &  5.0 & 60   &  5   & 10.0\\\\\n",
              "\t 10.0 & 10.0 &  5   & 60   &  5.0\\\\\n",
              "\t  2.5 &  7.5 & 10   &  5   & 60.0\\\\\n",
              "\\end{tabular}\n"
            ],
            "text/markdown": [
              "\n",
              "| 60.0 |  0.0 |  5   | 10   |  2.5 |\n",
              "|  0.0 | 60.0 |  5   | 10   |  7.5 |\n",
              "|  5.0 |  5.0 | 60   |  5   | 10.0 |\n",
              "| 10.0 | 10.0 |  5   | 60   |  5.0 |\n",
              "|  2.5 |  7.5 | 10   |  5   | 60.0 |\n",
              "\n"
            ],
            "text/plain": [
              "     [,1] [,2] [,3] [,4] [,5]\n",
              "[1,] 60.0  0.0  5   10    2.5\n",
              "[2,]  0.0 60.0  5   10    7.5\n",
              "[3,]  5.0  5.0 60    5   10.0\n",
              "[4,] 10.0 10.0  5   60    5.0\n",
              "[5,]  2.5  7.5 10    5   60.0"
            ]
          },
          "metadata": {},
          "output_type": "display_data"
        },
        {
          "data": {
            "text/html": [
              "<table>\n",
              "<tbody>\n",
              "\t<tr><td>23.822439</td><td> 6.292085</td></tr>\n",
              "\t<tr><td> 6.292085</td><td>32.098346</td></tr>\n",
              "</tbody>\n",
              "</table>\n"
            ],
            "text/latex": [
              "\\begin{tabular}{ll}\n",
              "\t 23.822439 &  6.292085\\\\\n",
              "\t  6.292085 & 32.098346\\\\\n",
              "\\end{tabular}\n"
            ],
            "text/markdown": [
              "\n",
              "| 23.822439 |  6.292085 |\n",
              "|  6.292085 | 32.098346 |\n",
              "\n"
            ],
            "text/plain": [
              "     [,1]      [,2]     \n",
              "[1,] 23.822439  6.292085\n",
              "[2,]  6.292085 32.098346"
            ]
          },
          "metadata": {},
          "output_type": "display_data"
        },
        {
          "data": {
            "text/html": [
              "<ol class=list-inline>\n",
              "\t<li>4.88082357807458</li>\n",
              "\t<li>5.66554023294586</li>\n",
              "</ol>\n"
            ],
            "text/latex": [
              "\\begin{enumerate*}\n",
              "\\item 4.88082357807458\n",
              "\\item 5.66554023294586\n",
              "\\end{enumerate*}\n"
            ],
            "text/markdown": [
              "1. 4.88082357807458\n",
              "2. 5.66554023294586\n",
              "\n",
              "\n"
            ],
            "text/plain": [
              "[1] 4.880824 5.665540"
            ]
          },
          "metadata": {},
          "output_type": "display_data"
        },
        {
          "data": {
            "text/html": [
              "<ol class=list-inline>\n",
              "\t<li>0.892985017822406</li>\n",
              "\t<li>0.600901214346598</li>\n",
              "</ol>\n"
            ],
            "text/latex": [
              "\\begin{enumerate*}\n",
              "\\item 0.892985017822406\n",
              "\\item 0.600901214346598\n",
              "\\end{enumerate*}\n"
            ],
            "text/markdown": [
              "1. 0.892985017822406\n",
              "2. 0.600901214346598\n",
              "\n",
              "\n"
            ],
            "text/plain": [
              "[1] 0.8929850 0.6009012"
            ]
          },
          "metadata": {},
          "output_type": "display_data"
        },
        {
          "data": {
            "text/html": [
              "<ol class=list-inline>\n",
              "\t<li>0.371865196</li>\n",
              "\t<li>0.5479057844</li>\n",
              "</ol>\n"
            ],
            "text/latex": [
              "\\begin{enumerate*}\n",
              "\\item 0.371865196\n",
              "\\item 0.5479057844\n",
              "\\end{enumerate*}\n"
            ],
            "text/markdown": [
              "1. 0.371865196\n",
              "2. 0.5479057844\n",
              "\n",
              "\n"
            ],
            "text/plain": [
              "[1] 0.3718652 0.5479058"
            ]
          },
          "metadata": {},
          "output_type": "display_data"
        }
      ],
      "execution_count": 27
    },
    {
      "cell_type": "markdown",
      "source": "6.2 new variance parameters",
      "metadata": {}
    },
    {
      "cell_type": "code",
      "source": "G = A*c(wyniki$sigma_a)\nR = diag(5)*c(wyniki$sigma_e)\nV = Z%*%G%*%t(Z) + R\nV\n\n(varB = ginv(t(X)%*%ginv(V)%*%X))\n(seB = sqrt(diag(varB)))\n\n(testWalda = mme(y, X, Z, A, wyniki$sigma_a, wyniki$sigma_e)$est[1:2] / seB)\n(p_value = round(2*pnorm(abs(testWalda), lower.tail = FALSE), digits = 10))",
      "metadata": {
        "scrolled": true
      },
      "outputs": [
        {
          "data": {
            "text/html": [
              "<table>\n",
              "<tbody>\n",
              "\t<tr><td>0.6735363</td><td>0.0000000</td><td>0.1638762</td><td>0.3277524</td><td>0.0819381</td></tr>\n",
              "\t<tr><td>0.0000000</td><td>0.6735363</td><td>0.1638762</td><td>0.3277524</td><td>0.2458143</td></tr>\n",
              "\t<tr><td>0.1638762</td><td>0.1638762</td><td>0.6735363</td><td>0.1638762</td><td>0.3277524</td></tr>\n",
              "\t<tr><td>0.3277524</td><td>0.3277524</td><td>0.1638762</td><td>0.6735363</td><td>0.1638762</td></tr>\n",
              "\t<tr><td>0.0819381</td><td>0.2458143</td><td>0.3277524</td><td>0.1638762</td><td>0.6735363</td></tr>\n",
              "</tbody>\n",
              "</table>\n"
            ],
            "text/latex": [
              "\\begin{tabular}{lllll}\n",
              "\t 0.6735363 & 0.0000000 & 0.1638762 & 0.3277524 & 0.0819381\\\\\n",
              "\t 0.0000000 & 0.6735363 & 0.1638762 & 0.3277524 & 0.2458143\\\\\n",
              "\t 0.1638762 & 0.1638762 & 0.6735363 & 0.1638762 & 0.3277524\\\\\n",
              "\t 0.3277524 & 0.3277524 & 0.1638762 & 0.6735363 & 0.1638762\\\\\n",
              "\t 0.0819381 & 0.2458143 & 0.3277524 & 0.1638762 & 0.6735363\\\\\n",
              "\\end{tabular}\n"
            ],
            "text/markdown": [
              "\n",
              "| 0.6735363 | 0.0000000 | 0.1638762 | 0.3277524 | 0.0819381 |\n",
              "| 0.0000000 | 0.6735363 | 0.1638762 | 0.3277524 | 0.2458143 |\n",
              "| 0.1638762 | 0.1638762 | 0.6735363 | 0.1638762 | 0.3277524 |\n",
              "| 0.3277524 | 0.3277524 | 0.1638762 | 0.6735363 | 0.1638762 |\n",
              "| 0.0819381 | 0.2458143 | 0.3277524 | 0.1638762 | 0.6735363 |\n",
              "\n"
            ],
            "text/plain": [
              "     [,1]      [,2]      [,3]      [,4]      [,5]     \n",
              "[1,] 0.6735363 0.0000000 0.1638762 0.3277524 0.0819381\n",
              "[2,] 0.0000000 0.6735363 0.1638762 0.3277524 0.2458143\n",
              "[3,] 0.1638762 0.1638762 0.6735363 0.1638762 0.3277524\n",
              "[4,] 0.3277524 0.3277524 0.1638762 0.6735363 0.1638762\n",
              "[5,] 0.0819381 0.2458143 0.3277524 0.1638762 0.6735363"
            ]
          },
          "metadata": {},
          "output_type": "display_data"
        },
        {
          "data": {
            "text/html": [
              "<table>\n",
              "<tbody>\n",
              "\t<tr><td>0.3424174</td><td>0.2026791</td></tr>\n",
              "\t<tr><td>0.2026791</td><td>0.3633763</td></tr>\n",
              "</tbody>\n",
              "</table>\n"
            ],
            "text/latex": [
              "\\begin{tabular}{ll}\n",
              "\t 0.3424174 & 0.2026791\\\\\n",
              "\t 0.2026791 & 0.3633763\\\\\n",
              "\\end{tabular}\n"
            ],
            "text/markdown": [
              "\n",
              "| 0.3424174 | 0.2026791 |\n",
              "| 0.2026791 | 0.3633763 |\n",
              "\n"
            ],
            "text/plain": [
              "     [,1]      [,2]     \n",
              "[1,] 0.3424174 0.2026791\n",
              "[2,] 0.2026791 0.3633763"
            ]
          },
          "metadata": {},
          "output_type": "display_data"
        },
        {
          "data": {
            "text/html": [
              "<ol class=list-inline>\n",
              "\t<li>0.585164379874379</li>\n",
              "\t<li>0.602807025558696</li>\n",
              "</ol>\n"
            ],
            "text/latex": [
              "\\begin{enumerate*}\n",
              "\\item 0.585164379874379\n",
              "\\item 0.602807025558696\n",
              "\\end{enumerate*}\n"
            ],
            "text/markdown": [
              "1. 0.585164379874379\n",
              "2. 0.602807025558696\n",
              "\n",
              "\n"
            ],
            "text/plain": [
              "[1] 0.5851644 0.6028070"
            ]
          },
          "metadata": {},
          "output_type": "display_data"
        },
        {
          "data": {
            "text/html": [
              "<ol class=list-inline>\n",
              "\t<li>7.58369482772432</li>\n",
              "\t<li>5.77686076576831</li>\n",
              "</ol>\n"
            ],
            "text/latex": [
              "\\begin{enumerate*}\n",
              "\\item 7.58369482772432\n",
              "\\item 5.77686076576831\n",
              "\\end{enumerate*}\n"
            ],
            "text/markdown": [
              "1. 7.58369482772432\n",
              "2. 5.77686076576831\n",
              "\n",
              "\n"
            ],
            "text/plain": [
              "[1] 7.583695 5.776861"
            ]
          },
          "metadata": {},
          "output_type": "display_data"
        },
        {
          "data": {
            "text/html": [
              "<ol class=list-inline>\n",
              "\t<li>0</li>\n",
              "\t<li>7.6e-09</li>\n",
              "</ol>\n"
            ],
            "text/latex": [
              "\\begin{enumerate*}\n",
              "\\item 0\n",
              "\\item 7.6e-09\n",
              "\\end{enumerate*}\n"
            ],
            "text/markdown": [
              "1. 0\n",
              "2. 7.6e-09\n",
              "\n",
              "\n"
            ],
            "text/plain": [
              "[1] 0.0e+00 7.6e-09"
            ]
          },
          "metadata": {},
          "output_type": "display_data"
        }
      ],
      "execution_count": 26
    },
    {
      "cell_type": "markdown",
      "source": "7. Assessment accuracy",
      "metadata": {}
    },
    {
      "cell_type": "markdown",
      "source": "7.1 old variance parameters",
      "metadata": {}
    },
    {
      "cell_type": "code",
      "source": "C = as.matrix(mme(y, X, Z, A, 20, 40)$C)\n(invC = ginv(C))\n\ninvC22 = invC[3:10, 3:10]\n(r2 = diag(1 - invC22*2))\n(r = sqrt(r2))",
      "metadata": {
        "scrolled": true
      },
      "outputs": [
        {
          "data": {
            "text/html": [
              "<table>\n",
              "<tbody>\n",
              "\t<tr><td> 0.59556097 </td><td> 0.15730213 </td><td>-0.164119413</td><td>-0.083624565</td><td>-0.13059083 </td><td>-0.26455749 </td><td>-0.14827804 </td><td>-0.16632621 </td><td>-0.2842464  </td><td>-0.2378790  </td></tr>\n",
              "\t<tr><td> 0.15730213 </td><td> 0.80245865 </td><td>-0.132863260</td><td>-0.241250738</td><td>-0.11196840 </td><td>-0.08730803 </td><td>-0.29891465 </td><td>-0.30600266 </td><td>-0.1859495  </td><td>-0.1986488  </td></tr>\n",
              "\t<tr><td>-0.16411941 </td><td>-0.13286326 </td><td> 0.471094211</td><td> 0.006928037</td><td> 0.03264668 </td><td> 0.21954371 </td><td> 0.04495225 </td><td> 0.22077427 </td><td> 0.1386223  </td><td> 0.1341923  </td></tr>\n",
              "\t<tr><td>-0.08362457 </td><td>-0.24125074 </td><td> 0.006928037</td><td> 0.492095721</td><td>-0.01030797 </td><td> 0.02039033 </td><td> 0.23734577 </td><td> 0.24515571 </td><td> 0.1198194  </td><td> 0.1106640  </td></tr>\n",
              "\t<tr><td>-0.13059083 </td><td>-0.11196840 </td><td> 0.032646682</td><td>-0.010307967</td><td> 0.45645878 </td><td> 0.04812709 </td><td> 0.20132326 </td><td> 0.02261354 </td><td> 0.1258983  </td><td> 0.2177471  </td></tr>\n",
              "\t<tr><td>-0.26455749 </td><td>-0.08730803 </td><td> 0.219543709</td><td> 0.020390333</td><td> 0.04812709 </td><td> 0.42768015 </td><td> 0.04704420 </td><td> 0.12757186 </td><td> 0.2428012  </td><td> 0.1231911  </td></tr>\n",
              "\t<tr><td>-0.14827804 </td><td>-0.29891465 </td><td> 0.044952254</td><td> 0.237345770</td><td> 0.20132326 </td><td> 0.04704420 </td><td> 0.42810675 </td><td> 0.16972255 </td><td> 0.2197160  </td><td> 0.1780739  </td></tr>\n",
              "\t<tr><td>-0.16632621 </td><td>-0.30600266 </td><td> 0.220774267</td><td> 0.245155707</td><td> 0.02261354 </td><td> 0.12757186 </td><td> 0.16972255 </td><td> 0.44228277 </td><td> 0.1521830  </td><td> 0.2192238  </td></tr>\n",
              "\t<tr><td>-0.28424641 </td><td>-0.18594950 </td><td> 0.138622268</td><td> 0.119819354</td><td> 0.12589831 </td><td> 0.24280124 </td><td> 0.21971599 </td><td> 0.15218301 </td><td> 0.4418562  </td><td> 0.1680818  </td></tr>\n",
              "\t<tr><td>-0.23787901 </td><td>-0.19864885 </td><td> 0.134192262</td><td> 0.110664009</td><td> 0.21774710 </td><td> 0.12319108 </td><td> 0.17807393 </td><td> 0.21922376 </td><td> 0.1680818  </td><td> 0.4223641  </td></tr>\n",
              "</tbody>\n",
              "</table>\n"
            ],
            "text/latex": [
              "\\begin{tabular}{llllllllll}\n",
              "\t  0.59556097  &  0.15730213  & -0.164119413 & -0.083624565 & -0.13059083  & -0.26455749  & -0.14827804  & -0.16632621  & -0.2842464   & -0.2378790  \\\\\n",
              "\t  0.15730213  &  0.80245865  & -0.132863260 & -0.241250738 & -0.11196840  & -0.08730803  & -0.29891465  & -0.30600266  & -0.1859495   & -0.1986488  \\\\\n",
              "\t -0.16411941  & -0.13286326  &  0.471094211 &  0.006928037 &  0.03264668  &  0.21954371  &  0.04495225  &  0.22077427  &  0.1386223   &  0.1341923  \\\\\n",
              "\t -0.08362457  & -0.24125074  &  0.006928037 &  0.492095721 & -0.01030797  &  0.02039033  &  0.23734577  &  0.24515571  &  0.1198194   &  0.1106640  \\\\\n",
              "\t -0.13059083  & -0.11196840  &  0.032646682 & -0.010307967 &  0.45645878  &  0.04812709  &  0.20132326  &  0.02261354  &  0.1258983   &  0.2177471  \\\\\n",
              "\t -0.26455749  & -0.08730803  &  0.219543709 &  0.020390333 &  0.04812709  &  0.42768015  &  0.04704420  &  0.12757186  &  0.2428012   &  0.1231911  \\\\\n",
              "\t -0.14827804  & -0.29891465  &  0.044952254 &  0.237345770 &  0.20132326  &  0.04704420  &  0.42810675  &  0.16972255  &  0.2197160   &  0.1780739  \\\\\n",
              "\t -0.16632621  & -0.30600266  &  0.220774267 &  0.245155707 &  0.02261354  &  0.12757186  &  0.16972255  &  0.44228277  &  0.1521830   &  0.2192238  \\\\\n",
              "\t -0.28424641  & -0.18594950  &  0.138622268 &  0.119819354 &  0.12589831  &  0.24280124  &  0.21971599  &  0.15218301  &  0.4418562   &  0.1680818  \\\\\n",
              "\t -0.23787901  & -0.19864885  &  0.134192262 &  0.110664009 &  0.21774710  &  0.12319108  &  0.17807393  &  0.21922376  &  0.1680818   &  0.4223641  \\\\\n",
              "\\end{tabular}\n"
            ],
            "text/markdown": [
              "\n",
              "|  0.59556097  |  0.15730213  | -0.164119413 | -0.083624565 | -0.13059083  | -0.26455749  | -0.14827804  | -0.16632621  | -0.2842464   | -0.2378790   |\n",
              "|  0.15730213  |  0.80245865  | -0.132863260 | -0.241250738 | -0.11196840  | -0.08730803  | -0.29891465  | -0.30600266  | -0.1859495   | -0.1986488   |\n",
              "| -0.16411941  | -0.13286326  |  0.471094211 |  0.006928037 |  0.03264668  |  0.21954371  |  0.04495225  |  0.22077427  |  0.1386223   |  0.1341923   |\n",
              "| -0.08362457  | -0.24125074  |  0.006928037 |  0.492095721 | -0.01030797  |  0.02039033  |  0.23734577  |  0.24515571  |  0.1198194   |  0.1106640   |\n",
              "| -0.13059083  | -0.11196840  |  0.032646682 | -0.010307967 |  0.45645878  |  0.04812709  |  0.20132326  |  0.02261354  |  0.1258983   |  0.2177471   |\n",
              "| -0.26455749  | -0.08730803  |  0.219543709 |  0.020390333 |  0.04812709  |  0.42768015  |  0.04704420  |  0.12757186  |  0.2428012   |  0.1231911   |\n",
              "| -0.14827804  | -0.29891465  |  0.044952254 |  0.237345770 |  0.20132326  |  0.04704420  |  0.42810675  |  0.16972255  |  0.2197160   |  0.1780739   |\n",
              "| -0.16632621  | -0.30600266  |  0.220774267 |  0.245155707 |  0.02261354  |  0.12757186  |  0.16972255  |  0.44228277  |  0.1521830   |  0.2192238   |\n",
              "| -0.28424641  | -0.18594950  |  0.138622268 |  0.119819354 |  0.12589831  |  0.24280124  |  0.21971599  |  0.15218301  |  0.4418562   |  0.1680818   |\n",
              "| -0.23787901  | -0.19864885  |  0.134192262 |  0.110664009 |  0.21774710  |  0.12319108  |  0.17807393  |  0.21922376  |  0.1680818   |  0.4223641   |\n",
              "\n"
            ],
            "text/plain": [
              "      [,1]        [,2]        [,3]         [,4]         [,5]        [,6]       \n",
              " [1,]  0.59556097  0.15730213 -0.164119413 -0.083624565 -0.13059083 -0.26455749\n",
              " [2,]  0.15730213  0.80245865 -0.132863260 -0.241250738 -0.11196840 -0.08730803\n",
              " [3,] -0.16411941 -0.13286326  0.471094211  0.006928037  0.03264668  0.21954371\n",
              " [4,] -0.08362457 -0.24125074  0.006928037  0.492095721 -0.01030797  0.02039033\n",
              " [5,] -0.13059083 -0.11196840  0.032646682 -0.010307967  0.45645878  0.04812709\n",
              " [6,] -0.26455749 -0.08730803  0.219543709  0.020390333  0.04812709  0.42768015\n",
              " [7,] -0.14827804 -0.29891465  0.044952254  0.237345770  0.20132326  0.04704420\n",
              " [8,] -0.16632621 -0.30600266  0.220774267  0.245155707  0.02261354  0.12757186\n",
              " [9,] -0.28424641 -0.18594950  0.138622268  0.119819354  0.12589831  0.24280124\n",
              "[10,] -0.23787901 -0.19864885  0.134192262  0.110664009  0.21774710  0.12319108\n",
              "      [,7]        [,8]        [,9]       [,10]     \n",
              " [1,] -0.14827804 -0.16632621 -0.2842464 -0.2378790\n",
              " [2,] -0.29891465 -0.30600266 -0.1859495 -0.1986488\n",
              " [3,]  0.04495225  0.22077427  0.1386223  0.1341923\n",
              " [4,]  0.23734577  0.24515571  0.1198194  0.1106640\n",
              " [5,]  0.20132326  0.02261354  0.1258983  0.2177471\n",
              " [6,]  0.04704420  0.12757186  0.2428012  0.1231911\n",
              " [7,]  0.42810675  0.16972255  0.2197160  0.1780739\n",
              " [8,]  0.16972255  0.44228277  0.1521830  0.2192238\n",
              " [9,]  0.21971599  0.15218301  0.4418562  0.1680818\n",
              "[10,]  0.17807393  0.21922376  0.1680818  0.4223641"
            ]
          },
          "metadata": {},
          "output_type": "display_data"
        },
        {
          "data": {
            "text/html": [
              "<ol class=list-inline>\n",
              "\t<li>0.0578115770821034</li>\n",
              "\t<li>0.0158085581151151</li>\n",
              "\t<li>0.0870824309247229</li>\n",
              "\t<li>0.144639692852924</li>\n",
              "\t<li>0.143786506530158</li>\n",
              "\t<li>0.115434468727441</li>\n",
              "\t<li>0.116287655050208</li>\n",
              "\t<li>0.155271707028943</li>\n",
              "</ol>\n"
            ],
            "text/latex": [
              "\\begin{enumerate*}\n",
              "\\item 0.0578115770821034\n",
              "\\item 0.0158085581151151\n",
              "\\item 0.0870824309247229\n",
              "\\item 0.144639692852924\n",
              "\\item 0.143786506530158\n",
              "\\item 0.115434468727441\n",
              "\\item 0.116287655050208\n",
              "\\item 0.155271707028943\n",
              "\\end{enumerate*}\n"
            ],
            "text/markdown": [
              "1. 0.0578115770821034\n",
              "2. 0.0158085581151151\n",
              "3. 0.0870824309247229\n",
              "4. 0.144639692852924\n",
              "5. 0.143786506530158\n",
              "6. 0.115434468727441\n",
              "7. 0.116287655050208\n",
              "8. 0.155271707028943\n",
              "\n",
              "\n"
            ],
            "text/plain": [
              "[1] 0.05781158 0.01580856 0.08708243 0.14463969 0.14378651 0.11543447 0.11628766\n",
              "[8] 0.15527171"
            ]
          },
          "metadata": {},
          "output_type": "display_data"
        },
        {
          "data": {
            "text/html": [
              "<ol class=list-inline>\n",
              "\t<li>0.240440381554562</li>\n",
              "\t<li>0.125732088645322</li>\n",
              "\t<li>0.295097324496043</li>\n",
              "\t<li>0.38031525456248</li>\n",
              "\t<li>0.379191912532636</li>\n",
              "\t<li>0.33975648445238</li>\n",
              "\t<li>0.341009757998518</li>\n",
              "\t<li>0.39404531088308</li>\n",
              "</ol>\n"
            ],
            "text/latex": [
              "\\begin{enumerate*}\n",
              "\\item 0.240440381554562\n",
              "\\item 0.125732088645322\n",
              "\\item 0.295097324496043\n",
              "\\item 0.38031525456248\n",
              "\\item 0.379191912532636\n",
              "\\item 0.33975648445238\n",
              "\\item 0.341009757998518\n",
              "\\item 0.39404531088308\n",
              "\\end{enumerate*}\n"
            ],
            "text/markdown": [
              "1. 0.240440381554562\n",
              "2. 0.125732088645322\n",
              "3. 0.295097324496043\n",
              "4. 0.38031525456248\n",
              "5. 0.379191912532636\n",
              "6. 0.33975648445238\n",
              "7. 0.341009757998518\n",
              "8. 0.39404531088308\n",
              "\n",
              "\n"
            ],
            "text/plain": [
              "[1] 0.2404404 0.1257321 0.2950973 0.3803153 0.3791919 0.3397565 0.3410098\n",
              "[8] 0.3940453"
            ]
          },
          "metadata": {},
          "output_type": "display_data"
        }
      ],
      "execution_count": 45
    },
    {
      "cell_type": "markdown",
      "source": "7.2 new variance parameters",
      "metadata": {}
    },
    {
      "cell_type": "code",
      "source": "C = as.matrix(mme(y, X, Z, A, wyniki$sigma_a, wyniki$sigma_e)$C)\n(invC = ginv(C))\n\ninvC22 = invC[3:10, 3:10]\nalpha = wyniki$sigma_e / wyniki$sigma_a\n(r2_new = diag(1 - invC22*c(alpha)))\n(r_new = sqrt(r2_new))",
      "metadata": {
        "scrolled": true
      },
      "outputs": [
        {
          "data": {
            "text/html": [
              "<table>\n",
              "<tbody>\n",
              "\t<tr><td> 18.989954</td><td> 11.240278</td><td>-11.367991</td><td> -5.744381</td><td>-10.615597</td><td>-18.622016</td><td>-11.181726</td><td>-11.298831</td><td>-18.776774</td><td>-18.571073</td></tr>\n",
              "\t<tr><td> 11.240278</td><td> 20.152307</td><td>-10.550520</td><td>-15.341541</td><td> -6.692544</td><td>-10.928327</td><td>-19.576775</td><td>-19.727839</td><td>-11.449505</td><td>-11.343003</td></tr>\n",
              "\t<tr><td>-11.367991</td><td>-10.550520</td><td> 29.600734</td><td>  1.216585</td><td>  7.735006</td><td> 11.501854</td><td> 10.245954</td><td> 10.855086</td><td> 11.342226</td><td> 11.259894</td></tr>\n",
              "\t<tr><td> -5.744381</td><td>-15.341541</td><td>  1.216585</td><td> 33.648374</td><td> -1.737283</td><td>  5.446753</td><td> 15.259658</td><td> 15.423424</td><td>  5.984717</td><td>  5.801674</td></tr>\n",
              "\t<tr><td>-10.615597</td><td> -6.692544</td><td>  7.735006</td><td> -1.737283</td><td> 25.984301</td><td> 10.424441</td><td>  7.022512</td><td>  6.362575</td><td> 10.516929</td><td> 10.905420</td></tr>\n",
              "\t<tr><td>-18.622016</td><td>-10.928327</td><td> 11.501854</td><td>  5.446753</td><td> 10.424441</td><td> 19.221329</td><td> 10.860765</td><td> 10.995889</td><td> 18.435280</td><td> 18.209439</td></tr>\n",
              "\t<tr><td>-11.181726</td><td>-19.576775</td><td> 10.245954</td><td> 15.259658</td><td>  7.022512</td><td> 10.860765</td><td> 19.979981</td><td> 19.173568</td><td> 11.402758</td><td> 11.281656</td></tr>\n",
              "\t<tr><td>-11.298831</td><td>-19.727839</td><td> 10.855086</td><td> 15.423424</td><td>  6.362575</td><td> 10.995889</td><td> 19.173568</td><td> 20.282111</td><td> 11.496253</td><td> 11.404350</td></tr>\n",
              "\t<tr><td>-18.776774</td><td>-11.449505</td><td> 11.342226</td><td>  5.984717</td><td> 10.516929</td><td> 18.435280</td><td> 11.402758</td><td> 11.496253</td><td> 19.523458</td><td> 18.371585</td></tr>\n",
              "\t<tr><td>-18.571073</td><td>-11.343003</td><td> 11.259894</td><td>  5.801674</td><td> 10.905420</td><td> 18.209439</td><td> 11.281656</td><td> 11.404350</td><td> 18.371585</td><td> 19.132197</td></tr>\n",
              "</tbody>\n",
              "</table>\n"
            ],
            "text/latex": [
              "\\begin{tabular}{llllllllll}\n",
              "\t  18.989954 &  11.240278 & -11.367991 &  -5.744381 & -10.615597 & -18.622016 & -11.181726 & -11.298831 & -18.776774 & -18.571073\\\\\n",
              "\t  11.240278 &  20.152307 & -10.550520 & -15.341541 &  -6.692544 & -10.928327 & -19.576775 & -19.727839 & -11.449505 & -11.343003\\\\\n",
              "\t -11.367991 & -10.550520 &  29.600734 &   1.216585 &   7.735006 &  11.501854 &  10.245954 &  10.855086 &  11.342226 &  11.259894\\\\\n",
              "\t  -5.744381 & -15.341541 &   1.216585 &  33.648374 &  -1.737283 &   5.446753 &  15.259658 &  15.423424 &   5.984717 &   5.801674\\\\\n",
              "\t -10.615597 &  -6.692544 &   7.735006 &  -1.737283 &  25.984301 &  10.424441 &   7.022512 &   6.362575 &  10.516929 &  10.905420\\\\\n",
              "\t -18.622016 & -10.928327 &  11.501854 &   5.446753 &  10.424441 &  19.221329 &  10.860765 &  10.995889 &  18.435280 &  18.209439\\\\\n",
              "\t -11.181726 & -19.576775 &  10.245954 &  15.259658 &   7.022512 &  10.860765 &  19.979981 &  19.173568 &  11.402758 &  11.281656\\\\\n",
              "\t -11.298831 & -19.727839 &  10.855086 &  15.423424 &   6.362575 &  10.995889 &  19.173568 &  20.282111 &  11.496253 &  11.404350\\\\\n",
              "\t -18.776774 & -11.449505 &  11.342226 &   5.984717 &  10.516929 &  18.435280 &  11.402758 &  11.496253 &  19.523458 &  18.371585\\\\\n",
              "\t -18.571073 & -11.343003 &  11.259894 &   5.801674 &  10.905420 &  18.209439 &  11.281656 &  11.404350 &  18.371585 &  19.132197\\\\\n",
              "\\end{tabular}\n"
            ],
            "text/markdown": [
              "\n",
              "|  18.989954 |  11.240278 | -11.367991 |  -5.744381 | -10.615597 | -18.622016 | -11.181726 | -11.298831 | -18.776774 | -18.571073 |\n",
              "|  11.240278 |  20.152307 | -10.550520 | -15.341541 |  -6.692544 | -10.928327 | -19.576775 | -19.727839 | -11.449505 | -11.343003 |\n",
              "| -11.367991 | -10.550520 |  29.600734 |   1.216585 |   7.735006 |  11.501854 |  10.245954 |  10.855086 |  11.342226 |  11.259894 |\n",
              "|  -5.744381 | -15.341541 |   1.216585 |  33.648374 |  -1.737283 |   5.446753 |  15.259658 |  15.423424 |   5.984717 |   5.801674 |\n",
              "| -10.615597 |  -6.692544 |   7.735006 |  -1.737283 |  25.984301 |  10.424441 |   7.022512 |   6.362575 |  10.516929 |  10.905420 |\n",
              "| -18.622016 | -10.928327 |  11.501854 |   5.446753 |  10.424441 |  19.221329 |  10.860765 |  10.995889 |  18.435280 |  18.209439 |\n",
              "| -11.181726 | -19.576775 |  10.245954 |  15.259658 |   7.022512 |  10.860765 |  19.979981 |  19.173568 |  11.402758 |  11.281656 |\n",
              "| -11.298831 | -19.727839 |  10.855086 |  15.423424 |   6.362575 |  10.995889 |  19.173568 |  20.282111 |  11.496253 |  11.404350 |\n",
              "| -18.776774 | -11.449505 |  11.342226 |   5.984717 |  10.516929 |  18.435280 |  11.402758 |  11.496253 |  19.523458 |  18.371585 |\n",
              "| -18.571073 | -11.343003 |  11.259894 |   5.801674 |  10.905420 |  18.209439 |  11.281656 |  11.404350 |  18.371585 |  19.132197 |\n",
              "\n"
            ],
            "text/plain": [
              "      [,1]       [,2]       [,3]       [,4]       [,5]       [,6]      \n",
              " [1,]  18.989954  11.240278 -11.367991  -5.744381 -10.615597 -18.622016\n",
              " [2,]  11.240278  20.152307 -10.550520 -15.341541  -6.692544 -10.928327\n",
              " [3,] -11.367991 -10.550520  29.600734   1.216585   7.735006  11.501854\n",
              " [4,]  -5.744381 -15.341541   1.216585  33.648374  -1.737283   5.446753\n",
              " [5,] -10.615597  -6.692544   7.735006  -1.737283  25.984301  10.424441\n",
              " [6,] -18.622016 -10.928327  11.501854   5.446753  10.424441  19.221329\n",
              " [7,] -11.181726 -19.576775  10.245954  15.259658   7.022512  10.860765\n",
              " [8,] -11.298831 -19.727839  10.855086  15.423424   6.362575  10.995889\n",
              " [9,] -18.776774 -11.449505  11.342226   5.984717  10.516929  18.435280\n",
              "[10,] -18.571073 -11.343003  11.259894   5.801674  10.905420  18.209439\n",
              "      [,7]       [,8]       [,9]       [,10]     \n",
              " [1,] -11.181726 -11.298831 -18.776774 -18.571073\n",
              " [2,] -19.576775 -19.727839 -11.449505 -11.343003\n",
              " [3,]  10.245954  10.855086  11.342226  11.259894\n",
              " [4,]  15.259658  15.423424   5.984717   5.801674\n",
              " [5,]   7.022512   6.362575  10.516929  10.905420\n",
              " [6,]  10.860765  10.995889  18.435280  18.209439\n",
              " [7,]  19.979981  19.173568  11.402758  11.281656\n",
              " [8,]  19.173568  20.282111  11.496253  11.404350\n",
              " [9,]  11.402758  11.496253  19.523458  18.371585\n",
              "[10,]  11.281656  11.404350  18.371585  19.132197"
            ]
          },
          "metadata": {},
          "output_type": "display_data"
        },
        {
          "data": {
            "text/html": [
              "<ol class=list-inline>\n",
              "\t<li>0.185748725379059</li>\n",
              "\t<li>0.0744070371023469</li>\n",
              "\t<li>0.285228865386968</li>\n",
              "\t<li>0.471263400230159</li>\n",
              "\t<li>0.450394526946164</li>\n",
              "\t<li>0.44208360809473</li>\n",
              "\t<li>0.462952481378724</li>\n",
              "\t<li>0.473715230079351</li>\n",
              "</ol>\n"
            ],
            "text/latex": [
              "\\begin{enumerate*}\n",
              "\\item 0.185748725379059\n",
              "\\item 0.0744070371023469\n",
              "\\item 0.285228865386968\n",
              "\\item 0.471263400230159\n",
              "\\item 0.450394526946164\n",
              "\\item 0.44208360809473\n",
              "\\item 0.462952481378724\n",
              "\\item 0.473715230079351\n",
              "\\end{enumerate*}\n"
            ],
            "text/markdown": [
              "1. 0.185748725379059\n",
              "2. 0.0744070371023469\n",
              "3. 0.285228865386968\n",
              "4. 0.471263400230159\n",
              "5. 0.450394526946164\n",
              "6. 0.44208360809473\n",
              "7. 0.462952481378724\n",
              "8. 0.473715230079351\n",
              "\n",
              "\n"
            ],
            "text/plain": [
              "[1] 0.18574873 0.07440704 0.28522887 0.47126340 0.45039453 0.44208361 0.46295248\n",
              "[8] 0.47371523"
            ]
          },
          "metadata": {},
          "output_type": "display_data"
        },
        {
          "data": {
            "text/html": [
              "<ol class=list-inline>\n",
              "\t<li>0.430985760065293</li>\n",
              "\t<li>0.27277653326917</li>\n",
              "\t<li>0.5340682216599</li>\n",
              "\t<li>0.6864862709699</li>\n",
              "\t<li>0.671114391848487</li>\n",
              "\t<li>0.664893681797872</li>\n",
              "\t<li>0.680406115036251</li>\n",
              "\t<li>0.68826973642559</li>\n",
              "</ol>\n"
            ],
            "text/latex": [
              "\\begin{enumerate*}\n",
              "\\item 0.430985760065293\n",
              "\\item 0.27277653326917\n",
              "\\item 0.5340682216599\n",
              "\\item 0.6864862709699\n",
              "\\item 0.671114391848487\n",
              "\\item 0.664893681797872\n",
              "\\item 0.680406115036251\n",
              "\\item 0.68826973642559\n",
              "\\end{enumerate*}\n"
            ],
            "text/markdown": [
              "1. 0.430985760065293\n",
              "2. 0.27277653326917\n",
              "3. 0.5340682216599\n",
              "4. 0.6864862709699\n",
              "5. 0.671114391848487\n",
              "6. 0.664893681797872\n",
              "7. 0.680406115036251\n",
              "8. 0.68826973642559\n",
              "\n",
              "\n"
            ],
            "text/plain": [
              "[1] 0.4309858 0.2727765 0.5340682 0.6864863 0.6711144 0.6648937 0.6804061\n",
              "[8] 0.6882697"
            ]
          },
          "metadata": {},
          "output_type": "display_data"
        }
      ],
      "execution_count": 46
    },
    {
      "cell_type": "code",
      "source": "cbind(r_new, r)",
      "metadata": {
        "scrolled": true
      },
      "outputs": [
        {
          "data": {
            "text/html": [
              "<table>\n",
              "<thead><tr><th scope=col>r_new</th><th scope=col>r</th></tr></thead>\n",
              "<tbody>\n",
              "\t<tr><td>0.4309858</td><td>0.2404404</td></tr>\n",
              "\t<tr><td>0.2727765</td><td>0.1257321</td></tr>\n",
              "\t<tr><td>0.5340682</td><td>0.2950973</td></tr>\n",
              "\t<tr><td>0.6864863</td><td>0.3803153</td></tr>\n",
              "\t<tr><td>0.6711144</td><td>0.3791919</td></tr>\n",
              "\t<tr><td>0.6648937</td><td>0.3397565</td></tr>\n",
              "\t<tr><td>0.6804061</td><td>0.3410098</td></tr>\n",
              "\t<tr><td>0.6882697</td><td>0.3940453</td></tr>\n",
              "</tbody>\n",
              "</table>\n"
            ],
            "text/latex": [
              "\\begin{tabular}{ll}\n",
              " r\\_new & r\\\\\n",
              "\\hline\n",
              "\t 0.4309858 & 0.2404404\\\\\n",
              "\t 0.2727765 & 0.1257321\\\\\n",
              "\t 0.5340682 & 0.2950973\\\\\n",
              "\t 0.6864863 & 0.3803153\\\\\n",
              "\t 0.6711144 & 0.3791919\\\\\n",
              "\t 0.6648937 & 0.3397565\\\\\n",
              "\t 0.6804061 & 0.3410098\\\\\n",
              "\t 0.6882697 & 0.3940453\\\\\n",
              "\\end{tabular}\n"
            ],
            "text/markdown": [
              "\n",
              "| r_new | r |\n",
              "|---|---|\n",
              "| 0.4309858 | 0.2404404 |\n",
              "| 0.2727765 | 0.1257321 |\n",
              "| 0.5340682 | 0.2950973 |\n",
              "| 0.6864863 | 0.3803153 |\n",
              "| 0.6711144 | 0.3791919 |\n",
              "| 0.6648937 | 0.3397565 |\n",
              "| 0.6804061 | 0.3410098 |\n",
              "| 0.6882697 | 0.3940453 |\n",
              "\n"
            ],
            "text/plain": [
              "     r_new     r        \n",
              "[1,] 0.4309858 0.2404404\n",
              "[2,] 0.2727765 0.1257321\n",
              "[3,] 0.5340682 0.2950973\n",
              "[4,] 0.6864863 0.3803153\n",
              "[5,] 0.6711144 0.3791919\n",
              "[6,] 0.6648937 0.3397565\n",
              "[7,] 0.6804061 0.3410098\n",
              "[8,] 0.6882697 0.3940453"
            ]
          },
          "metadata": {},
          "output_type": "display_data"
        }
      ],
      "execution_count": 47
    },
    {
      "cell_type": "code",
      "source": "cor(r_new, r)",
      "metadata": {
        "scrolled": true
      },
      "outputs": [
        {
          "data": {
            "text/html": [
              "0.979775955089924"
            ],
            "text/latex": [
              "0.979775955089924"
            ],
            "text/markdown": [
              "0.979775955089924"
            ],
            "text/plain": [
              "[1] 0.979776"
            ]
          },
          "metadata": {},
          "output_type": "display_data"
        }
      ],
      "execution_count": 48
    },
    {
      "cell_type": "code",
      "source": "rank(r_new)\nrank(r)",
      "metadata": {},
      "outputs": [
        {
          "data": {
            "text/html": [
              "<ol class=list-inline>\n",
              "\t<li>2</li>\n",
              "\t<li>1</li>\n",
              "\t<li>3</li>\n",
              "\t<li>7</li>\n",
              "\t<li>5</li>\n",
              "\t<li>4</li>\n",
              "\t<li>6</li>\n",
              "\t<li>8</li>\n",
              "</ol>\n"
            ],
            "text/latex": [
              "\\begin{enumerate*}\n",
              "\\item 2\n",
              "\\item 1\n",
              "\\item 3\n",
              "\\item 7\n",
              "\\item 5\n",
              "\\item 4\n",
              "\\item 6\n",
              "\\item 8\n",
              "\\end{enumerate*}\n"
            ],
            "text/markdown": [
              "1. 2\n",
              "2. 1\n",
              "3. 3\n",
              "4. 7\n",
              "5. 5\n",
              "6. 4\n",
              "7. 6\n",
              "8. 8\n",
              "\n",
              "\n"
            ],
            "text/plain": [
              "[1] 2 1 3 7 5 4 6 8"
            ]
          },
          "metadata": {},
          "output_type": "display_data"
        },
        {
          "data": {
            "text/html": [
              "<ol class=list-inline>\n",
              "\t<li>2</li>\n",
              "\t<li>1</li>\n",
              "\t<li>3</li>\n",
              "\t<li>7</li>\n",
              "\t<li>6</li>\n",
              "\t<li>4</li>\n",
              "\t<li>5</li>\n",
              "\t<li>8</li>\n",
              "</ol>\n"
            ],
            "text/latex": [
              "\\begin{enumerate*}\n",
              "\\item 2\n",
              "\\item 1\n",
              "\\item 3\n",
              "\\item 7\n",
              "\\item 6\n",
              "\\item 4\n",
              "\\item 5\n",
              "\\item 8\n",
              "\\end{enumerate*}\n"
            ],
            "text/markdown": [
              "1. 2\n",
              "2. 1\n",
              "3. 3\n",
              "4. 7\n",
              "5. 6\n",
              "6. 4\n",
              "7. 5\n",
              "8. 8\n",
              "\n",
              "\n"
            ],
            "text/plain": [
              "[1] 2 1 3 7 6 4 5 8"
            ]
          },
          "metadata": {},
          "output_type": "display_data"
        }
      ],
      "execution_count": 50
    }
  ]
}