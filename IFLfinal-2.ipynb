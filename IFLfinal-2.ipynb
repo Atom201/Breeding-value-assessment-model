{
  "metadata": {
    "kernelspec": {
      "name": "python",
      "display_name": "Python (Pyodide)",
      "language": "python"
    },
    "language_info": {
      "codemirror_mode": "r",
      "file_extension": ".r",
      "mimetype": "text/x-r-source",
      "name": "R",
      "pygments_lexer": "r",
      "version": "4.1.3"
    }
  },
  "nbformat_minor": 4,
  "nbformat": 4,
  "cells": [
    {
      "cell_type": "markdown",
      "source": "1. Creating a relatedness matrix A.",
      "metadata": {}
    },
    {
      "cell_type": "code",
      "source": "pedigree = read.table(\"pedigree.csv\", sep = \";\")",
      "metadata": {},
      "outputs": [],
      "execution_count": 7
    },
    {
      "cell_type": "code",
      "source": "pedigreeNew = c(rbind(pedigree$V3, pedigree$V2, pedigree$V1))\nlength(pedigreeNew)\npedigreeNew = data.frame(pedigreeNew)\ncolnames(pedigreeNew) = 'id'\npedigreeNew = unique(pedigreeNew)\ndim(pedigreeNew)",
      "metadata": {
        "scrolled": true
      },
      "outputs": [
        {
          "data": {
            "text/html": [
              "537"
            ],
            "text/latex": [
              "537"
            ],
            "text/markdown": [
              "537"
            ],
            "text/plain": [
              "[1] 537"
            ]
          },
          "metadata": {},
          "output_type": "display_data"
        },
        {
          "data": {
            "text/html": [
              "<style>\n",
              ".list-inline {list-style: none; margin:0; padding: 0}\n",
              ".list-inline>li {display: inline-block}\n",
              ".list-inline>li:not(:last-child)::after {content: \"\\00b7\"; padding: 0 .5ex}\n",
              "</style>\n",
              "<ol class=list-inline><li>499</li><li>1</li></ol>\n"
            ],
            "text/latex": [
              "\\begin{enumerate*}\n",
              "\\item 499\n",
              "\\item 1\n",
              "\\end{enumerate*}\n"
            ],
            "text/markdown": [
              "1. 499\n",
              "2. 1\n",
              "\n",
              "\n"
            ],
            "text/plain": [
              "[1] 499   1"
            ]
          },
          "metadata": {},
          "output_type": "display_data"
        }
      ],
      "execution_count": 9
    },
    {
      "cell_type": "code",
      "source": "colnames(pedigree) = c('id', 'sire', 'dam', 'birthYear', 'breed')",
      "metadata": {},
      "outputs": [],
      "execution_count": 10
    },
    {
      "cell_type": "code",
      "source": "pedigreeNew = merge(pedigreeNew, pedigree, by = 'id', all.x = TRUE)\nhead(pedigreeNew)\ndim(pedigreeNew)\nsummary(pedigreeNew)",
      "metadata": {
        "scrolled": true
      },
      "outputs": [
        {
          "data": {
            "text/html": [
              "<table class=\"dataframe\">\n",
              "<caption>A data.frame: 6 × 5</caption>\n",
              "<thead>\n",
              "\t<tr><th></th><th scope=col>id</th><th scope=col>sire</th><th scope=col>dam</th><th scope=col>birthYear</th><th scope=col>breed</th></tr>\n",
              "\t<tr><th></th><th scope=col>&lt;chr&gt;</th><th scope=col>&lt;chr&gt;</th><th scope=col>&lt;chr&gt;</th><th scope=col>&lt;int&gt;</th><th scope=col>&lt;int&gt;</th></tr>\n",
              "</thead>\n",
              "<tbody>\n",
              "\t<tr><th scope=row>1</th><td>cow1  </td><td>sire98 </td><td>dam114</td><td>2005</td><td>6</td></tr>\n",
              "\t<tr><th scope=row>2</th><td>cow10 </td><td>sire117</td><td>dam140</td><td>2005</td><td>5</td></tr>\n",
              "\t<tr><th scope=row>3</th><td>cow100</td><td>sire92 </td><td>dam107</td><td>2006</td><td>4</td></tr>\n",
              "\t<tr><th scope=row>4</th><td>cow101</td><td>sire61 </td><td>dam68 </td><td>2005</td><td>6</td></tr>\n",
              "\t<tr><th scope=row>5</th><td>cow102</td><td>sire18 </td><td>dam18 </td><td>2005</td><td>5</td></tr>\n",
              "\t<tr><th scope=row>6</th><td>cow103</td><td>sire25 </td><td>dam25 </td><td>2005</td><td>2</td></tr>\n",
              "</tbody>\n",
              "</table>\n"
            ],
            "text/latex": [
              "A data.frame: 6 × 5\n",
              "\\begin{tabular}{r|lllll}\n",
              "  & id & sire & dam & birthYear & breed\\\\\n",
              "  & <chr> & <chr> & <chr> & <int> & <int>\\\\\n",
              "\\hline\n",
              "\t1 & cow1   & sire98  & dam114 & 2005 & 6\\\\\n",
              "\t2 & cow10  & sire117 & dam140 & 2005 & 5\\\\\n",
              "\t3 & cow100 & sire92  & dam107 & 2006 & 4\\\\\n",
              "\t4 & cow101 & sire61  & dam68  & 2005 & 6\\\\\n",
              "\t5 & cow102 & sire18  & dam18  & 2005 & 5\\\\\n",
              "\t6 & cow103 & sire25  & dam25  & 2005 & 2\\\\\n",
              "\\end{tabular}\n"
            ],
            "text/markdown": [
              "\n",
              "A data.frame: 6 × 5\n",
              "\n",
              "| <!--/--> | id &lt;chr&gt; | sire &lt;chr&gt; | dam &lt;chr&gt; | birthYear &lt;int&gt; | breed &lt;int&gt; |\n",
              "|---|---|---|---|---|---|\n",
              "| 1 | cow1   | sire98  | dam114 | 2005 | 6 |\n",
              "| 2 | cow10  | sire117 | dam140 | 2005 | 5 |\n",
              "| 3 | cow100 | sire92  | dam107 | 2006 | 4 |\n",
              "| 4 | cow101 | sire61  | dam68  | 2005 | 6 |\n",
              "| 5 | cow102 | sire18  | dam18  | 2005 | 5 |\n",
              "| 6 | cow103 | sire25  | dam25  | 2005 | 2 |\n",
              "\n"
            ],
            "text/plain": [
              "  id     sire    dam    birthYear breed\n",
              "1 cow1   sire98  dam114 2005      6    \n",
              "2 cow10  sire117 dam140 2005      5    \n",
              "3 cow100 sire92  dam107 2006      4    \n",
              "4 cow101 sire61  dam68  2005      6    \n",
              "5 cow102 sire18  dam18  2005      5    \n",
              "6 cow103 sire25  dam25  2005      2    "
            ]
          },
          "metadata": {},
          "output_type": "display_data"
        },
        {
          "data": {
            "text/html": [
              "<style>\n",
              ".list-inline {list-style: none; margin:0; padding: 0}\n",
              ".list-inline>li {display: inline-block}\n",
              ".list-inline>li:not(:last-child)::after {content: \"\\00b7\"; padding: 0 .5ex}\n",
              "</style>\n",
              "<ol class=list-inline><li>499</li><li>5</li></ol>\n"
            ],
            "text/latex": [
              "\\begin{enumerate*}\n",
              "\\item 499\n",
              "\\item 5\n",
              "\\end{enumerate*}\n"
            ],
            "text/markdown": [
              "1. 499\n",
              "2. 5\n",
              "\n",
              "\n"
            ],
            "text/plain": [
              "[1] 499   5"
            ]
          },
          "metadata": {},
          "output_type": "display_data"
        },
        {
          "data": {
            "text/plain": [
              "      id                sire               dam              birthYear   \n",
              " Length:499         Length:499         Length:499         Min.   :2003  \n",
              " Class :character   Class :character   Class :character   1st Qu.:2005  \n",
              " Mode  :character   Mode  :character   Mode  :character   Median :2006  \n",
              "                                                          Mean   :2007  \n",
              "                                                          3rd Qu.:2006  \n",
              "                                                          Max.   :2015  \n",
              "                                                          NA's   :320   \n",
              "     breed      \n",
              " Min.   :1.000  \n",
              " 1st Qu.:2.000  \n",
              " Median :4.000  \n",
              " Mean   :3.821  \n",
              " 3rd Qu.:6.000  \n",
              " Max.   :6.000  \n",
              " NA's   :320    "
            ]
          },
          "metadata": {},
          "output_type": "display_data"
        }
      ],
      "execution_count": 11
    },
    {
      "cell_type": "code",
      "source": "pedigreeNew[is.na(pedigreeNew)] = 0\nsummary(pedigreeNew)",
      "metadata": {
        "scrolled": true
      },
      "outputs": [
        {
          "data": {
            "text/plain": [
              "      id                sire               dam              birthYear     \n",
              " Length:499         Length:499         Length:499         Min.   :   0.0  \n",
              " Class :character   Class :character   Class :character   1st Qu.:   0.0  \n",
              " Mode  :character   Mode  :character   Mode  :character   Median :   0.0  \n",
              "                                                          Mean   : 719.8  \n",
              "                                                          3rd Qu.:2005.0  \n",
              "                                                          Max.   :2015.0  \n",
              "     breed      \n",
              " Min.   :0.000  \n",
              " 1st Qu.:0.000  \n",
              " Median :0.000  \n",
              " Mean   :1.371  \n",
              " 3rd Qu.:3.000  \n",
              " Max.   :6.000  "
            ]
          },
          "metadata": {},
          "output_type": "display_data"
        }
      ],
      "execution_count": 12
    },
    {
      "cell_type": "code",
      "source": "pedigreeNew = pedigreeNew[order(pedigreeNew$birthYear), ]\nhead(pedigreeNew)",
      "metadata": {
        "scrolled": true
      },
      "outputs": [
        {
          "data": {
            "text/html": [
              "<table class=\"dataframe\">\n",
              "<caption>A data.frame: 6 × 5</caption>\n",
              "<thead>\n",
              "\t<tr><th></th><th scope=col>id</th><th scope=col>sire</th><th scope=col>dam</th><th scope=col>birthYear</th><th scope=col>breed</th></tr>\n",
              "\t<tr><th></th><th scope=col>&lt;chr&gt;</th><th scope=col>&lt;chr&gt;</th><th scope=col>&lt;chr&gt;</th><th scope=col>&lt;dbl&gt;</th><th scope=col>&lt;dbl&gt;</th></tr>\n",
              "</thead>\n",
              "<tbody>\n",
              "\t<tr><th scope=row>180</th><td>dam1  </td><td>0</td><td>0</td><td>0</td><td>0</td></tr>\n",
              "\t<tr><th scope=row>181</th><td>dam10 </td><td>0</td><td>0</td><td>0</td><td>0</td></tr>\n",
              "\t<tr><th scope=row>182</th><td>dam100</td><td>0</td><td>0</td><td>0</td><td>0</td></tr>\n",
              "\t<tr><th scope=row>183</th><td>dam101</td><td>0</td><td>0</td><td>0</td><td>0</td></tr>\n",
              "\t<tr><th scope=row>184</th><td>dam102</td><td>0</td><td>0</td><td>0</td><td>0</td></tr>\n",
              "\t<tr><th scope=row>185</th><td>dam103</td><td>0</td><td>0</td><td>0</td><td>0</td></tr>\n",
              "</tbody>\n",
              "</table>\n"
            ],
            "text/latex": [
              "A data.frame: 6 × 5\n",
              "\\begin{tabular}{r|lllll}\n",
              "  & id & sire & dam & birthYear & breed\\\\\n",
              "  & <chr> & <chr> & <chr> & <dbl> & <dbl>\\\\\n",
              "\\hline\n",
              "\t180 & dam1   & 0 & 0 & 0 & 0\\\\\n",
              "\t181 & dam10  & 0 & 0 & 0 & 0\\\\\n",
              "\t182 & dam100 & 0 & 0 & 0 & 0\\\\\n",
              "\t183 & dam101 & 0 & 0 & 0 & 0\\\\\n",
              "\t184 & dam102 & 0 & 0 & 0 & 0\\\\\n",
              "\t185 & dam103 & 0 & 0 & 0 & 0\\\\\n",
              "\\end{tabular}\n"
            ],
            "text/markdown": [
              "\n",
              "A data.frame: 6 × 5\n",
              "\n",
              "| <!--/--> | id &lt;chr&gt; | sire &lt;chr&gt; | dam &lt;chr&gt; | birthYear &lt;dbl&gt; | breed &lt;dbl&gt; |\n",
              "|---|---|---|---|---|---|\n",
              "| 180 | dam1   | 0 | 0 | 0 | 0 |\n",
              "| 181 | dam10  | 0 | 0 | 0 | 0 |\n",
              "| 182 | dam100 | 0 | 0 | 0 | 0 |\n",
              "| 183 | dam101 | 0 | 0 | 0 | 0 |\n",
              "| 184 | dam102 | 0 | 0 | 0 | 0 |\n",
              "| 185 | dam103 | 0 | 0 | 0 | 0 |\n",
              "\n"
            ],
            "text/plain": [
              "    id     sire dam birthYear breed\n",
              "180 dam1   0    0   0         0    \n",
              "181 dam10  0    0   0         0    \n",
              "182 dam100 0    0   0         0    \n",
              "183 dam101 0    0   0         0    \n",
              "184 dam102 0    0   0         0    \n",
              "185 dam103 0    0   0         0    "
            ]
          },
          "metadata": {},
          "output_type": "display_data"
        }
      ],
      "execution_count": 13
    },
    {
      "cell_type": "code",
      "source": "install.packages(\"AGHmatrix\")",
      "metadata": {},
      "outputs": [
        {
          "name": "stderr",
          "output_type": "stream",
          "text": [
            "Installing package into ‘/srv/rlibs’\n",
            "(as ‘lib’ is unspecified)\n",
            "\n",
            "also installing the dependency ‘zoo’\n",
            "\n",
            "\n"
          ]
        }
      ],
      "execution_count": 14
    },
    {
      "cell_type": "code",
      "source": "library(AGHmatrix)",
      "metadata": {},
      "outputs": [],
      "execution_count": 15
    },
    {
      "cell_type": "code",
      "source": "A = Amatrix(pedigreeNew[, 1:3])",
      "metadata": {
        "scrolled": true
      },
      "outputs": [
        {
          "name": "stdout",
          "output_type": "stream",
          "text": [
            "Verifying conflicting data... \n",
            "Organizing data... \n",
            "Your data was chronologically organized with success. \n",
            "Constructing matrix A using ploidy = 2 \n",
            "Completed! Time = 9e-04  minutes \n"
          ]
        }
      ],
      "execution_count": 16
    },
    {
      "cell_type": "code",
      "source": "pedigreeNew$idNew = 1:nrow(pedigreeNew)\nhead(pedigreeNew)",
      "metadata": {},
      "outputs": [
        {
          "data": {
            "text/html": [
              "<table class=\"dataframe\">\n",
              "<caption>A data.frame: 6 × 6</caption>\n",
              "<thead>\n",
              "\t<tr><th></th><th scope=col>id</th><th scope=col>sire</th><th scope=col>dam</th><th scope=col>birthYear</th><th scope=col>breed</th><th scope=col>idNew</th></tr>\n",
              "\t<tr><th></th><th scope=col>&lt;chr&gt;</th><th scope=col>&lt;chr&gt;</th><th scope=col>&lt;chr&gt;</th><th scope=col>&lt;dbl&gt;</th><th scope=col>&lt;dbl&gt;</th><th scope=col>&lt;int&gt;</th></tr>\n",
              "</thead>\n",
              "<tbody>\n",
              "\t<tr><th scope=row>180</th><td>dam1  </td><td>0</td><td>0</td><td>0</td><td>0</td><td>1</td></tr>\n",
              "\t<tr><th scope=row>181</th><td>dam10 </td><td>0</td><td>0</td><td>0</td><td>0</td><td>2</td></tr>\n",
              "\t<tr><th scope=row>182</th><td>dam100</td><td>0</td><td>0</td><td>0</td><td>0</td><td>3</td></tr>\n",
              "\t<tr><th scope=row>183</th><td>dam101</td><td>0</td><td>0</td><td>0</td><td>0</td><td>4</td></tr>\n",
              "\t<tr><th scope=row>184</th><td>dam102</td><td>0</td><td>0</td><td>0</td><td>0</td><td>5</td></tr>\n",
              "\t<tr><th scope=row>185</th><td>dam103</td><td>0</td><td>0</td><td>0</td><td>0</td><td>6</td></tr>\n",
              "</tbody>\n",
              "</table>\n"
            ],
            "text/latex": [
              "A data.frame: 6 × 6\n",
              "\\begin{tabular}{r|llllll}\n",
              "  & id & sire & dam & birthYear & breed & idNew\\\\\n",
              "  & <chr> & <chr> & <chr> & <dbl> & <dbl> & <int>\\\\\n",
              "\\hline\n",
              "\t180 & dam1   & 0 & 0 & 0 & 0 & 1\\\\\n",
              "\t181 & dam10  & 0 & 0 & 0 & 0 & 2\\\\\n",
              "\t182 & dam100 & 0 & 0 & 0 & 0 & 3\\\\\n",
              "\t183 & dam101 & 0 & 0 & 0 & 0 & 4\\\\\n",
              "\t184 & dam102 & 0 & 0 & 0 & 0 & 5\\\\\n",
              "\t185 & dam103 & 0 & 0 & 0 & 0 & 6\\\\\n",
              "\\end{tabular}\n"
            ],
            "text/markdown": [
              "\n",
              "A data.frame: 6 × 6\n",
              "\n",
              "| <!--/--> | id &lt;chr&gt; | sire &lt;chr&gt; | dam &lt;chr&gt; | birthYear &lt;dbl&gt; | breed &lt;dbl&gt; | idNew &lt;int&gt; |\n",
              "|---|---|---|---|---|---|---|\n",
              "| 180 | dam1   | 0 | 0 | 0 | 0 | 1 |\n",
              "| 181 | dam10  | 0 | 0 | 0 | 0 | 2 |\n",
              "| 182 | dam100 | 0 | 0 | 0 | 0 | 3 |\n",
              "| 183 | dam101 | 0 | 0 | 0 | 0 | 4 |\n",
              "| 184 | dam102 | 0 | 0 | 0 | 0 | 5 |\n",
              "| 185 | dam103 | 0 | 0 | 0 | 0 | 6 |\n",
              "\n"
            ],
            "text/plain": [
              "    id     sire dam birthYear breed idNew\n",
              "180 dam1   0    0   0         0     1    \n",
              "181 dam10  0    0   0         0     2    \n",
              "182 dam100 0    0   0         0     3    \n",
              "183 dam101 0    0   0         0     4    \n",
              "184 dam102 0    0   0         0     5    \n",
              "185 dam103 0    0   0         0     6    "
            ]
          },
          "metadata": {},
          "output_type": "display_data"
        }
      ],
      "execution_count": 18
    },
    {
      "cell_type": "code",
      "source": "(n_ped = nrow(A))",
      "metadata": {},
      "outputs": [
        {
          "data": {
            "text/html": [
              "499"
            ],
            "text/latex": [
              "499"
            ],
            "text/markdown": [
              "499"
            ],
            "text/plain": [
              "[1] 499"
            ]
          },
          "metadata": {},
          "output_type": "display_data"
        }
      ],
      "execution_count": 73
    },
    {
      "cell_type": "markdown",
      "source": "2. Generating IFL Phenotype",
      "metadata": {}
    },
    {
      "cell_type": "code",
      "source": "library(data.table)\nphenotype = read.table(\"http://theta.edu.pl/wp-content/uploads/2023/01/laktacje.csv\", sep = \";\", header = TRUE)\nhead(phenotype)",
      "metadata": {
        "scrolled": true
      },
      "outputs": [
        {
          "data": {
            "text/html": [
              "<table class=\"dataframe\">\n",
              "<caption>A data.frame: 6 × 4</caption>\n",
              "<thead>\n",
              "\t<tr><th></th><th scope=col>cowId</th><th scope=col>success</th><th scope=col>calvingDate</th><th scope=col>inseminationDate</th></tr>\n",
              "\t<tr><th></th><th scope=col>&lt;chr&gt;</th><th scope=col>&lt;int&gt;</th><th scope=col>&lt;chr&gt;</th><th scope=col>&lt;chr&gt;</th></tr>\n",
              "</thead>\n",
              "<tbody>\n",
              "\t<tr><th scope=row>1</th><td>cow1</td><td>0</td><td>25.08.2012</td><td>15.09.2011</td></tr>\n",
              "\t<tr><th scope=row>2</th><td>cow1</td><td>1</td><td>25.08.2012</td><td>06.11.2011</td></tr>\n",
              "\t<tr><th scope=row>3</th><td>cow2</td><td>0</td><td>26.02.2013</td><td>04.06.2011</td></tr>\n",
              "\t<tr><th scope=row>4</th><td>cow2</td><td>0</td><td>26.02.2013</td><td>21.07.2011</td></tr>\n",
              "\t<tr><th scope=row>5</th><td>cow2</td><td>0</td><td>26.02.2013</td><td>21.11.2011</td></tr>\n",
              "\t<tr><th scope=row>6</th><td>cow2</td><td>0</td><td>26.02.2013</td><td>13.01.2012</td></tr>\n",
              "</tbody>\n",
              "</table>\n"
            ],
            "text/latex": [
              "A data.frame: 6 × 4\n",
              "\\begin{tabular}{r|llll}\n",
              "  & cowId & success & calvingDate & inseminationDate\\\\\n",
              "  & <chr> & <int> & <chr> & <chr>\\\\\n",
              "\\hline\n",
              "\t1 & cow1 & 0 & 25.08.2012 & 15.09.2011\\\\\n",
              "\t2 & cow1 & 1 & 25.08.2012 & 06.11.2011\\\\\n",
              "\t3 & cow2 & 0 & 26.02.2013 & 04.06.2011\\\\\n",
              "\t4 & cow2 & 0 & 26.02.2013 & 21.07.2011\\\\\n",
              "\t5 & cow2 & 0 & 26.02.2013 & 21.11.2011\\\\\n",
              "\t6 & cow2 & 0 & 26.02.2013 & 13.01.2012\\\\\n",
              "\\end{tabular}\n"
            ],
            "text/markdown": [
              "\n",
              "A data.frame: 6 × 4\n",
              "\n",
              "| <!--/--> | cowId &lt;chr&gt; | success &lt;int&gt; | calvingDate &lt;chr&gt; | inseminationDate &lt;chr&gt; |\n",
              "|---|---|---|---|---|\n",
              "| 1 | cow1 | 0 | 25.08.2012 | 15.09.2011 |\n",
              "| 2 | cow1 | 1 | 25.08.2012 | 06.11.2011 |\n",
              "| 3 | cow2 | 0 | 26.02.2013 | 04.06.2011 |\n",
              "| 4 | cow2 | 0 | 26.02.2013 | 21.07.2011 |\n",
              "| 5 | cow2 | 0 | 26.02.2013 | 21.11.2011 |\n",
              "| 6 | cow2 | 0 | 26.02.2013 | 13.01.2012 |\n",
              "\n"
            ],
            "text/plain": [
              "  cowId success calvingDate inseminationDate\n",
              "1 cow1  0       25.08.2012  15.09.2011      \n",
              "2 cow1  1       25.08.2012  06.11.2011      \n",
              "3 cow2  0       26.02.2013  04.06.2011      \n",
              "4 cow2  0       26.02.2013  21.07.2011      \n",
              "5 cow2  0       26.02.2013  21.11.2011      \n",
              "6 cow2  0       26.02.2013  13.01.2012      "
            ]
          },
          "metadata": {},
          "output_type": "display_data"
        }
      ],
      "execution_count": 46
    },
    {
      "cell_type": "code",
      "source": "phenotype$date = as.Date(phenotype$inseminationDate, format = \"%d.%m.%Y\")\nhead(phenotype)",
      "metadata": {
        "scrolled": true
      },
      "outputs": [
        {
          "data": {
            "text/html": [
              "<table class=\"dataframe\">\n",
              "<caption>A data.frame: 6 × 5</caption>\n",
              "<thead>\n",
              "\t<tr><th></th><th scope=col>cowId</th><th scope=col>success</th><th scope=col>calvingDate</th><th scope=col>inseminationDate</th><th scope=col>date</th></tr>\n",
              "\t<tr><th></th><th scope=col>&lt;chr&gt;</th><th scope=col>&lt;int&gt;</th><th scope=col>&lt;chr&gt;</th><th scope=col>&lt;chr&gt;</th><th scope=col>&lt;date&gt;</th></tr>\n",
              "</thead>\n",
              "<tbody>\n",
              "\t<tr><th scope=row>1</th><td>cow1</td><td>0</td><td>25.08.2012</td><td>15.09.2011</td><td>2011-09-15</td></tr>\n",
              "\t<tr><th scope=row>2</th><td>cow1</td><td>1</td><td>25.08.2012</td><td>06.11.2011</td><td>2011-11-06</td></tr>\n",
              "\t<tr><th scope=row>3</th><td>cow2</td><td>0</td><td>26.02.2013</td><td>04.06.2011</td><td>2011-06-04</td></tr>\n",
              "\t<tr><th scope=row>4</th><td>cow2</td><td>0</td><td>26.02.2013</td><td>21.07.2011</td><td>2011-07-21</td></tr>\n",
              "\t<tr><th scope=row>5</th><td>cow2</td><td>0</td><td>26.02.2013</td><td>21.11.2011</td><td>2011-11-21</td></tr>\n",
              "\t<tr><th scope=row>6</th><td>cow2</td><td>0</td><td>26.02.2013</td><td>13.01.2012</td><td>2012-01-13</td></tr>\n",
              "</tbody>\n",
              "</table>\n"
            ],
            "text/latex": [
              "A data.frame: 6 × 5\n",
              "\\begin{tabular}{r|lllll}\n",
              "  & cowId & success & calvingDate & inseminationDate & date\\\\\n",
              "  & <chr> & <int> & <chr> & <chr> & <date>\\\\\n",
              "\\hline\n",
              "\t1 & cow1 & 0 & 25.08.2012 & 15.09.2011 & 2011-09-15\\\\\n",
              "\t2 & cow1 & 1 & 25.08.2012 & 06.11.2011 & 2011-11-06\\\\\n",
              "\t3 & cow2 & 0 & 26.02.2013 & 04.06.2011 & 2011-06-04\\\\\n",
              "\t4 & cow2 & 0 & 26.02.2013 & 21.07.2011 & 2011-07-21\\\\\n",
              "\t5 & cow2 & 0 & 26.02.2013 & 21.11.2011 & 2011-11-21\\\\\n",
              "\t6 & cow2 & 0 & 26.02.2013 & 13.01.2012 & 2012-01-13\\\\\n",
              "\\end{tabular}\n"
            ],
            "text/markdown": [
              "\n",
              "A data.frame: 6 × 5\n",
              "\n",
              "| <!--/--> | cowId &lt;chr&gt; | success &lt;int&gt; | calvingDate &lt;chr&gt; | inseminationDate &lt;chr&gt; | date &lt;date&gt; |\n",
              "|---|---|---|---|---|---|\n",
              "| 1 | cow1 | 0 | 25.08.2012 | 15.09.2011 | 2011-09-15 |\n",
              "| 2 | cow1 | 1 | 25.08.2012 | 06.11.2011 | 2011-11-06 |\n",
              "| 3 | cow2 | 0 | 26.02.2013 | 04.06.2011 | 2011-06-04 |\n",
              "| 4 | cow2 | 0 | 26.02.2013 | 21.07.2011 | 2011-07-21 |\n",
              "| 5 | cow2 | 0 | 26.02.2013 | 21.11.2011 | 2011-11-21 |\n",
              "| 6 | cow2 | 0 | 26.02.2013 | 13.01.2012 | 2012-01-13 |\n",
              "\n"
            ],
            "text/plain": [
              "  cowId success calvingDate inseminationDate date      \n",
              "1 cow1  0       25.08.2012  15.09.2011       2011-09-15\n",
              "2 cow1  1       25.08.2012  06.11.2011       2011-11-06\n",
              "3 cow2  0       26.02.2013  04.06.2011       2011-06-04\n",
              "4 cow2  0       26.02.2013  21.07.2011       2011-07-21\n",
              "5 cow2  0       26.02.2013  21.11.2011       2011-11-21\n",
              "6 cow2  0       26.02.2013  13.01.2012       2012-01-13"
            ]
          },
          "metadata": {},
          "output_type": "display_data"
        }
      ],
      "execution_count": 47
    },
    {
      "cell_type": "code",
      "source": "phenotype$date = as.Date(phenotype$date)\nphenotype = as.data.table(phenotype)",
      "metadata": {},
      "outputs": [],
      "execution_count": 50
    },
    {
      "cell_type": "code",
      "source": "minDate = phenotype[, .(minDate = min(date)), by = cowId ]\nmaxDate = phenotype[, .(maxDate = max(date)), by = cowId ]\nIFL = merge(minDate,  maxDate, by = 'cowId', all.x = TRUE)",
      "metadata": {
        "scrolled": true
      },
      "outputs": [],
      "execution_count": 51
    },
    {
      "cell_type": "code",
      "source": "summary(IFL)",
      "metadata": {
        "scrolled": true
      },
      "outputs": [
        {
          "data": {
            "text/plain": [
              "    cowId              minDate              maxDate          \n",
              " Length:179         Min.   :2010-03-01   Min.   :2010-03-01  \n",
              " Class :character   1st Qu.:2011-05-27   1st Qu.:2011-06-24  \n",
              " Mode  :character   Median :2012-01-10   Median :2012-02-21  \n",
              "                    Mean   :2013-04-25   Mean   :2013-06-12  \n",
              "                    3rd Qu.:2013-11-22   3rd Qu.:2014-01-05  \n",
              "                    Max.   :2020-12-20   Max.   :2020-12-20  "
            ]
          },
          "metadata": {},
          "output_type": "display_data"
        }
      ],
      "execution_count": 52
    },
    {
      "cell_type": "code",
      "source": "IFL$IFL = as.integer(IFL$maxDate - IFL$minDate)\nsummary(IFL)",
      "metadata": {
        "scrolled": true
      },
      "outputs": [
        {
          "data": {
            "text/plain": [
              "    cowId              minDate              maxDate                IFL        \n",
              " Length:179         Min.   :2010-03-01   Min.   :2010-03-01   Min.   :  0.00  \n",
              " Class :character   1st Qu.:2011-05-27   1st Qu.:2011-06-24   1st Qu.:  0.00  \n",
              " Mode  :character   Median :2012-01-10   Median :2012-02-21   Median :  0.00  \n",
              "                    Mean   :2013-04-25   Mean   :2013-06-12   Mean   : 48.35  \n",
              "                    3rd Qu.:2013-11-22   3rd Qu.:2014-01-05   3rd Qu.: 64.00  \n",
              "                    Max.   :2020-12-20   Max.   :2020-12-20   Max.   :477.00  "
            ]
          },
          "metadata": {},
          "output_type": "display_data"
        }
      ],
      "execution_count": 53
    },
    {
      "cell_type": "code",
      "source": "IFL = IFL[, c(1, 4)]",
      "metadata": {},
      "outputs": [],
      "execution_count": 54
    },
    {
      "cell_type": "code",
      "source": "IFL = merge(IFL, pedigreeNew, by.x = 'cowId', by.y = 'id', all.x = TRUE)\nhead(IFL)\ndim(IFL)\nsummary(IFL)",
      "metadata": {
        "scrolled": true
      },
      "outputs": [
        {
          "data": {
            "text/html": [
              "<table class=\"dataframe\">\n",
              "<caption>A data.table: 6 × 7</caption>\n",
              "<thead>\n",
              "\t<tr><th scope=col>cowId</th><th scope=col>IFL</th><th scope=col>sire</th><th scope=col>dam</th><th scope=col>birthYear</th><th scope=col>breed</th><th scope=col>idNew</th></tr>\n",
              "\t<tr><th scope=col>&lt;chr&gt;</th><th scope=col>&lt;int&gt;</th><th scope=col>&lt;chr&gt;</th><th scope=col>&lt;chr&gt;</th><th scope=col>&lt;dbl&gt;</th><th scope=col>&lt;dbl&gt;</th><th scope=col>&lt;int&gt;</th></tr>\n",
              "</thead>\n",
              "<tbody>\n",
              "\t<tr><td>cow1  </td><td> 52</td><td>sire98 </td><td>dam114</td><td>2005</td><td>6</td><td>333</td></tr>\n",
              "\t<tr><td>cow10 </td><td>  0</td><td>sire117</td><td>dam140</td><td>2005</td><td>5</td><td>334</td></tr>\n",
              "\t<tr><td>cow100</td><td>127</td><td>sire92 </td><td>dam107</td><td>2006</td><td>4</td><td>408</td></tr>\n",
              "\t<tr><td>cow101</td><td>  0</td><td>sire61 </td><td>dam68 </td><td>2005</td><td>6</td><td>335</td></tr>\n",
              "\t<tr><td>cow102</td><td>  0</td><td>sire18 </td><td>dam18 </td><td>2005</td><td>5</td><td>336</td></tr>\n",
              "\t<tr><td>cow103</td><td>  0</td><td>sire25 </td><td>dam25 </td><td>2005</td><td>2</td><td>337</td></tr>\n",
              "</tbody>\n",
              "</table>\n"
            ],
            "text/latex": [
              "A data.table: 6 × 7\n",
              "\\begin{tabular}{lllllll}\n",
              " cowId & IFL & sire & dam & birthYear & breed & idNew\\\\\n",
              " <chr> & <int> & <chr> & <chr> & <dbl> & <dbl> & <int>\\\\\n",
              "\\hline\n",
              "\t cow1   &  52 & sire98  & dam114 & 2005 & 6 & 333\\\\\n",
              "\t cow10  &   0 & sire117 & dam140 & 2005 & 5 & 334\\\\\n",
              "\t cow100 & 127 & sire92  & dam107 & 2006 & 4 & 408\\\\\n",
              "\t cow101 &   0 & sire61  & dam68  & 2005 & 6 & 335\\\\\n",
              "\t cow102 &   0 & sire18  & dam18  & 2005 & 5 & 336\\\\\n",
              "\t cow103 &   0 & sire25  & dam25  & 2005 & 2 & 337\\\\\n",
              "\\end{tabular}\n"
            ],
            "text/markdown": [
              "\n",
              "A data.table: 6 × 7\n",
              "\n",
              "| cowId &lt;chr&gt; | IFL &lt;int&gt; | sire &lt;chr&gt; | dam &lt;chr&gt; | birthYear &lt;dbl&gt; | breed &lt;dbl&gt; | idNew &lt;int&gt; |\n",
              "|---|---|---|---|---|---|---|\n",
              "| cow1   |  52 | sire98  | dam114 | 2005 | 6 | 333 |\n",
              "| cow10  |   0 | sire117 | dam140 | 2005 | 5 | 334 |\n",
              "| cow100 | 127 | sire92  | dam107 | 2006 | 4 | 408 |\n",
              "| cow101 |   0 | sire61  | dam68  | 2005 | 6 | 335 |\n",
              "| cow102 |   0 | sire18  | dam18  | 2005 | 5 | 336 |\n",
              "| cow103 |   0 | sire25  | dam25  | 2005 | 2 | 337 |\n",
              "\n"
            ],
            "text/plain": [
              "  cowId  IFL sire    dam    birthYear breed idNew\n",
              "1 cow1    52 sire98  dam114 2005      6     333  \n",
              "2 cow10    0 sire117 dam140 2005      5     334  \n",
              "3 cow100 127 sire92  dam107 2006      4     408  \n",
              "4 cow101   0 sire61  dam68  2005      6     335  \n",
              "5 cow102   0 sire18  dam18  2005      5     336  \n",
              "6 cow103   0 sire25  dam25  2005      2     337  "
            ]
          },
          "metadata": {},
          "output_type": "display_data"
        },
        {
          "data": {
            "text/html": [
              "<style>\n",
              ".list-inline {list-style: none; margin:0; padding: 0}\n",
              ".list-inline>li {display: inline-block}\n",
              ".list-inline>li:not(:last-child)::after {content: \"\\00b7\"; padding: 0 .5ex}\n",
              "</style>\n",
              "<ol class=list-inline><li>179</li><li>7</li></ol>\n"
            ],
            "text/latex": [
              "\\begin{enumerate*}\n",
              "\\item 179\n",
              "\\item 7\n",
              "\\end{enumerate*}\n"
            ],
            "text/markdown": [
              "1. 179\n",
              "2. 7\n",
              "\n",
              "\n"
            ],
            "text/plain": [
              "[1] 179   7"
            ]
          },
          "metadata": {},
          "output_type": "display_data"
        },
        {
          "data": {
            "text/plain": [
              "    cowId                IFL             sire               dam           \n",
              " Length:179         Min.   :  0.00   Length:179         Length:179        \n",
              " Class :character   1st Qu.:  0.00   Class :character   Class :character  \n",
              " Mode  :character   Median :  0.00   Mode  :character   Mode  :character  \n",
              "                    Mean   : 48.35                                        \n",
              "                    3rd Qu.: 64.00                                        \n",
              "                    Max.   :477.00                                        \n",
              "   birthYear        breed           idNew      \n",
              " Min.   :2003   Min.   :1.000   Min.   :321.0  \n",
              " 1st Qu.:2005   1st Qu.:2.000   1st Qu.:365.5  \n",
              " Median :2006   Median :4.000   Median :410.0  \n",
              " Mean   :2007   Mean   :3.821   Mean   :410.0  \n",
              " 3rd Qu.:2006   3rd Qu.:6.000   3rd Qu.:454.5  \n",
              " Max.   :2015   Max.   :6.000   Max.   :499.0  "
            ]
          },
          "metadata": {},
          "output_type": "display_data"
        }
      ],
      "execution_count": 55
    },
    {
      "cell_type": "code",
      "source": "IFL = IFL[, -c(3, 4)]",
      "metadata": {},
      "outputs": [],
      "execution_count": 56
    },
    {
      "cell_type": "code",
      "source": "IFL = data.frame(IFL)\nIFL = IFL[order(IFL$idNew),]\n(n_ph = nrow(IFL))",
      "metadata": {
        "scrolled": true
      },
      "outputs": [
        {
          "data": {
            "text/html": [
              "179"
            ],
            "text/latex": [
              "179"
            ],
            "text/markdown": [
              "179"
            ],
            "text/plain": [
              "[1] 179"
            ]
          },
          "metadata": {},
          "output_type": "display_data"
        }
      ],
      "execution_count": 74
    },
    {
      "cell_type": "markdown",
      "source": "3. Creating Design Matrix for Fixed Effects",
      "metadata": {}
    },
    {
      "cell_type": "code",
      "source": "X1 = model.matrix(~ factor(IFL$birthYear) - 1)\nX2 = model.matrix(~ factor(IFL$breed) - 1)\nX = cbind(X1, X2)\n\n(n_fix = ncol(X))",
      "metadata": {},
      "outputs": [
        {
          "data": {
            "text/html": [
              "19"
            ],
            "text/latex": [
              "19"
            ],
            "text/markdown": [
              "19"
            ],
            "text/plain": [
              "[1] 19"
            ]
          },
          "metadata": {},
          "output_type": "display_data"
        }
      ],
      "execution_count": 75
    },
    {
      "cell_type": "markdown",
      "source": "Creating Matrix for Random Effects",
      "metadata": {}
    },
    {
      "cell_type": "code",
      "source": "Z = matrix(0, n_ph, n_ped)\ndim(Z)\nI = diag(n_ph)\nZ[1:n_ph, (n_ped - n_ph + 1):n_ped] = I",
      "metadata": {
        "scrolled": true
      },
      "outputs": [
        {
          "data": {
            "text/html": [
              "<style>\n",
              ".list-inline {list-style: none; margin:0; padding: 0}\n",
              ".list-inline>li {display: inline-block}\n",
              ".list-inline>li:not(:last-child)::after {content: \"\\00b7\"; padding: 0 .5ex}\n",
              "</style>\n",
              "<ol class=list-inline><li>179</li><li>499</li></ol>\n"
            ],
            "text/latex": [
              "\\begin{enumerate*}\n",
              "\\item 179\n",
              "\\item 499\n",
              "\\end{enumerate*}\n"
            ],
            "text/markdown": [
              "1. 179\n",
              "2. 499\n",
              "\n",
              "\n"
            ],
            "text/plain": [
              "[1] 179 499"
            ]
          },
          "metadata": {},
          "output_type": "display_data"
        }
      ],
      "execution_count": 76
    },
    {
      "cell_type": "markdown",
      "source": "5. Solving the System of Equations for the Mixed Model",
      "metadata": {}
    },
    {
      "cell_type": "code",
      "source": "library(MASS)\n\nmme = function(y, X, Z, A, sigma_a, sigma_e) {\n    alpha = sigma_e / sigma_a\n    invA = ginv(A)\n    C = rbind(cbind(t(X)%*%X, t(X)%*%Z),\n              cbind(t(Z)%*%X, t(Z)%*%Z+invA*alpha))\n    rhs = rbind(t(X)%*%y, t(Z)%*%y)\n    invC = ginv(C)\n    estimators = invC%*%rhs\n    list(mC = C, est = estimators)\n}\n\ny = as.matrix(IFL$IFL)\n\nsigma_alpha = 235.55\nsigma_error = 3632.90\n\nres = mme(y, X, Z, A, sigma_alpha, sigma_error)",
      "metadata": {},
      "outputs": [],
      "execution_count": 77
    },
    {
      "cell_type": "markdown",
      "source": "6. Estimation Accuracy",
      "metadata": {}
    },
    {
      "cell_type": "code",
      "source": "C = res$mC\ninvC = ginv(C)\n(k = ncol(X))\n(n = nrow(C))",
      "metadata": {},
      "outputs": [
        {
          "data": {
            "text/html": [
              "19"
            ],
            "text/latex": [
              "19"
            ],
            "text/markdown": [
              "19"
            ],
            "text/plain": [
              "[1] 19"
            ]
          },
          "metadata": {},
          "output_type": "display_data"
        },
        {
          "data": {
            "text/html": [
              "518"
            ],
            "text/latex": [
              "518"
            ],
            "text/markdown": [
              "518"
            ],
            "text/plain": [
              "[1] 518"
            ]
          },
          "metadata": {},
          "output_type": "display_data"
        }
      ],
      "execution_count": 64
    },
    {
      "cell_type": "code",
      "source": "invC22 = invC[(k+1):n, (k+1):n]\nalpha = sigma_error / sigma_alpha\nr2 = diag(1 - invC22*alpha)\nr2[r2 < 0] = 0\nr = sqrt(r2)\nsummary(r)",
      "metadata": {},
      "outputs": [
        {
          "data": {
            "text/plain": [
              "   Min. 1st Qu.  Median    Mean 3rd Qu.    Max. \n",
              " 0.0000  0.1193  0.1219  0.1616  0.2376  0.2958 "
            ]
          },
          "metadata": {},
          "output_type": "display_data"
        }
      ],
      "execution_count": 71
    },
    {
      "cell_type": "markdown",
      "source": "7. Odziedziczalność",
      "metadata": {}
    },
    {
      "cell_type": "code",
      "source": "(h2 = sigma_alpha / (sigma_alpha + sigma_error))",
      "metadata": {},
      "outputs": [
        {
          "data": {
            "text/html": [
              "0.0608900205508666"
            ],
            "text/latex": [
              "0.0608900205508666"
            ],
            "text/markdown": [
              "0.0608900205508666"
            ],
            "text/plain": [
              "[1] 0.06089002"
            ]
          },
          "metadata": {},
          "output_type": "display_data"
        }
      ],
      "execution_count": 37
    },
    {
      "cell_type": "markdown",
      "source": "8. Istotność efektów stałych",
      "metadata": {}
    },
    {
      "cell_type": "code",
      "source": "G = A*sigma_alpha\nR = diag(nrow(IFL))*sigma_error\nV = Z%*%G%*%t(Z) + R\n\nvarB = ginv(t(X)%*%ginv(V)%*%X)\nseB = sqrt(diag(varB))\n\ntestWalda = res$est[1:k] / seB\np_value = 2*pnorm(abs(testWalda), lower.tail = FALSE)\n\nwhich(p_value < 0.05)",
      "metadata": {
        "scrolled": true
      },
      "outputs": [
        {
          "data": {
            "text/html": [
              "<style>\n",
              ".list-inline {list-style: none; margin:0; padding: 0}\n",
              ".list-inline>li {display: inline-block}\n",
              ".list-inline>li:not(:last-child)::after {content: \"\\00b7\"; padding: 0 .5ex}\n",
              "</style>\n",
              "<ol class=list-inline><li>2</li><li>4</li><li>16</li><li>17</li><li>19</li></ol>\n"
            ],
            "text/latex": [
              "\\begin{enumerate*}\n",
              "\\item 2\n",
              "\\item 4\n",
              "\\item 16\n",
              "\\item 17\n",
              "\\item 19\n",
              "\\end{enumerate*}\n"
            ],
            "text/markdown": [
              "1. 2\n",
              "2. 4\n",
              "3. 16\n",
              "4. 17\n",
              "5. 19\n",
              "\n",
              "\n"
            ],
            "text/plain": [
              "[1]  2  4 16 17 19"
            ]
          },
          "metadata": {},
          "output_type": "display_data"
        }
      ],
      "execution_count": 68
    }
  ]
}