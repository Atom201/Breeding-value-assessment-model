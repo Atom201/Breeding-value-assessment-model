{
  "metadata": {
    "kernelspec": {
      "name": "python",
      "display_name": "Python (Pyodide)",
      "language": "python"
    },
    "language_info": {
      "codemirror_mode": "r",
      "file_extension": ".r",
      "mimetype": "text/x-r-source",
      "name": "R",
      "pygments_lexer": "r",
      "version": "4.1.2"
    }
  },
  "nbformat_minor": 4,
  "nbformat": 4,
  "cells": [
    {
      "cell_type": "markdown",
      "source": "### Multi-trait Best Linear Unbiased Prediction (BLUP)",
      "metadata": {}
    },
    {
      "cell_type": "markdown",
      "source": "$\\textbf{y}_{1} = \\textbf{X}_{1}\\beta_{1}+\\textbf{Z}_{1}\\textbf{a}_{1}+\\epsilon_{1}$ oraz $\\textbf{y}_{2} = \\textbf{X}_{2}\\beta_{2}+\\textbf{Z}_{2}\\textbf{a}_{2}+\\epsilon_{2}$",
      "metadata": {}
    },
    {
      "cell_type": "markdown",
      "source": "$ \\left[ \\begin{array}{c}\n         \\mathbf{y}_{1} \\\\\n         \\mathbf{y}_{2}\\end{array}\\right] = \n  \\left[ \\begin{array}{cc}\n         \\mathbf{X}_{1} & \\mathbf{0} \\\\\n         \\mathbf{0} & \\mathbf{X}_{2} \\end{array}\\right]\\cdot\n  \\left[ \\begin{array}{c}\n         \\mathbf{\\beta}_{1} \\\\\n         \\mathbf{\\beta}_{2} \\end{array}\\right] +\n  \\left[ \\begin{array}{cc}\n         \\mathbf{Z}_{1} & \\mathbf{0} \\\\\n         \\mathbf{0} & \\mathbf{Z}_{2} \\end{array}\\right]\\cdot\n  \\left[ \\begin{array}{c}\n         \\mathbf{a}_{1} \\\\\n         \\mathbf{a}_{2} \\end{array}\\right] +\n  \\left[ \\begin{array}{c}\n         \\mathbf{\\epsilon}_{1} \\\\\n         \\mathbf{\\epsilon}_{2}\\end{array}\\right]$",
      "metadata": {}
    },
    {
      "cell_type": "markdown",
      "source": "Correlation between effects",
      "metadata": {}
    },
    {
      "cell_type": "markdown",
      "source": "$var\\left[ \\begin{array}{c}\n         \\mathbf{a}_{1} \\\\\n         \\mathbf{a}_{2} \\\\ \n         \\mathbf{\\epsilon}_{1} \\\\\n         \\mathbf{\\epsilon}_{2}\n         \\end{array}\\right] = \n    \\left[ \\begin{array}{cccc}\n         \\mathbf{g}_{11}\\mathbf{A} & \\mathbf{g}_{12}\\mathbf{A} & \\mathbf{0} & \\mathbf{0} \\\\\n         \\mathbf{g}_{21}\\mathbf{A} & \\mathbf{g}_{22}\\mathbf{A} & \\mathbf{0} & \\mathbf{0} \\\\ \n         \\mathbf{0} & \\mathbf{0} & \\mathbf{r}_{11}\\mathbf{I} & \\mathbf{r}_{12}\\mathbf{I} \\\\\n         \\mathbf{0} & \\mathbf{0} & \\mathbf{r}_{21}\\mathbf{I} & \\mathbf{r}_{22}\\mathbf{I}\n         \\end{array}\\right] $",
      "metadata": {}
    },
    {
      "cell_type": "markdown",
      "source": "System of mixed equations",
      "metadata": {}
    },
    {
      "cell_type": "markdown",
      "source": "$ \\left[ \\begin{array}{cc}\n         \\mathbf{X}^{T}\\mathbf{R}^{-1}\\mathbf{X} & \\mathbf{X}^{T}\\mathbf{R}^{-1}\\mathbf{Z} \\\\\n         \\mathbf{Z}^{T}\\mathbf{R}^{-1}\\mathbf{X} & \\mathbf{Z}^{T}\\mathbf{R}^{-1}\\mathbf{Z}+\\mathbf{A}^{-1}\\otimes \\mathbf{G}^{-1} \\end{array}\\right]\\cdot\n  \\left[ \\begin{array}{c}\n         \\widehat{\\mathbf{\\beta}} \\\\\n         \\widehat{\\mathbf{a}} \\end{array}\\right]=\n  \\left[ \\begin{array}{c}\n         \\mathbf{X}^{T}\\mathbf{R}^{-1}\\mathbf{y} \\\\\n         \\mathbf{Z}^{T}\\mathbf{R}^{-1}\\mathbf{y} \\end{array}\\right]$, gdzie",
      "metadata": {}
    },
    {
      "cell_type": "markdown",
      "source": "$ \\mathbf{y} = \\left[ \\begin{array}{c}\n         \\mathbf{y}_{1} \\\\\n         \\mathbf{y}_{2}\\end{array}\\right]$, $ \\mathbf{X} = \\left[ \\begin{array}{cc}\n         \\mathbf{X}_{1} & \\mathbf{0} \\\\\n         \\mathbf{0} & \\mathbf{X}_{2} \\end{array}\\right]$, \n$ \\mathbf{\\beta} = \\left[ \\begin{array}{c}\n         \\mathbf{\\beta}_{1} \\\\\n         \\mathbf{\\beta}_{2} \\end{array}\\right]$, \n$ \\mathbf{Z} =  \\left[ \\begin{array}{cc}\n         \\mathbf{Z}_{1} & \\mathbf{0} \\\\\n         \\mathbf{0} & \\mathbf{Z}_{2} \\end{array}\\right]$,\n$ \\mathbf{a} = \\left[ \\begin{array}{c}\n         \\mathbf{a}_{1} \\\\\n         \\mathbf{a}_{2} \\end{array}\\right]$,\n$ \\mathbf{\\epsilon} = \\left[ \\begin{array}{c}\n         \\mathbf{\\epsilon}_{1} \\\\\n         \\mathbf{\\epsilon}_{2}\\end{array}\\right]$",
      "metadata": {}
    },
    {
      "cell_type": "markdown",
      "source": "0. Kronecker product",
      "metadata": {}
    },
    {
      "cell_type": "code",
      "source": "(A=matrix(1:4,2,2))\n(B=matrix(1:9,3,3))",
      "metadata": {
        "scrolled": true
      },
      "outputs": [
        {
          "data": {
            "text/html": [
              "<table class=\"dataframe\">\n",
              "<caption>A matrix: 2 × 2 of type int</caption>\n",
              "<tbody>\n",
              "\t<tr><td>1</td><td>3</td></tr>\n",
              "\t<tr><td>2</td><td>4</td></tr>\n",
              "</tbody>\n",
              "</table>\n"
            ],
            "text/latex": [
              "A matrix: 2 × 2 of type int\n",
              "\\begin{tabular}{ll}\n",
              "\t 1 & 3\\\\\n",
              "\t 2 & 4\\\\\n",
              "\\end{tabular}\n"
            ],
            "text/markdown": [
              "\n",
              "A matrix: 2 × 2 of type int\n",
              "\n",
              "| 1 | 3 |\n",
              "| 2 | 4 |\n",
              "\n"
            ],
            "text/plain": [
              "     [,1] [,2]\n",
              "[1,] 1    3   \n",
              "[2,] 2    4   "
            ]
          },
          "metadata": {},
          "output_type": "display_data"
        },
        {
          "data": {
            "text/html": [
              "<table class=\"dataframe\">\n",
              "<caption>A matrix: 3 × 3 of type int</caption>\n",
              "<tbody>\n",
              "\t<tr><td>1</td><td>4</td><td>7</td></tr>\n",
              "\t<tr><td>2</td><td>5</td><td>8</td></tr>\n",
              "\t<tr><td>3</td><td>6</td><td>9</td></tr>\n",
              "</tbody>\n",
              "</table>\n"
            ],
            "text/latex": [
              "A matrix: 3 × 3 of type int\n",
              "\\begin{tabular}{lll}\n",
              "\t 1 & 4 & 7\\\\\n",
              "\t 2 & 5 & 8\\\\\n",
              "\t 3 & 6 & 9\\\\\n",
              "\\end{tabular}\n"
            ],
            "text/markdown": [
              "\n",
              "A matrix: 3 × 3 of type int\n",
              "\n",
              "| 1 | 4 | 7 |\n",
              "| 2 | 5 | 8 |\n",
              "| 3 | 6 | 9 |\n",
              "\n"
            ],
            "text/plain": [
              "     [,1] [,2] [,3]\n",
              "[1,] 1    4    7   \n",
              "[2,] 2    5    8   \n",
              "[3,] 3    6    9   "
            ]
          },
          "metadata": {},
          "output_type": "display_data"
        }
      ],
      "execution_count": 1
    },
    {
      "cell_type": "code",
      "source": "kronecker(A, B)",
      "metadata": {},
      "outputs": [
        {
          "data": {
            "text/html": [
              "<table class=\"dataframe\">\n",
              "<caption>A matrix: 6 × 6 of type dbl</caption>\n",
              "<tbody>\n",
              "\t<tr><td>1</td><td> 4</td><td> 7</td><td> 3</td><td>12</td><td>21</td></tr>\n",
              "\t<tr><td>2</td><td> 5</td><td> 8</td><td> 6</td><td>15</td><td>24</td></tr>\n",
              "\t<tr><td>3</td><td> 6</td><td> 9</td><td> 9</td><td>18</td><td>27</td></tr>\n",
              "\t<tr><td>2</td><td> 8</td><td>14</td><td> 4</td><td>16</td><td>28</td></tr>\n",
              "\t<tr><td>4</td><td>10</td><td>16</td><td> 8</td><td>20</td><td>32</td></tr>\n",
              "\t<tr><td>6</td><td>12</td><td>18</td><td>12</td><td>24</td><td>36</td></tr>\n",
              "</tbody>\n",
              "</table>\n"
            ],
            "text/latex": [
              "A matrix: 6 × 6 of type dbl\n",
              "\\begin{tabular}{llllll}\n",
              "\t 1 &  4 &  7 &  3 & 12 & 21\\\\\n",
              "\t 2 &  5 &  8 &  6 & 15 & 24\\\\\n",
              "\t 3 &  6 &  9 &  9 & 18 & 27\\\\\n",
              "\t 2 &  8 & 14 &  4 & 16 & 28\\\\\n",
              "\t 4 & 10 & 16 &  8 & 20 & 32\\\\\n",
              "\t 6 & 12 & 18 & 12 & 24 & 36\\\\\n",
              "\\end{tabular}\n"
            ],
            "text/markdown": [
              "\n",
              "A matrix: 6 × 6 of type dbl\n",
              "\n",
              "| 1 |  4 |  7 |  3 | 12 | 21 |\n",
              "| 2 |  5 |  8 |  6 | 15 | 24 |\n",
              "| 3 |  6 |  9 |  9 | 18 | 27 |\n",
              "| 2 |  8 | 14 |  4 | 16 | 28 |\n",
              "| 4 | 10 | 16 |  8 | 20 | 32 |\n",
              "| 6 | 12 | 18 | 12 | 24 | 36 |\n",
              "\n"
            ],
            "text/plain": [
              "     [,1] [,2] [,3] [,4] [,5] [,6]\n",
              "[1,] 1     4    7    3   12   21  \n",
              "[2,] 2     5    8    6   15   24  \n",
              "[3,] 3     6    9    9   18   27  \n",
              "[4,] 2     8   14    4   16   28  \n",
              "[5,] 4    10   16    8   20   32  \n",
              "[6,] 6    12   18   12   24   36  "
            ]
          },
          "metadata": {},
          "output_type": "display_data"
        }
      ],
      "execution_count": 2
    },
    {
      "cell_type": "markdown",
      "source": "1. Matrix A",
      "metadata": {}
    },
    {
      "cell_type": "code",
      "source": "install.packages(\"AGHmatrix\")",
      "metadata": {},
      "outputs": [
        {
          "name": "stderr",
          "output_type": "stream",
          "text": [
            "Installing package into ‘/srv/rlibs’\n",
            "(as ‘lib’ is unspecified)\n",
            "\n",
            "also installing the dependency ‘zoo’\n",
            "\n",
            "\n"
          ]
        }
      ],
      "execution_count": 3
    },
    {
      "cell_type": "code",
      "source": "library(AGHmatrix)\n\nid = 1:8\nsire = c(0, 0, 0, 1, 3, 1, 4, 3)\ndam = c(0, 0, 0, 0, 2, 2, 5, 6)\n\n(ped = cbind(id, sire, dam))",
      "metadata": {
        "scrolled": true
      },
      "outputs": [
        {
          "data": {
            "text/html": [
              "<table class=\"dataframe\">\n",
              "<caption>A matrix: 8 × 3 of type dbl</caption>\n",
              "<thead>\n",
              "\t<tr><th scope=col>id</th><th scope=col>sire</th><th scope=col>dam</th></tr>\n",
              "</thead>\n",
              "<tbody>\n",
              "\t<tr><td>1</td><td>0</td><td>0</td></tr>\n",
              "\t<tr><td>2</td><td>0</td><td>0</td></tr>\n",
              "\t<tr><td>3</td><td>0</td><td>0</td></tr>\n",
              "\t<tr><td>4</td><td>1</td><td>0</td></tr>\n",
              "\t<tr><td>5</td><td>3</td><td>2</td></tr>\n",
              "\t<tr><td>6</td><td>1</td><td>2</td></tr>\n",
              "\t<tr><td>7</td><td>4</td><td>5</td></tr>\n",
              "\t<tr><td>8</td><td>3</td><td>6</td></tr>\n",
              "</tbody>\n",
              "</table>\n"
            ],
            "text/latex": [
              "A matrix: 8 × 3 of type dbl\n",
              "\\begin{tabular}{lll}\n",
              " id & sire & dam\\\\\n",
              "\\hline\n",
              "\t 1 & 0 & 0\\\\\n",
              "\t 2 & 0 & 0\\\\\n",
              "\t 3 & 0 & 0\\\\\n",
              "\t 4 & 1 & 0\\\\\n",
              "\t 5 & 3 & 2\\\\\n",
              "\t 6 & 1 & 2\\\\\n",
              "\t 7 & 4 & 5\\\\\n",
              "\t 8 & 3 & 6\\\\\n",
              "\\end{tabular}\n"
            ],
            "text/markdown": [
              "\n",
              "A matrix: 8 × 3 of type dbl\n",
              "\n",
              "| id | sire | dam |\n",
              "|---|---|---|\n",
              "| 1 | 0 | 0 |\n",
              "| 2 | 0 | 0 |\n",
              "| 3 | 0 | 0 |\n",
              "| 4 | 1 | 0 |\n",
              "| 5 | 3 | 2 |\n",
              "| 6 | 1 | 2 |\n",
              "| 7 | 4 | 5 |\n",
              "| 8 | 3 | 6 |\n",
              "\n"
            ],
            "text/plain": [
              "     id sire dam\n",
              "[1,] 1  0    0  \n",
              "[2,] 2  0    0  \n",
              "[3,] 3  0    0  \n",
              "[4,] 4  1    0  \n",
              "[5,] 5  3    2  \n",
              "[6,] 6  1    2  \n",
              "[7,] 7  4    5  \n",
              "[8,] 8  3    6  "
            ]
          },
          "metadata": {},
          "output_type": "display_data"
        }
      ],
      "execution_count": 4
    },
    {
      "cell_type": "code",
      "source": "(A = Amatrix(ped))\nA = as.matrix(A)",
      "metadata": {
        "scrolled": true
      },
      "outputs": [
        {
          "name": "stdout",
          "output_type": "stream",
          "text": [
            "Verifying conflicting data... \n",
            "Organizing data... \n",
            "Your data was chronologically organized with success. \n",
            "Constructing matrix A using ploidy = 2 \n",
            "Completed! Time = 1.666667e-05  minutes \n"
          ]
        },
        {
          "data": {
            "text/html": [
              "<table class=\"dataframe\">\n",
              "<caption>A matrix: 8 × 8 of type dbl</caption>\n",
              "<thead>\n",
              "\t<tr><th></th><th scope=col>1</th><th scope=col>2</th><th scope=col>3</th><th scope=col>4</th><th scope=col>5</th><th scope=col>6</th><th scope=col>7</th><th scope=col>8</th></tr>\n",
              "</thead>\n",
              "<tbody>\n",
              "\t<tr><th scope=row>1</th><td>1.00</td><td>0.00</td><td>0.00</td><td>0.500</td><td>0.000</td><td>0.50</td><td>0.25</td><td>0.250</td></tr>\n",
              "\t<tr><th scope=row>2</th><td>0.00</td><td>1.00</td><td>0.00</td><td>0.000</td><td>0.500</td><td>0.50</td><td>0.25</td><td>0.250</td></tr>\n",
              "\t<tr><th scope=row>3</th><td>0.00</td><td>0.00</td><td>1.00</td><td>0.000</td><td>0.500</td><td>0.00</td><td>0.25</td><td>0.500</td></tr>\n",
              "\t<tr><th scope=row>4</th><td>0.50</td><td>0.00</td><td>0.00</td><td>1.000</td><td>0.000</td><td>0.25</td><td>0.50</td><td>0.125</td></tr>\n",
              "\t<tr><th scope=row>5</th><td>0.00</td><td>0.50</td><td>0.50</td><td>0.000</td><td>1.000</td><td>0.25</td><td>0.50</td><td>0.375</td></tr>\n",
              "\t<tr><th scope=row>6</th><td>0.50</td><td>0.50</td><td>0.00</td><td>0.250</td><td>0.250</td><td>1.00</td><td>0.25</td><td>0.500</td></tr>\n",
              "\t<tr><th scope=row>7</th><td>0.25</td><td>0.25</td><td>0.25</td><td>0.500</td><td>0.500</td><td>0.25</td><td>1.00</td><td>0.250</td></tr>\n",
              "\t<tr><th scope=row>8</th><td>0.25</td><td>0.25</td><td>0.50</td><td>0.125</td><td>0.375</td><td>0.50</td><td>0.25</td><td>1.000</td></tr>\n",
              "</tbody>\n",
              "</table>\n"
            ],
            "text/latex": [
              "A matrix: 8 × 8 of type dbl\n",
              "\\begin{tabular}{r|llllllll}\n",
              "  & 1 & 2 & 3 & 4 & 5 & 6 & 7 & 8\\\\\n",
              "\\hline\n",
              "\t1 & 1.00 & 0.00 & 0.00 & 0.500 & 0.000 & 0.50 & 0.25 & 0.250\\\\\n",
              "\t2 & 0.00 & 1.00 & 0.00 & 0.000 & 0.500 & 0.50 & 0.25 & 0.250\\\\\n",
              "\t3 & 0.00 & 0.00 & 1.00 & 0.000 & 0.500 & 0.00 & 0.25 & 0.500\\\\\n",
              "\t4 & 0.50 & 0.00 & 0.00 & 1.000 & 0.000 & 0.25 & 0.50 & 0.125\\\\\n",
              "\t5 & 0.00 & 0.50 & 0.50 & 0.000 & 1.000 & 0.25 & 0.50 & 0.375\\\\\n",
              "\t6 & 0.50 & 0.50 & 0.00 & 0.250 & 0.250 & 1.00 & 0.25 & 0.500\\\\\n",
              "\t7 & 0.25 & 0.25 & 0.25 & 0.500 & 0.500 & 0.25 & 1.00 & 0.250\\\\\n",
              "\t8 & 0.25 & 0.25 & 0.50 & 0.125 & 0.375 & 0.50 & 0.25 & 1.000\\\\\n",
              "\\end{tabular}\n"
            ],
            "text/markdown": [
              "\n",
              "A matrix: 8 × 8 of type dbl\n",
              "\n",
              "| <!--/--> | 1 | 2 | 3 | 4 | 5 | 6 | 7 | 8 |\n",
              "|---|---|---|---|---|---|---|---|---|\n",
              "| 1 | 1.00 | 0.00 | 0.00 | 0.500 | 0.000 | 0.50 | 0.25 | 0.250 |\n",
              "| 2 | 0.00 | 1.00 | 0.00 | 0.000 | 0.500 | 0.50 | 0.25 | 0.250 |\n",
              "| 3 | 0.00 | 0.00 | 1.00 | 0.000 | 0.500 | 0.00 | 0.25 | 0.500 |\n",
              "| 4 | 0.50 | 0.00 | 0.00 | 1.000 | 0.000 | 0.25 | 0.50 | 0.125 |\n",
              "| 5 | 0.00 | 0.50 | 0.50 | 0.000 | 1.000 | 0.25 | 0.50 | 0.375 |\n",
              "| 6 | 0.50 | 0.50 | 0.00 | 0.250 | 0.250 | 1.00 | 0.25 | 0.500 |\n",
              "| 7 | 0.25 | 0.25 | 0.25 | 0.500 | 0.500 | 0.25 | 1.00 | 0.250 |\n",
              "| 8 | 0.25 | 0.25 | 0.50 | 0.125 | 0.375 | 0.50 | 0.25 | 1.000 |\n",
              "\n"
            ],
            "text/plain": [
              "  1    2    3    4     5     6    7    8    \n",
              "1 1.00 0.00 0.00 0.500 0.000 0.50 0.25 0.250\n",
              "2 0.00 1.00 0.00 0.000 0.500 0.50 0.25 0.250\n",
              "3 0.00 0.00 1.00 0.000 0.500 0.00 0.25 0.500\n",
              "4 0.50 0.00 0.00 1.000 0.000 0.25 0.50 0.125\n",
              "5 0.00 0.50 0.50 0.000 1.000 0.25 0.50 0.375\n",
              "6 0.50 0.50 0.00 0.250 0.250 1.00 0.25 0.500\n",
              "7 0.25 0.25 0.25 0.500 0.500 0.25 1.00 0.250\n",
              "8 0.25 0.25 0.50 0.125 0.375 0.50 0.25 1.000"
            ]
          },
          "metadata": {},
          "output_type": "display_data"
        }
      ],
      "execution_count": 5
    },
    {
      "cell_type": "markdown",
      "source": "2. Other sources of information",
      "metadata": {}
    },
    {
      "cell_type": "code",
      "source": "y1 = as.matrix(c(4.5, 2.9, 3.9, 3.5, 5.0))\ny2 = as.matrix(c(6.8, 5.0, 6.8, 6.0, 7.5))\n\n(G = matrix(c(20, 18, 18, 40), 2, 2))\n(R = matrix(c(40, 11, 11, 30), 2, 2))",
      "metadata": {
        "scrolled": true
      },
      "outputs": [
        {
          "data": {
            "text/html": [
              "<table class=\"dataframe\">\n",
              "<caption>A matrix: 2 × 2 of type dbl</caption>\n",
              "<tbody>\n",
              "\t<tr><td>20</td><td>18</td></tr>\n",
              "\t<tr><td>18</td><td>40</td></tr>\n",
              "</tbody>\n",
              "</table>\n"
            ],
            "text/latex": [
              "A matrix: 2 × 2 of type dbl\n",
              "\\begin{tabular}{ll}\n",
              "\t 20 & 18\\\\\n",
              "\t 18 & 40\\\\\n",
              "\\end{tabular}\n"
            ],
            "text/markdown": [
              "\n",
              "A matrix: 2 × 2 of type dbl\n",
              "\n",
              "| 20 | 18 |\n",
              "| 18 | 40 |\n",
              "\n"
            ],
            "text/plain": [
              "     [,1] [,2]\n",
              "[1,] 20   18  \n",
              "[2,] 18   40  "
            ]
          },
          "metadata": {},
          "output_type": "display_data"
        },
        {
          "data": {
            "text/html": [
              "<table class=\"dataframe\">\n",
              "<caption>A matrix: 2 × 2 of type dbl</caption>\n",
              "<tbody>\n",
              "\t<tr><td>40</td><td>11</td></tr>\n",
              "\t<tr><td>11</td><td>30</td></tr>\n",
              "</tbody>\n",
              "</table>\n"
            ],
            "text/latex": [
              "A matrix: 2 × 2 of type dbl\n",
              "\\begin{tabular}{ll}\n",
              "\t 40 & 11\\\\\n",
              "\t 11 & 30\\\\\n",
              "\\end{tabular}\n"
            ],
            "text/markdown": [
              "\n",
              "A matrix: 2 × 2 of type dbl\n",
              "\n",
              "| 40 | 11 |\n",
              "| 11 | 30 |\n",
              "\n"
            ],
            "text/plain": [
              "     [,1] [,2]\n",
              "[1,] 40   11  \n",
              "[2,] 11   30  "
            ]
          },
          "metadata": {},
          "output_type": "display_data"
        }
      ],
      "execution_count": 6
    },
    {
      "cell_type": "code",
      "source": "sex = c(1, 0, 0, 1, 1)\nX1 = matrix(0, 5, 2)\nX1[, 1] = sex\nX1[, 2] = 1-sex\nX2 = X1",
      "metadata": {},
      "outputs": [],
      "execution_count": 7
    },
    {
      "cell_type": "code",
      "source": "I = diag(5)\nZ1 = matrix(0, 5, 8)\nZ1[1:5, 4:8] = I\nZ2 = Z1",
      "metadata": {},
      "outputs": [],
      "execution_count": 8
    },
    {
      "cell_type": "markdown",
      "source": "3. Solving a system of equations for a mixed model",
      "metadata": {}
    },
    {
      "cell_type": "code",
      "source": "library(MASS)\n\nmme2 = function(y, X, Z, A, G, R) {\n    invA = ginv(A)\n    invG = ginv(G)\n    R = kronecker(R, diag(5))\n    invR = ginv(R)\n    C = rbind(cbind(t(X)%*%invR%*%X, t(X)%*%invR%*%Z),\n              cbind(t(Z)%*%invR%*%X, t(Z)%*%invR%*%Z+kronecker(invG, invA)))\n    rhs = rbind(t(X)%*%invR%*%y, t(Z)%*%invR%*%y)\n    invC = ginv(C)\n    estimators = invC%*%rhs\n    list(C = C, est = estimators)\n}",
      "metadata": {},
      "outputs": [],
      "execution_count": 9
    },
    {
      "cell_type": "code",
      "source": "y = as.matrix(c(y1, y2))\n\nX = matrix(0, 10, 4)\nX[1:5, 1:2] = X1\nX[6:10, 3:4] = X2\nX\n\nZ = matrix(0, 10, 16)\nZ[1:5, 1:8] = Z1\nZ[6:10, 9:16] = Z2\nZ",
      "metadata": {},
      "outputs": [
        {
          "data": {
            "text/html": [
              "<table class=\"dataframe\">\n",
              "<caption>A matrix: 10 × 4 of type dbl</caption>\n",
              "<tbody>\n",
              "\t<tr><td>1</td><td>0</td><td>0</td><td>0</td></tr>\n",
              "\t<tr><td>0</td><td>1</td><td>0</td><td>0</td></tr>\n",
              "\t<tr><td>0</td><td>1</td><td>0</td><td>0</td></tr>\n",
              "\t<tr><td>1</td><td>0</td><td>0</td><td>0</td></tr>\n",
              "\t<tr><td>1</td><td>0</td><td>0</td><td>0</td></tr>\n",
              "\t<tr><td>0</td><td>0</td><td>1</td><td>0</td></tr>\n",
              "\t<tr><td>0</td><td>0</td><td>0</td><td>1</td></tr>\n",
              "\t<tr><td>0</td><td>0</td><td>0</td><td>1</td></tr>\n",
              "\t<tr><td>0</td><td>0</td><td>1</td><td>0</td></tr>\n",
              "\t<tr><td>0</td><td>0</td><td>1</td><td>0</td></tr>\n",
              "</tbody>\n",
              "</table>\n"
            ],
            "text/latex": [
              "A matrix: 10 × 4 of type dbl\n",
              "\\begin{tabular}{llll}\n",
              "\t 1 & 0 & 0 & 0\\\\\n",
              "\t 0 & 1 & 0 & 0\\\\\n",
              "\t 0 & 1 & 0 & 0\\\\\n",
              "\t 1 & 0 & 0 & 0\\\\\n",
              "\t 1 & 0 & 0 & 0\\\\\n",
              "\t 0 & 0 & 1 & 0\\\\\n",
              "\t 0 & 0 & 0 & 1\\\\\n",
              "\t 0 & 0 & 0 & 1\\\\\n",
              "\t 0 & 0 & 1 & 0\\\\\n",
              "\t 0 & 0 & 1 & 0\\\\\n",
              "\\end{tabular}\n"
            ],
            "text/markdown": [
              "\n",
              "A matrix: 10 × 4 of type dbl\n",
              "\n",
              "| 1 | 0 | 0 | 0 |\n",
              "| 0 | 1 | 0 | 0 |\n",
              "| 0 | 1 | 0 | 0 |\n",
              "| 1 | 0 | 0 | 0 |\n",
              "| 1 | 0 | 0 | 0 |\n",
              "| 0 | 0 | 1 | 0 |\n",
              "| 0 | 0 | 0 | 1 |\n",
              "| 0 | 0 | 0 | 1 |\n",
              "| 0 | 0 | 1 | 0 |\n",
              "| 0 | 0 | 1 | 0 |\n",
              "\n"
            ],
            "text/plain": [
              "      [,1] [,2] [,3] [,4]\n",
              " [1,] 1    0    0    0   \n",
              " [2,] 0    1    0    0   \n",
              " [3,] 0    1    0    0   \n",
              " [4,] 1    0    0    0   \n",
              " [5,] 1    0    0    0   \n",
              " [6,] 0    0    1    0   \n",
              " [7,] 0    0    0    1   \n",
              " [8,] 0    0    0    1   \n",
              " [9,] 0    0    1    0   \n",
              "[10,] 0    0    1    0   "
            ]
          },
          "metadata": {},
          "output_type": "display_data"
        },
        {
          "data": {
            "text/html": [
              "<table class=\"dataframe\">\n",
              "<caption>A matrix: 10 × 16 of type dbl</caption>\n",
              "<tbody>\n",
              "\t<tr><td>0</td><td>0</td><td>0</td><td>1</td><td>0</td><td>0</td><td>0</td><td>0</td><td>0</td><td>0</td><td>0</td><td>0</td><td>0</td><td>0</td><td>0</td><td>0</td></tr>\n",
              "\t<tr><td>0</td><td>0</td><td>0</td><td>0</td><td>1</td><td>0</td><td>0</td><td>0</td><td>0</td><td>0</td><td>0</td><td>0</td><td>0</td><td>0</td><td>0</td><td>0</td></tr>\n",
              "\t<tr><td>0</td><td>0</td><td>0</td><td>0</td><td>0</td><td>1</td><td>0</td><td>0</td><td>0</td><td>0</td><td>0</td><td>0</td><td>0</td><td>0</td><td>0</td><td>0</td></tr>\n",
              "\t<tr><td>0</td><td>0</td><td>0</td><td>0</td><td>0</td><td>0</td><td>1</td><td>0</td><td>0</td><td>0</td><td>0</td><td>0</td><td>0</td><td>0</td><td>0</td><td>0</td></tr>\n",
              "\t<tr><td>0</td><td>0</td><td>0</td><td>0</td><td>0</td><td>0</td><td>0</td><td>1</td><td>0</td><td>0</td><td>0</td><td>0</td><td>0</td><td>0</td><td>0</td><td>0</td></tr>\n",
              "\t<tr><td>0</td><td>0</td><td>0</td><td>0</td><td>0</td><td>0</td><td>0</td><td>0</td><td>0</td><td>0</td><td>0</td><td>1</td><td>0</td><td>0</td><td>0</td><td>0</td></tr>\n",
              "\t<tr><td>0</td><td>0</td><td>0</td><td>0</td><td>0</td><td>0</td><td>0</td><td>0</td><td>0</td><td>0</td><td>0</td><td>0</td><td>1</td><td>0</td><td>0</td><td>0</td></tr>\n",
              "\t<tr><td>0</td><td>0</td><td>0</td><td>0</td><td>0</td><td>0</td><td>0</td><td>0</td><td>0</td><td>0</td><td>0</td><td>0</td><td>0</td><td>1</td><td>0</td><td>0</td></tr>\n",
              "\t<tr><td>0</td><td>0</td><td>0</td><td>0</td><td>0</td><td>0</td><td>0</td><td>0</td><td>0</td><td>0</td><td>0</td><td>0</td><td>0</td><td>0</td><td>1</td><td>0</td></tr>\n",
              "\t<tr><td>0</td><td>0</td><td>0</td><td>0</td><td>0</td><td>0</td><td>0</td><td>0</td><td>0</td><td>0</td><td>0</td><td>0</td><td>0</td><td>0</td><td>0</td><td>1</td></tr>\n",
              "</tbody>\n",
              "</table>\n"
            ],
            "text/latex": [
              "A matrix: 10 × 16 of type dbl\n",
              "\\begin{tabular}{llllllllllllllll}\n",
              "\t 0 & 0 & 0 & 1 & 0 & 0 & 0 & 0 & 0 & 0 & 0 & 0 & 0 & 0 & 0 & 0\\\\\n",
              "\t 0 & 0 & 0 & 0 & 1 & 0 & 0 & 0 & 0 & 0 & 0 & 0 & 0 & 0 & 0 & 0\\\\\n",
              "\t 0 & 0 & 0 & 0 & 0 & 1 & 0 & 0 & 0 & 0 & 0 & 0 & 0 & 0 & 0 & 0\\\\\n",
              "\t 0 & 0 & 0 & 0 & 0 & 0 & 1 & 0 & 0 & 0 & 0 & 0 & 0 & 0 & 0 & 0\\\\\n",
              "\t 0 & 0 & 0 & 0 & 0 & 0 & 0 & 1 & 0 & 0 & 0 & 0 & 0 & 0 & 0 & 0\\\\\n",
              "\t 0 & 0 & 0 & 0 & 0 & 0 & 0 & 0 & 0 & 0 & 0 & 1 & 0 & 0 & 0 & 0\\\\\n",
              "\t 0 & 0 & 0 & 0 & 0 & 0 & 0 & 0 & 0 & 0 & 0 & 0 & 1 & 0 & 0 & 0\\\\\n",
              "\t 0 & 0 & 0 & 0 & 0 & 0 & 0 & 0 & 0 & 0 & 0 & 0 & 0 & 1 & 0 & 0\\\\\n",
              "\t 0 & 0 & 0 & 0 & 0 & 0 & 0 & 0 & 0 & 0 & 0 & 0 & 0 & 0 & 1 & 0\\\\\n",
              "\t 0 & 0 & 0 & 0 & 0 & 0 & 0 & 0 & 0 & 0 & 0 & 0 & 0 & 0 & 0 & 1\\\\\n",
              "\\end{tabular}\n"
            ],
            "text/markdown": [
              "\n",
              "A matrix: 10 × 16 of type dbl\n",
              "\n",
              "| 0 | 0 | 0 | 1 | 0 | 0 | 0 | 0 | 0 | 0 | 0 | 0 | 0 | 0 | 0 | 0 |\n",
              "| 0 | 0 | 0 | 0 | 1 | 0 | 0 | 0 | 0 | 0 | 0 | 0 | 0 | 0 | 0 | 0 |\n",
              "| 0 | 0 | 0 | 0 | 0 | 1 | 0 | 0 | 0 | 0 | 0 | 0 | 0 | 0 | 0 | 0 |\n",
              "| 0 | 0 | 0 | 0 | 0 | 0 | 1 | 0 | 0 | 0 | 0 | 0 | 0 | 0 | 0 | 0 |\n",
              "| 0 | 0 | 0 | 0 | 0 | 0 | 0 | 1 | 0 | 0 | 0 | 0 | 0 | 0 | 0 | 0 |\n",
              "| 0 | 0 | 0 | 0 | 0 | 0 | 0 | 0 | 0 | 0 | 0 | 1 | 0 | 0 | 0 | 0 |\n",
              "| 0 | 0 | 0 | 0 | 0 | 0 | 0 | 0 | 0 | 0 | 0 | 0 | 1 | 0 | 0 | 0 |\n",
              "| 0 | 0 | 0 | 0 | 0 | 0 | 0 | 0 | 0 | 0 | 0 | 0 | 0 | 1 | 0 | 0 |\n",
              "| 0 | 0 | 0 | 0 | 0 | 0 | 0 | 0 | 0 | 0 | 0 | 0 | 0 | 0 | 1 | 0 |\n",
              "| 0 | 0 | 0 | 0 | 0 | 0 | 0 | 0 | 0 | 0 | 0 | 0 | 0 | 0 | 0 | 1 |\n",
              "\n"
            ],
            "text/plain": [
              "      [,1] [,2] [,3] [,4] [,5] [,6] [,7] [,8] [,9] [,10] [,11] [,12] [,13]\n",
              " [1,] 0    0    0    1    0    0    0    0    0    0     0     0     0    \n",
              " [2,] 0    0    0    0    1    0    0    0    0    0     0     0     0    \n",
              " [3,] 0    0    0    0    0    1    0    0    0    0     0     0     0    \n",
              " [4,] 0    0    0    0    0    0    1    0    0    0     0     0     0    \n",
              " [5,] 0    0    0    0    0    0    0    1    0    0     0     0     0    \n",
              " [6,] 0    0    0    0    0    0    0    0    0    0     0     1     0    \n",
              " [7,] 0    0    0    0    0    0    0    0    0    0     0     0     1    \n",
              " [8,] 0    0    0    0    0    0    0    0    0    0     0     0     0    \n",
              " [9,] 0    0    0    0    0    0    0    0    0    0     0     0     0    \n",
              "[10,] 0    0    0    0    0    0    0    0    0    0     0     0     0    \n",
              "      [,14] [,15] [,16]\n",
              " [1,] 0     0     0    \n",
              " [2,] 0     0     0    \n",
              " [3,] 0     0     0    \n",
              " [4,] 0     0     0    \n",
              " [5,] 0     0     0    \n",
              " [6,] 0     0     0    \n",
              " [7,] 0     0     0    \n",
              " [8,] 1     0     0    \n",
              " [9,] 0     1     0    \n",
              "[10,] 0     0     1    "
            ]
          },
          "metadata": {},
          "output_type": "display_data"
        }
      ],
      "execution_count": 10
    },
    {
      "cell_type": "code",
      "source": "results_2 = mme2(y, X, Z, A, G, R)",
      "metadata": {
        "scrolled": true
      },
      "outputs": [],
      "execution_count": 11
    },
    {
      "cell_type": "code",
      "source": "results_2",
      "metadata": {},
      "outputs": [
        {
          "data": {
            "text/html": [
              "<dl>\n",
              "\t<dt>$C</dt>\n",
              "\t\t<dd><table class=\"dataframe\">\n",
              "<caption>A matrix: 20 × 20 of type dbl</caption>\n",
              "<tbody>\n",
              "\t<tr><td> 0.08341057</td><td> 0.00000000</td><td>-0.03058387</td><td> 0.00000000</td><td> 0.000000e+00</td><td> 0.000000e+00</td><td> 0.000000e+00</td><td> 2.780352e-02</td><td> 0.000000e+00</td><td> 0.000000e+00</td><td> 2.780352e-02</td><td> 2.780352e-02</td><td> 0.000000e+00</td><td> 0.000000e+00</td><td> 0.000000e+00</td><td>-1.019462e-02</td><td> 0.000000e+00</td><td> 0.000000e+00</td><td>-1.019462e-02</td><td>-1.019462e-02</td></tr>\n",
              "\t<tr><td> 0.00000000</td><td> 0.05560704</td><td> 0.00000000</td><td>-0.02038925</td><td> 0.000000e+00</td><td> 0.000000e+00</td><td> 0.000000e+00</td><td> 0.000000e+00</td><td> 2.780352e-02</td><td> 2.780352e-02</td><td> 0.000000e+00</td><td> 0.000000e+00</td><td> 0.000000e+00</td><td> 0.000000e+00</td><td> 0.000000e+00</td><td> 0.000000e+00</td><td>-1.019462e-02</td><td>-1.019462e-02</td><td> 0.000000e+00</td><td> 0.000000e+00</td></tr>\n",
              "\t<tr><td>-0.03058387</td><td> 0.00000000</td><td> 0.11121409</td><td> 0.00000000</td><td> 0.000000e+00</td><td> 0.000000e+00</td><td> 0.000000e+00</td><td>-1.019462e-02</td><td> 0.000000e+00</td><td> 0.000000e+00</td><td>-1.019462e-02</td><td>-1.019462e-02</td><td> 0.000000e+00</td><td> 0.000000e+00</td><td> 0.000000e+00</td><td> 3.707136e-02</td><td> 0.000000e+00</td><td> 0.000000e+00</td><td> 3.707136e-02</td><td> 3.707136e-02</td></tr>\n",
              "\t<tr><td> 0.00000000</td><td>-0.02038925</td><td> 0.00000000</td><td> 0.07414272</td><td> 0.000000e+00</td><td> 0.000000e+00</td><td> 0.000000e+00</td><td> 0.000000e+00</td><td>-1.019462e-02</td><td>-1.019462e-02</td><td> 0.000000e+00</td><td> 0.000000e+00</td><td> 0.000000e+00</td><td> 0.000000e+00</td><td> 0.000000e+00</td><td> 0.000000e+00</td><td> 3.707136e-02</td><td> 3.707136e-02</td><td> 0.000000e+00</td><td> 0.000000e+00</td></tr>\n",
              "\t<tr><td> 0.00000000</td><td> 0.00000000</td><td> 0.00000000</td><td> 0.00000000</td><td> 1.540616e-01</td><td> 4.201681e-02</td><td> 3.265362e-16</td><td>-5.602241e-02</td><td> 5.597763e-17</td><td>-8.403361e-02</td><td>-4.524859e-16</td><td>-2.253683e-16</td><td>-6.932773e-02</td><td>-1.890756e-02</td><td>-1.469413e-16</td><td> 2.521008e-02</td><td>-2.518993e-17</td><td> 3.781513e-02</td><td> 2.036186e-16</td><td> 1.014157e-16</td></tr>\n",
              "\t<tr><td> 0.00000000</td><td> 0.00000000</td><td> 0.00000000</td><td> 0.00000000</td><td> 4.201681e-02</td><td> 1.680672e-01</td><td> 4.201681e-02</td><td> 3.731842e-17</td><td>-8.403361e-02</td><td>-8.403361e-02</td><td>-1.865921e-17</td><td>-1.836766e-17</td><td>-1.890756e-02</td><td>-7.563025e-02</td><td>-1.890756e-02</td><td>-1.679329e-17</td><td> 3.781513e-02</td><td> 3.781513e-02</td><td> 8.396645e-18</td><td> 8.265447e-18</td></tr>\n",
              "\t<tr><td> 0.00000000</td><td> 0.00000000</td><td> 0.00000000</td><td> 0.00000000</td><td> 9.796086e-17</td><td> 4.201681e-02</td><td> 1.680672e-01</td><td> 8.863125e-17</td><td>-8.403361e-02</td><td> 4.201681e-02</td><td>-3.731842e-17</td><td>-8.403361e-02</td><td>-4.408238e-17</td><td>-1.890756e-02</td><td>-7.563025e-02</td><td>-3.988406e-17</td><td> 3.781513e-02</td><td>-1.890756e-02</td><td> 1.679329e-17</td><td> 3.781513e-02</td></tr>\n",
              "\t<tr><td> 0.02780352</td><td> 0.00000000</td><td>-0.01019462</td><td> 0.00000000</td><td>-5.602241e-02</td><td>-8.396645e-17</td><td>-1.679329e-16</td><td> 1.818651e-01</td><td> 4.201681e-02</td><td> 4.198322e-17</td><td>-8.403361e-02</td><td> 1.510230e-16</td><td> 2.521008e-02</td><td> 3.778490e-17</td><td> 7.556980e-17</td><td>-7.952236e-02</td><td>-1.890756e-02</td><td>-1.889245e-17</td><td> 3.781513e-02</td><td>-6.796034e-17</td></tr>\n",
              "\t<tr><td> 0.00000000</td><td> 0.02780352</td><td> 0.00000000</td><td>-0.01019462</td><td>-1.865921e-17</td><td>-8.403361e-02</td><td>-8.403361e-02</td><td> 4.201681e-02</td><td> 2.378876e-01</td><td> 4.664803e-17</td><td>-8.403361e-02</td><td>-1.428596e-16</td><td> 8.396645e-18</td><td> 3.781513e-02</td><td> 3.781513e-02</td><td>-1.890756e-02</td><td>-1.047324e-01</td><td>-2.099161e-17</td><td> 3.781513e-02</td><td> 6.428681e-17</td></tr>\n",
              "\t<tr><td> 0.00000000</td><td> 0.02780352</td><td> 0.00000000</td><td>-0.01019462</td><td>-8.403361e-02</td><td>-8.403361e-02</td><td> 4.201681e-02</td><td>-6.530724e-17</td><td>-6.530724e-17</td><td> 2.378876e-01</td><td> 4.664803e-17</td><td>-8.403361e-02</td><td> 3.781513e-02</td><td> 3.781513e-02</td><td>-1.890756e-02</td><td> 2.938826e-17</td><td> 2.938826e-17</td><td>-1.047324e-01</td><td>-2.099161e-17</td><td> 3.781513e-02</td></tr>\n",
              "\t<tr><td> 0.02780352</td><td> 0.00000000</td><td>-0.01019462</td><td> 0.00000000</td><td> 0.000000e+00</td><td>-9.329605e-17</td><td>-5.597763e-17</td><td>-8.403361e-02</td><td>-8.403361e-02</td><td>-3.731842e-17</td><td> 1.958707e-01</td><td> 8.425800e-17</td><td> 0.000000e+00</td><td> 4.198322e-17</td><td> 2.518993e-17</td><td> 3.781513e-02</td><td> 3.781513e-02</td><td> 1.679329e-17</td><td>-8.582488e-02</td><td>-3.791610e-17</td></tr>\n",
              "\t<tr><td> 0.02780352</td><td> 0.00000000</td><td>-0.01019462</td><td> 0.00000000</td><td>-7.901009e-17</td><td>-3.679363e-16</td><td>-8.403361e-02</td><td>-2.545233e-16</td><td> 1.405272e-16</td><td>-8.403361e-02</td><td> 2.591881e-16</td><td> 1.958707e-01</td><td> 3.555454e-17</td><td> 1.655713e-16</td><td> 3.781513e-02</td><td> 1.145355e-16</td><td>-6.323723e-17</td><td> 3.781513e-02</td><td>-1.166346e-16</td><td>-8.582488e-02</td></tr>\n",
              "\t<tr><td> 0.00000000</td><td> 0.00000000</td><td> 0.00000000</td><td> 0.00000000</td><td>-6.932773e-02</td><td>-1.890756e-02</td><td>-1.469413e-16</td><td> 2.521008e-02</td><td>-2.518993e-17</td><td> 3.781513e-02</td><td> 2.036186e-16</td><td> 1.014157e-16</td><td> 7.703081e-02</td><td> 2.100840e-02</td><td> 1.632681e-16</td><td>-2.801120e-02</td><td> 2.798882e-17</td><td>-4.201681e-02</td><td>-2.262429e-16</td><td>-1.126841e-16</td></tr>\n",
              "\t<tr><td> 0.00000000</td><td> 0.00000000</td><td> 0.00000000</td><td> 0.00000000</td><td>-1.890756e-02</td><td>-7.563025e-02</td><td>-1.890756e-02</td><td>-1.679329e-17</td><td> 3.781513e-02</td><td> 3.781513e-02</td><td> 8.396645e-18</td><td> 8.265447e-18</td><td> 2.100840e-02</td><td> 8.403361e-02</td><td> 2.100840e-02</td><td> 1.865921e-17</td><td>-4.201681e-02</td><td>-4.201681e-02</td><td>-9.329605e-18</td><td>-9.183830e-18</td></tr>\n",
              "\t<tr><td> 0.00000000</td><td> 0.00000000</td><td> 0.00000000</td><td> 0.00000000</td><td>-4.408238e-17</td><td>-1.890756e-02</td><td>-7.563025e-02</td><td>-3.988406e-17</td><td> 3.781513e-02</td><td>-1.890756e-02</td><td> 1.679329e-17</td><td> 3.781513e-02</td><td> 4.898043e-17</td><td> 2.100840e-02</td><td> 8.403361e-02</td><td> 4.431562e-17</td><td>-4.201681e-02</td><td> 2.100840e-02</td><td>-1.865921e-17</td><td>-4.201681e-02</td></tr>\n",
              "\t<tr><td>-0.01019462</td><td> 0.00000000</td><td> 0.03707136</td><td> 0.00000000</td><td> 2.521008e-02</td><td> 3.778490e-17</td><td> 7.556980e-17</td><td>-7.952236e-02</td><td>-1.890756e-02</td><td>-1.889245e-17</td><td> 3.781513e-02</td><td>-6.796034e-17</td><td>-2.801120e-02</td><td>-4.198322e-17</td><td>-8.396645e-17</td><td> 1.141022e-01</td><td> 2.100840e-02</td><td> 2.099161e-17</td><td>-4.201681e-02</td><td> 7.551149e-17</td></tr>\n",
              "\t<tr><td> 0.00000000</td><td>-0.01019462</td><td> 0.00000000</td><td> 0.03707136</td><td> 8.396645e-18</td><td> 3.781513e-02</td><td> 3.781513e-02</td><td>-1.890756e-02</td><td>-1.047324e-01</td><td>-2.099161e-17</td><td> 3.781513e-02</td><td> 6.428681e-17</td><td>-9.329605e-18</td><td>-4.201681e-02</td><td>-4.201681e-02</td><td> 2.100840e-02</td><td> 1.421134e-01</td><td> 2.332401e-17</td><td>-4.201681e-02</td><td>-7.142979e-17</td></tr>\n",
              "\t<tr><td> 0.00000000</td><td>-0.01019462</td><td> 0.00000000</td><td> 0.03707136</td><td> 3.781513e-02</td><td> 3.781513e-02</td><td>-1.890756e-02</td><td> 2.938826e-17</td><td> 2.938826e-17</td><td>-1.047324e-01</td><td>-2.099161e-17</td><td> 3.781513e-02</td><td>-4.201681e-02</td><td>-4.201681e-02</td><td> 2.100840e-02</td><td>-3.265362e-17</td><td>-3.265362e-17</td><td> 1.421134e-01</td><td> 2.332401e-17</td><td>-4.201681e-02</td></tr>\n",
              "\t<tr><td>-0.01019462</td><td> 0.00000000</td><td> 0.03707136</td><td> 0.00000000</td><td> 0.000000e+00</td><td> 4.198322e-17</td><td> 2.518993e-17</td><td> 3.781513e-02</td><td> 3.781513e-02</td><td> 1.679329e-17</td><td>-8.582488e-02</td><td>-3.791610e-17</td><td> 0.000000e+00</td><td>-4.664803e-17</td><td>-2.798882e-17</td><td>-4.201681e-02</td><td>-4.201681e-02</td><td>-1.865921e-17</td><td> 1.211050e-01</td><td> 4.212900e-17</td></tr>\n",
              "\t<tr><td>-0.01019462</td><td> 0.00000000</td><td> 0.03707136</td><td> 0.00000000</td><td> 3.555454e-17</td><td> 1.655713e-16</td><td> 3.781513e-02</td><td> 1.145355e-16</td><td>-6.323723e-17</td><td> 3.781513e-02</td><td>-1.166346e-16</td><td>-8.582488e-02</td><td>-3.950505e-17</td><td>-1.839682e-16</td><td>-4.201681e-02</td><td>-1.272616e-16</td><td> 7.026359e-17</td><td>-4.201681e-02</td><td> 1.295940e-16</td><td> 1.211050e-01</td></tr>\n",
              "</tbody>\n",
              "</table>\n",
              "</dd>\n",
              "\t<dt>$est</dt>\n",
              "\t\t<dd><table class=\"dataframe\">\n",
              "<caption>A matrix: 20 × 1 of type dbl</caption>\n",
              "<tbody>\n",
              "\t<tr><td> 4.360866999</td></tr>\n",
              "\t<tr><td> 3.397261592</td></tr>\n",
              "\t<tr><td> 6.799897620</td></tr>\n",
              "\t<tr><td> 5.880295937</td></tr>\n",
              "\t<tr><td> 0.150915567</td></tr>\n",
              "\t<tr><td>-0.015392510</td></tr>\n",
              "\t<tr><td>-0.078391896</td></tr>\n",
              "\t<tr><td>-0.010238959</td></tr>\n",
              "\t<tr><td>-0.270331441</td></tr>\n",
              "\t<tr><td> 0.275808258</td></tr>\n",
              "\t<tr><td>-0.316117562</td></tr>\n",
              "\t<tr><td> 0.243755523</td></tr>\n",
              "\t<tr><td> 0.279597973</td></tr>\n",
              "\t<tr><td>-0.007610071</td></tr>\n",
              "\t<tr><td>-0.170341439</td></tr>\n",
              "\t<tr><td>-0.012670709</td></tr>\n",
              "\t<tr><td>-0.477830262</td></tr>\n",
              "\t<tr><td> 0.517238387</td></tr>\n",
              "\t<tr><td>-0.478983695</td></tr>\n",
              "\t<tr><td> 0.391961543</td></tr>\n",
              "</tbody>\n",
              "</table>\n",
              "</dd>\n",
              "</dl>\n"
            ],
            "text/latex": [
              "\\begin{description}\n",
              "\\item[\\$C] A matrix: 20 × 20 of type dbl\n",
              "\\begin{tabular}{llllllllllllllllllll}\n",
              "\t  0.08341057 &  0.00000000 & -0.03058387 &  0.00000000 &  0.000000e+00 &  0.000000e+00 &  0.000000e+00 &  2.780352e-02 &  0.000000e+00 &  0.000000e+00 &  2.780352e-02 &  2.780352e-02 &  0.000000e+00 &  0.000000e+00 &  0.000000e+00 & -1.019462e-02 &  0.000000e+00 &  0.000000e+00 & -1.019462e-02 & -1.019462e-02\\\\\n",
              "\t  0.00000000 &  0.05560704 &  0.00000000 & -0.02038925 &  0.000000e+00 &  0.000000e+00 &  0.000000e+00 &  0.000000e+00 &  2.780352e-02 &  2.780352e-02 &  0.000000e+00 &  0.000000e+00 &  0.000000e+00 &  0.000000e+00 &  0.000000e+00 &  0.000000e+00 & -1.019462e-02 & -1.019462e-02 &  0.000000e+00 &  0.000000e+00\\\\\n",
              "\t -0.03058387 &  0.00000000 &  0.11121409 &  0.00000000 &  0.000000e+00 &  0.000000e+00 &  0.000000e+00 & -1.019462e-02 &  0.000000e+00 &  0.000000e+00 & -1.019462e-02 & -1.019462e-02 &  0.000000e+00 &  0.000000e+00 &  0.000000e+00 &  3.707136e-02 &  0.000000e+00 &  0.000000e+00 &  3.707136e-02 &  3.707136e-02\\\\\n",
              "\t  0.00000000 & -0.02038925 &  0.00000000 &  0.07414272 &  0.000000e+00 &  0.000000e+00 &  0.000000e+00 &  0.000000e+00 & -1.019462e-02 & -1.019462e-02 &  0.000000e+00 &  0.000000e+00 &  0.000000e+00 &  0.000000e+00 &  0.000000e+00 &  0.000000e+00 &  3.707136e-02 &  3.707136e-02 &  0.000000e+00 &  0.000000e+00\\\\\n",
              "\t  0.00000000 &  0.00000000 &  0.00000000 &  0.00000000 &  1.540616e-01 &  4.201681e-02 &  3.265362e-16 & -5.602241e-02 &  5.597763e-17 & -8.403361e-02 & -4.524859e-16 & -2.253683e-16 & -6.932773e-02 & -1.890756e-02 & -1.469413e-16 &  2.521008e-02 & -2.518993e-17 &  3.781513e-02 &  2.036186e-16 &  1.014157e-16\\\\\n",
              "\t  0.00000000 &  0.00000000 &  0.00000000 &  0.00000000 &  4.201681e-02 &  1.680672e-01 &  4.201681e-02 &  3.731842e-17 & -8.403361e-02 & -8.403361e-02 & -1.865921e-17 & -1.836766e-17 & -1.890756e-02 & -7.563025e-02 & -1.890756e-02 & -1.679329e-17 &  3.781513e-02 &  3.781513e-02 &  8.396645e-18 &  8.265447e-18\\\\\n",
              "\t  0.00000000 &  0.00000000 &  0.00000000 &  0.00000000 &  9.796086e-17 &  4.201681e-02 &  1.680672e-01 &  8.863125e-17 & -8.403361e-02 &  4.201681e-02 & -3.731842e-17 & -8.403361e-02 & -4.408238e-17 & -1.890756e-02 & -7.563025e-02 & -3.988406e-17 &  3.781513e-02 & -1.890756e-02 &  1.679329e-17 &  3.781513e-02\\\\\n",
              "\t  0.02780352 &  0.00000000 & -0.01019462 &  0.00000000 & -5.602241e-02 & -8.396645e-17 & -1.679329e-16 &  1.818651e-01 &  4.201681e-02 &  4.198322e-17 & -8.403361e-02 &  1.510230e-16 &  2.521008e-02 &  3.778490e-17 &  7.556980e-17 & -7.952236e-02 & -1.890756e-02 & -1.889245e-17 &  3.781513e-02 & -6.796034e-17\\\\\n",
              "\t  0.00000000 &  0.02780352 &  0.00000000 & -0.01019462 & -1.865921e-17 & -8.403361e-02 & -8.403361e-02 &  4.201681e-02 &  2.378876e-01 &  4.664803e-17 & -8.403361e-02 & -1.428596e-16 &  8.396645e-18 &  3.781513e-02 &  3.781513e-02 & -1.890756e-02 & -1.047324e-01 & -2.099161e-17 &  3.781513e-02 &  6.428681e-17\\\\\n",
              "\t  0.00000000 &  0.02780352 &  0.00000000 & -0.01019462 & -8.403361e-02 & -8.403361e-02 &  4.201681e-02 & -6.530724e-17 & -6.530724e-17 &  2.378876e-01 &  4.664803e-17 & -8.403361e-02 &  3.781513e-02 &  3.781513e-02 & -1.890756e-02 &  2.938826e-17 &  2.938826e-17 & -1.047324e-01 & -2.099161e-17 &  3.781513e-02\\\\\n",
              "\t  0.02780352 &  0.00000000 & -0.01019462 &  0.00000000 &  0.000000e+00 & -9.329605e-17 & -5.597763e-17 & -8.403361e-02 & -8.403361e-02 & -3.731842e-17 &  1.958707e-01 &  8.425800e-17 &  0.000000e+00 &  4.198322e-17 &  2.518993e-17 &  3.781513e-02 &  3.781513e-02 &  1.679329e-17 & -8.582488e-02 & -3.791610e-17\\\\\n",
              "\t  0.02780352 &  0.00000000 & -0.01019462 &  0.00000000 & -7.901009e-17 & -3.679363e-16 & -8.403361e-02 & -2.545233e-16 &  1.405272e-16 & -8.403361e-02 &  2.591881e-16 &  1.958707e-01 &  3.555454e-17 &  1.655713e-16 &  3.781513e-02 &  1.145355e-16 & -6.323723e-17 &  3.781513e-02 & -1.166346e-16 & -8.582488e-02\\\\\n",
              "\t  0.00000000 &  0.00000000 &  0.00000000 &  0.00000000 & -6.932773e-02 & -1.890756e-02 & -1.469413e-16 &  2.521008e-02 & -2.518993e-17 &  3.781513e-02 &  2.036186e-16 &  1.014157e-16 &  7.703081e-02 &  2.100840e-02 &  1.632681e-16 & -2.801120e-02 &  2.798882e-17 & -4.201681e-02 & -2.262429e-16 & -1.126841e-16\\\\\n",
              "\t  0.00000000 &  0.00000000 &  0.00000000 &  0.00000000 & -1.890756e-02 & -7.563025e-02 & -1.890756e-02 & -1.679329e-17 &  3.781513e-02 &  3.781513e-02 &  8.396645e-18 &  8.265447e-18 &  2.100840e-02 &  8.403361e-02 &  2.100840e-02 &  1.865921e-17 & -4.201681e-02 & -4.201681e-02 & -9.329605e-18 & -9.183830e-18\\\\\n",
              "\t  0.00000000 &  0.00000000 &  0.00000000 &  0.00000000 & -4.408238e-17 & -1.890756e-02 & -7.563025e-02 & -3.988406e-17 &  3.781513e-02 & -1.890756e-02 &  1.679329e-17 &  3.781513e-02 &  4.898043e-17 &  2.100840e-02 &  8.403361e-02 &  4.431562e-17 & -4.201681e-02 &  2.100840e-02 & -1.865921e-17 & -4.201681e-02\\\\\n",
              "\t -0.01019462 &  0.00000000 &  0.03707136 &  0.00000000 &  2.521008e-02 &  3.778490e-17 &  7.556980e-17 & -7.952236e-02 & -1.890756e-02 & -1.889245e-17 &  3.781513e-02 & -6.796034e-17 & -2.801120e-02 & -4.198322e-17 & -8.396645e-17 &  1.141022e-01 &  2.100840e-02 &  2.099161e-17 & -4.201681e-02 &  7.551149e-17\\\\\n",
              "\t  0.00000000 & -0.01019462 &  0.00000000 &  0.03707136 &  8.396645e-18 &  3.781513e-02 &  3.781513e-02 & -1.890756e-02 & -1.047324e-01 & -2.099161e-17 &  3.781513e-02 &  6.428681e-17 & -9.329605e-18 & -4.201681e-02 & -4.201681e-02 &  2.100840e-02 &  1.421134e-01 &  2.332401e-17 & -4.201681e-02 & -7.142979e-17\\\\\n",
              "\t  0.00000000 & -0.01019462 &  0.00000000 &  0.03707136 &  3.781513e-02 &  3.781513e-02 & -1.890756e-02 &  2.938826e-17 &  2.938826e-17 & -1.047324e-01 & -2.099161e-17 &  3.781513e-02 & -4.201681e-02 & -4.201681e-02 &  2.100840e-02 & -3.265362e-17 & -3.265362e-17 &  1.421134e-01 &  2.332401e-17 & -4.201681e-02\\\\\n",
              "\t -0.01019462 &  0.00000000 &  0.03707136 &  0.00000000 &  0.000000e+00 &  4.198322e-17 &  2.518993e-17 &  3.781513e-02 &  3.781513e-02 &  1.679329e-17 & -8.582488e-02 & -3.791610e-17 &  0.000000e+00 & -4.664803e-17 & -2.798882e-17 & -4.201681e-02 & -4.201681e-02 & -1.865921e-17 &  1.211050e-01 &  4.212900e-17\\\\\n",
              "\t -0.01019462 &  0.00000000 &  0.03707136 &  0.00000000 &  3.555454e-17 &  1.655713e-16 &  3.781513e-02 &  1.145355e-16 & -6.323723e-17 &  3.781513e-02 & -1.166346e-16 & -8.582488e-02 & -3.950505e-17 & -1.839682e-16 & -4.201681e-02 & -1.272616e-16 &  7.026359e-17 & -4.201681e-02 &  1.295940e-16 &  1.211050e-01\\\\\n",
              "\\end{tabular}\n",
              "\n",
              "\\item[\\$est] A matrix: 20 × 1 of type dbl\n",
              "\\begin{tabular}{l}\n",
              "\t  4.360866999\\\\\n",
              "\t  3.397261592\\\\\n",
              "\t  6.799897620\\\\\n",
              "\t  5.880295937\\\\\n",
              "\t  0.150915567\\\\\n",
              "\t -0.015392510\\\\\n",
              "\t -0.078391896\\\\\n",
              "\t -0.010238959\\\\\n",
              "\t -0.270331441\\\\\n",
              "\t  0.275808258\\\\\n",
              "\t -0.316117562\\\\\n",
              "\t  0.243755523\\\\\n",
              "\t  0.279597973\\\\\n",
              "\t -0.007610071\\\\\n",
              "\t -0.170341439\\\\\n",
              "\t -0.012670709\\\\\n",
              "\t -0.477830262\\\\\n",
              "\t  0.517238387\\\\\n",
              "\t -0.478983695\\\\\n",
              "\t  0.391961543\\\\\n",
              "\\end{tabular}\n",
              "\n",
              "\\end{description}\n"
            ],
            "text/markdown": [
              "$C\n",
              ":   \n",
              "A matrix: 20 × 20 of type dbl\n",
              "\n",
              "|  0.08341057 |  0.00000000 | -0.03058387 |  0.00000000 |  0.000000e+00 |  0.000000e+00 |  0.000000e+00 |  2.780352e-02 |  0.000000e+00 |  0.000000e+00 |  2.780352e-02 |  2.780352e-02 |  0.000000e+00 |  0.000000e+00 |  0.000000e+00 | -1.019462e-02 |  0.000000e+00 |  0.000000e+00 | -1.019462e-02 | -1.019462e-02 |\n",
              "|  0.00000000 |  0.05560704 |  0.00000000 | -0.02038925 |  0.000000e+00 |  0.000000e+00 |  0.000000e+00 |  0.000000e+00 |  2.780352e-02 |  2.780352e-02 |  0.000000e+00 |  0.000000e+00 |  0.000000e+00 |  0.000000e+00 |  0.000000e+00 |  0.000000e+00 | -1.019462e-02 | -1.019462e-02 |  0.000000e+00 |  0.000000e+00 |\n",
              "| -0.03058387 |  0.00000000 |  0.11121409 |  0.00000000 |  0.000000e+00 |  0.000000e+00 |  0.000000e+00 | -1.019462e-02 |  0.000000e+00 |  0.000000e+00 | -1.019462e-02 | -1.019462e-02 |  0.000000e+00 |  0.000000e+00 |  0.000000e+00 |  3.707136e-02 |  0.000000e+00 |  0.000000e+00 |  3.707136e-02 |  3.707136e-02 |\n",
              "|  0.00000000 | -0.02038925 |  0.00000000 |  0.07414272 |  0.000000e+00 |  0.000000e+00 |  0.000000e+00 |  0.000000e+00 | -1.019462e-02 | -1.019462e-02 |  0.000000e+00 |  0.000000e+00 |  0.000000e+00 |  0.000000e+00 |  0.000000e+00 |  0.000000e+00 |  3.707136e-02 |  3.707136e-02 |  0.000000e+00 |  0.000000e+00 |\n",
              "|  0.00000000 |  0.00000000 |  0.00000000 |  0.00000000 |  1.540616e-01 |  4.201681e-02 |  3.265362e-16 | -5.602241e-02 |  5.597763e-17 | -8.403361e-02 | -4.524859e-16 | -2.253683e-16 | -6.932773e-02 | -1.890756e-02 | -1.469413e-16 |  2.521008e-02 | -2.518993e-17 |  3.781513e-02 |  2.036186e-16 |  1.014157e-16 |\n",
              "|  0.00000000 |  0.00000000 |  0.00000000 |  0.00000000 |  4.201681e-02 |  1.680672e-01 |  4.201681e-02 |  3.731842e-17 | -8.403361e-02 | -8.403361e-02 | -1.865921e-17 | -1.836766e-17 | -1.890756e-02 | -7.563025e-02 | -1.890756e-02 | -1.679329e-17 |  3.781513e-02 |  3.781513e-02 |  8.396645e-18 |  8.265447e-18 |\n",
              "|  0.00000000 |  0.00000000 |  0.00000000 |  0.00000000 |  9.796086e-17 |  4.201681e-02 |  1.680672e-01 |  8.863125e-17 | -8.403361e-02 |  4.201681e-02 | -3.731842e-17 | -8.403361e-02 | -4.408238e-17 | -1.890756e-02 | -7.563025e-02 | -3.988406e-17 |  3.781513e-02 | -1.890756e-02 |  1.679329e-17 |  3.781513e-02 |\n",
              "|  0.02780352 |  0.00000000 | -0.01019462 |  0.00000000 | -5.602241e-02 | -8.396645e-17 | -1.679329e-16 |  1.818651e-01 |  4.201681e-02 |  4.198322e-17 | -8.403361e-02 |  1.510230e-16 |  2.521008e-02 |  3.778490e-17 |  7.556980e-17 | -7.952236e-02 | -1.890756e-02 | -1.889245e-17 |  3.781513e-02 | -6.796034e-17 |\n",
              "|  0.00000000 |  0.02780352 |  0.00000000 | -0.01019462 | -1.865921e-17 | -8.403361e-02 | -8.403361e-02 |  4.201681e-02 |  2.378876e-01 |  4.664803e-17 | -8.403361e-02 | -1.428596e-16 |  8.396645e-18 |  3.781513e-02 |  3.781513e-02 | -1.890756e-02 | -1.047324e-01 | -2.099161e-17 |  3.781513e-02 |  6.428681e-17 |\n",
              "|  0.00000000 |  0.02780352 |  0.00000000 | -0.01019462 | -8.403361e-02 | -8.403361e-02 |  4.201681e-02 | -6.530724e-17 | -6.530724e-17 |  2.378876e-01 |  4.664803e-17 | -8.403361e-02 |  3.781513e-02 |  3.781513e-02 | -1.890756e-02 |  2.938826e-17 |  2.938826e-17 | -1.047324e-01 | -2.099161e-17 |  3.781513e-02 |\n",
              "|  0.02780352 |  0.00000000 | -0.01019462 |  0.00000000 |  0.000000e+00 | -9.329605e-17 | -5.597763e-17 | -8.403361e-02 | -8.403361e-02 | -3.731842e-17 |  1.958707e-01 |  8.425800e-17 |  0.000000e+00 |  4.198322e-17 |  2.518993e-17 |  3.781513e-02 |  3.781513e-02 |  1.679329e-17 | -8.582488e-02 | -3.791610e-17 |\n",
              "|  0.02780352 |  0.00000000 | -0.01019462 |  0.00000000 | -7.901009e-17 | -3.679363e-16 | -8.403361e-02 | -2.545233e-16 |  1.405272e-16 | -8.403361e-02 |  2.591881e-16 |  1.958707e-01 |  3.555454e-17 |  1.655713e-16 |  3.781513e-02 |  1.145355e-16 | -6.323723e-17 |  3.781513e-02 | -1.166346e-16 | -8.582488e-02 |\n",
              "|  0.00000000 |  0.00000000 |  0.00000000 |  0.00000000 | -6.932773e-02 | -1.890756e-02 | -1.469413e-16 |  2.521008e-02 | -2.518993e-17 |  3.781513e-02 |  2.036186e-16 |  1.014157e-16 |  7.703081e-02 |  2.100840e-02 |  1.632681e-16 | -2.801120e-02 |  2.798882e-17 | -4.201681e-02 | -2.262429e-16 | -1.126841e-16 |\n",
              "|  0.00000000 |  0.00000000 |  0.00000000 |  0.00000000 | -1.890756e-02 | -7.563025e-02 | -1.890756e-02 | -1.679329e-17 |  3.781513e-02 |  3.781513e-02 |  8.396645e-18 |  8.265447e-18 |  2.100840e-02 |  8.403361e-02 |  2.100840e-02 |  1.865921e-17 | -4.201681e-02 | -4.201681e-02 | -9.329605e-18 | -9.183830e-18 |\n",
              "|  0.00000000 |  0.00000000 |  0.00000000 |  0.00000000 | -4.408238e-17 | -1.890756e-02 | -7.563025e-02 | -3.988406e-17 |  3.781513e-02 | -1.890756e-02 |  1.679329e-17 |  3.781513e-02 |  4.898043e-17 |  2.100840e-02 |  8.403361e-02 |  4.431562e-17 | -4.201681e-02 |  2.100840e-02 | -1.865921e-17 | -4.201681e-02 |\n",
              "| -0.01019462 |  0.00000000 |  0.03707136 |  0.00000000 |  2.521008e-02 |  3.778490e-17 |  7.556980e-17 | -7.952236e-02 | -1.890756e-02 | -1.889245e-17 |  3.781513e-02 | -6.796034e-17 | -2.801120e-02 | -4.198322e-17 | -8.396645e-17 |  1.141022e-01 |  2.100840e-02 |  2.099161e-17 | -4.201681e-02 |  7.551149e-17 |\n",
              "|  0.00000000 | -0.01019462 |  0.00000000 |  0.03707136 |  8.396645e-18 |  3.781513e-02 |  3.781513e-02 | -1.890756e-02 | -1.047324e-01 | -2.099161e-17 |  3.781513e-02 |  6.428681e-17 | -9.329605e-18 | -4.201681e-02 | -4.201681e-02 |  2.100840e-02 |  1.421134e-01 |  2.332401e-17 | -4.201681e-02 | -7.142979e-17 |\n",
              "|  0.00000000 | -0.01019462 |  0.00000000 |  0.03707136 |  3.781513e-02 |  3.781513e-02 | -1.890756e-02 |  2.938826e-17 |  2.938826e-17 | -1.047324e-01 | -2.099161e-17 |  3.781513e-02 | -4.201681e-02 | -4.201681e-02 |  2.100840e-02 | -3.265362e-17 | -3.265362e-17 |  1.421134e-01 |  2.332401e-17 | -4.201681e-02 |\n",
              "| -0.01019462 |  0.00000000 |  0.03707136 |  0.00000000 |  0.000000e+00 |  4.198322e-17 |  2.518993e-17 |  3.781513e-02 |  3.781513e-02 |  1.679329e-17 | -8.582488e-02 | -3.791610e-17 |  0.000000e+00 | -4.664803e-17 | -2.798882e-17 | -4.201681e-02 | -4.201681e-02 | -1.865921e-17 |  1.211050e-01 |  4.212900e-17 |\n",
              "| -0.01019462 |  0.00000000 |  0.03707136 |  0.00000000 |  3.555454e-17 |  1.655713e-16 |  3.781513e-02 |  1.145355e-16 | -6.323723e-17 |  3.781513e-02 | -1.166346e-16 | -8.582488e-02 | -3.950505e-17 | -1.839682e-16 | -4.201681e-02 | -1.272616e-16 |  7.026359e-17 | -4.201681e-02 |  1.295940e-16 |  1.211050e-01 |\n",
              "\n",
              "\n",
              "$est\n",
              ":   \n",
              "A matrix: 20 × 1 of type dbl\n",
              "\n",
              "|  4.360866999 |\n",
              "|  3.397261592 |\n",
              "|  6.799897620 |\n",
              "|  5.880295937 |\n",
              "|  0.150915567 |\n",
              "| -0.015392510 |\n",
              "| -0.078391896 |\n",
              "| -0.010238959 |\n",
              "| -0.270331441 |\n",
              "|  0.275808258 |\n",
              "| -0.316117562 |\n",
              "|  0.243755523 |\n",
              "|  0.279597973 |\n",
              "| -0.007610071 |\n",
              "| -0.170341439 |\n",
              "| -0.012670709 |\n",
              "| -0.477830262 |\n",
              "|  0.517238387 |\n",
              "| -0.478983695 |\n",
              "|  0.391961543 |\n",
              "\n",
              "\n",
              "\n",
              "\n"
            ],
            "text/plain": [
              "$C\n",
              "             [,1]        [,2]        [,3]        [,4]          [,5]\n",
              " [1,]  0.08341057  0.00000000 -0.03058387  0.00000000  0.000000e+00\n",
              " [2,]  0.00000000  0.05560704  0.00000000 -0.02038925  0.000000e+00\n",
              " [3,] -0.03058387  0.00000000  0.11121409  0.00000000  0.000000e+00\n",
              " [4,]  0.00000000 -0.02038925  0.00000000  0.07414272  0.000000e+00\n",
              " [5,]  0.00000000  0.00000000  0.00000000  0.00000000  1.540616e-01\n",
              " [6,]  0.00000000  0.00000000  0.00000000  0.00000000  4.201681e-02\n",
              " [7,]  0.00000000  0.00000000  0.00000000  0.00000000  9.796086e-17\n",
              " [8,]  0.02780352  0.00000000 -0.01019462  0.00000000 -5.602241e-02\n",
              " [9,]  0.00000000  0.02780352  0.00000000 -0.01019462 -1.865921e-17\n",
              "[10,]  0.00000000  0.02780352  0.00000000 -0.01019462 -8.403361e-02\n",
              "[11,]  0.02780352  0.00000000 -0.01019462  0.00000000  0.000000e+00\n",
              "[12,]  0.02780352  0.00000000 -0.01019462  0.00000000 -7.901009e-17\n",
              "[13,]  0.00000000  0.00000000  0.00000000  0.00000000 -6.932773e-02\n",
              "[14,]  0.00000000  0.00000000  0.00000000  0.00000000 -1.890756e-02\n",
              "[15,]  0.00000000  0.00000000  0.00000000  0.00000000 -4.408238e-17\n",
              "[16,] -0.01019462  0.00000000  0.03707136  0.00000000  2.521008e-02\n",
              "[17,]  0.00000000 -0.01019462  0.00000000  0.03707136  8.396645e-18\n",
              "[18,]  0.00000000 -0.01019462  0.00000000  0.03707136  3.781513e-02\n",
              "[19,] -0.01019462  0.00000000  0.03707136  0.00000000  0.000000e+00\n",
              "[20,] -0.01019462  0.00000000  0.03707136  0.00000000  3.555454e-17\n",
              "               [,6]          [,7]          [,8]          [,9]         [,10]\n",
              " [1,]  0.000000e+00  0.000000e+00  2.780352e-02  0.000000e+00  0.000000e+00\n",
              " [2,]  0.000000e+00  0.000000e+00  0.000000e+00  2.780352e-02  2.780352e-02\n",
              " [3,]  0.000000e+00  0.000000e+00 -1.019462e-02  0.000000e+00  0.000000e+00\n",
              " [4,]  0.000000e+00  0.000000e+00  0.000000e+00 -1.019462e-02 -1.019462e-02\n",
              " [5,]  4.201681e-02  3.265362e-16 -5.602241e-02  5.597763e-17 -8.403361e-02\n",
              " [6,]  1.680672e-01  4.201681e-02  3.731842e-17 -8.403361e-02 -8.403361e-02\n",
              " [7,]  4.201681e-02  1.680672e-01  8.863125e-17 -8.403361e-02  4.201681e-02\n",
              " [8,] -8.396645e-17 -1.679329e-16  1.818651e-01  4.201681e-02  4.198322e-17\n",
              " [9,] -8.403361e-02 -8.403361e-02  4.201681e-02  2.378876e-01  4.664803e-17\n",
              "[10,] -8.403361e-02  4.201681e-02 -6.530724e-17 -6.530724e-17  2.378876e-01\n",
              "[11,] -9.329605e-17 -5.597763e-17 -8.403361e-02 -8.403361e-02 -3.731842e-17\n",
              "[12,] -3.679363e-16 -8.403361e-02 -2.545233e-16  1.405272e-16 -8.403361e-02\n",
              "[13,] -1.890756e-02 -1.469413e-16  2.521008e-02 -2.518993e-17  3.781513e-02\n",
              "[14,] -7.563025e-02 -1.890756e-02 -1.679329e-17  3.781513e-02  3.781513e-02\n",
              "[15,] -1.890756e-02 -7.563025e-02 -3.988406e-17  3.781513e-02 -1.890756e-02\n",
              "[16,]  3.778490e-17  7.556980e-17 -7.952236e-02 -1.890756e-02 -1.889245e-17\n",
              "[17,]  3.781513e-02  3.781513e-02 -1.890756e-02 -1.047324e-01 -2.099161e-17\n",
              "[18,]  3.781513e-02 -1.890756e-02  2.938826e-17  2.938826e-17 -1.047324e-01\n",
              "[19,]  4.198322e-17  2.518993e-17  3.781513e-02  3.781513e-02  1.679329e-17\n",
              "[20,]  1.655713e-16  3.781513e-02  1.145355e-16 -6.323723e-17  3.781513e-02\n",
              "              [,11]         [,12]         [,13]         [,14]         [,15]\n",
              " [1,]  2.780352e-02  2.780352e-02  0.000000e+00  0.000000e+00  0.000000e+00\n",
              " [2,]  0.000000e+00  0.000000e+00  0.000000e+00  0.000000e+00  0.000000e+00\n",
              " [3,] -1.019462e-02 -1.019462e-02  0.000000e+00  0.000000e+00  0.000000e+00\n",
              " [4,]  0.000000e+00  0.000000e+00  0.000000e+00  0.000000e+00  0.000000e+00\n",
              " [5,] -4.524859e-16 -2.253683e-16 -6.932773e-02 -1.890756e-02 -1.469413e-16\n",
              " [6,] -1.865921e-17 -1.836766e-17 -1.890756e-02 -7.563025e-02 -1.890756e-02\n",
              " [7,] -3.731842e-17 -8.403361e-02 -4.408238e-17 -1.890756e-02 -7.563025e-02\n",
              " [8,] -8.403361e-02  1.510230e-16  2.521008e-02  3.778490e-17  7.556980e-17\n",
              " [9,] -8.403361e-02 -1.428596e-16  8.396645e-18  3.781513e-02  3.781513e-02\n",
              "[10,]  4.664803e-17 -8.403361e-02  3.781513e-02  3.781513e-02 -1.890756e-02\n",
              "[11,]  1.958707e-01  8.425800e-17  0.000000e+00  4.198322e-17  2.518993e-17\n",
              "[12,]  2.591881e-16  1.958707e-01  3.555454e-17  1.655713e-16  3.781513e-02\n",
              "[13,]  2.036186e-16  1.014157e-16  7.703081e-02  2.100840e-02  1.632681e-16\n",
              "[14,]  8.396645e-18  8.265447e-18  2.100840e-02  8.403361e-02  2.100840e-02\n",
              "[15,]  1.679329e-17  3.781513e-02  4.898043e-17  2.100840e-02  8.403361e-02\n",
              "[16,]  3.781513e-02 -6.796034e-17 -2.801120e-02 -4.198322e-17 -8.396645e-17\n",
              "[17,]  3.781513e-02  6.428681e-17 -9.329605e-18 -4.201681e-02 -4.201681e-02\n",
              "[18,] -2.099161e-17  3.781513e-02 -4.201681e-02 -4.201681e-02  2.100840e-02\n",
              "[19,] -8.582488e-02 -3.791610e-17  0.000000e+00 -4.664803e-17 -2.798882e-17\n",
              "[20,] -1.166346e-16 -8.582488e-02 -3.950505e-17 -1.839682e-16 -4.201681e-02\n",
              "              [,16]         [,17]         [,18]         [,19]         [,20]\n",
              " [1,] -1.019462e-02  0.000000e+00  0.000000e+00 -1.019462e-02 -1.019462e-02\n",
              " [2,]  0.000000e+00 -1.019462e-02 -1.019462e-02  0.000000e+00  0.000000e+00\n",
              " [3,]  3.707136e-02  0.000000e+00  0.000000e+00  3.707136e-02  3.707136e-02\n",
              " [4,]  0.000000e+00  3.707136e-02  3.707136e-02  0.000000e+00  0.000000e+00\n",
              " [5,]  2.521008e-02 -2.518993e-17  3.781513e-02  2.036186e-16  1.014157e-16\n",
              " [6,] -1.679329e-17  3.781513e-02  3.781513e-02  8.396645e-18  8.265447e-18\n",
              " [7,] -3.988406e-17  3.781513e-02 -1.890756e-02  1.679329e-17  3.781513e-02\n",
              " [8,] -7.952236e-02 -1.890756e-02 -1.889245e-17  3.781513e-02 -6.796034e-17\n",
              " [9,] -1.890756e-02 -1.047324e-01 -2.099161e-17  3.781513e-02  6.428681e-17\n",
              "[10,]  2.938826e-17  2.938826e-17 -1.047324e-01 -2.099161e-17  3.781513e-02\n",
              "[11,]  3.781513e-02  3.781513e-02  1.679329e-17 -8.582488e-02 -3.791610e-17\n",
              "[12,]  1.145355e-16 -6.323723e-17  3.781513e-02 -1.166346e-16 -8.582488e-02\n",
              "[13,] -2.801120e-02  2.798882e-17 -4.201681e-02 -2.262429e-16 -1.126841e-16\n",
              "[14,]  1.865921e-17 -4.201681e-02 -4.201681e-02 -9.329605e-18 -9.183830e-18\n",
              "[15,]  4.431562e-17 -4.201681e-02  2.100840e-02 -1.865921e-17 -4.201681e-02\n",
              "[16,]  1.141022e-01  2.100840e-02  2.099161e-17 -4.201681e-02  7.551149e-17\n",
              "[17,]  2.100840e-02  1.421134e-01  2.332401e-17 -4.201681e-02 -7.142979e-17\n",
              "[18,] -3.265362e-17 -3.265362e-17  1.421134e-01  2.332401e-17 -4.201681e-02\n",
              "[19,] -4.201681e-02 -4.201681e-02 -1.865921e-17  1.211050e-01  4.212900e-17\n",
              "[20,] -1.272616e-16  7.026359e-17 -4.201681e-02  1.295940e-16  1.211050e-01\n",
              "\n",
              "$est\n",
              "              [,1]\n",
              " [1,]  4.360866999\n",
              " [2,]  3.397261592\n",
              " [3,]  6.799897620\n",
              " [4,]  5.880295937\n",
              " [5,]  0.150915567\n",
              " [6,] -0.015392510\n",
              " [7,] -0.078391896\n",
              " [8,] -0.010238959\n",
              " [9,] -0.270331441\n",
              "[10,]  0.275808258\n",
              "[11,] -0.316117562\n",
              "[12,]  0.243755523\n",
              "[13,]  0.279597973\n",
              "[14,] -0.007610071\n",
              "[15,] -0.170341439\n",
              "[16,] -0.012670709\n",
              "[17,] -0.477830262\n",
              "[18,]  0.517238387\n",
              "[19,] -0.478983695\n",
              "[20,]  0.391961543\n"
            ]
          },
          "metadata": {},
          "output_type": "display_data"
        }
      ],
      "execution_count": 12
    },
    {
      "cell_type": "markdown",
      "source": "4. Accuracy of multitrait assessment",
      "metadata": {}
    },
    {
      "cell_type": "code",
      "source": "C = as.matrix(mme2(y, X, Z, A, G, R)$C)\ninvC = ginv(C)\n\ninvC22 = invC[5:20, 5:20]\n\ntrait1 = diag(invC22)[1:8]\ntrait2 = diag(invC22)[9:16]\n\n(r2_1 = (20-trait1) / 20)\n(r2_2 = (40-trait2) / 40)\n\n(r1 = sqrt(r2_1))\n(r2 = sqrt(r2_2))",
      "metadata": {},
      "outputs": [
        {
          "data": {
            "text/html": [
              "<style>\n",
              ".list-inline {list-style: none; margin:0; padding: 0}\n",
              ".list-inline>li {display: inline-block}\n",
              ".list-inline>li:not(:last-child)::after {content: \"\\00b7\"; padding: 0 .5ex}\n",
              "</style>\n",
              "<ol class=list-inline><li>0.0697632637735806</li><li>0.0201812427467528</li><li>0.105355689244772</li><li>0.174767187326832</li><li>0.17294668027705</li><li>0.142427497991219</li><li>0.144248005040999</li><li>0.185780891703131</li></ol>\n"
            ],
            "text/latex": [
              "\\begin{enumerate*}\n",
              "\\item 0.0697632637735806\n",
              "\\item 0.0201812427467528\n",
              "\\item 0.105355689244772\n",
              "\\item 0.174767187326832\n",
              "\\item 0.17294668027705\n",
              "\\item 0.142427497991219\n",
              "\\item 0.144248005040999\n",
              "\\item 0.185780891703131\n",
              "\\end{enumerate*}\n"
            ],
            "text/markdown": [
              "1. 0.0697632637735806\n",
              "2. 0.0201812427467528\n",
              "3. 0.105355689244772\n",
              "4. 0.174767187326832\n",
              "5. 0.17294668027705\n",
              "6. 0.142427497991219\n",
              "7. 0.144248005040999\n",
              "8. 0.185780891703131\n",
              "\n",
              "\n"
            ],
            "text/plain": [
              "[1] 0.06976326 0.02018124 0.10535569 0.17476719 0.17294668 0.14242750 0.14424801\n",
              "[8] 0.18578089"
            ]
          },
          "metadata": {},
          "output_type": "display_data"
        },
        {
          "data": {
            "text/html": [
              "<style>\n",
              ".list-inline {list-style: none; margin:0; padding: 0}\n",
              ".list-inline>li {display: inline-block}\n",
              ".list-inline>li:not(:last-child)::after {content: \"\\00b7\"; padding: 0 .5ex}\n",
              "</style>\n",
              "<ol class=list-inline><li>0.102455353618369</li><li>0.030809227182284</li><li>0.155018905719145</li><li>0.256877083095508</li><li>0.253384555790558</li><li>0.212418627668354</li><li>0.215911154973304</li><li>0.271012693707549</li></ol>\n"
            ],
            "text/latex": [
              "\\begin{enumerate*}\n",
              "\\item 0.102455353618369\n",
              "\\item 0.030809227182284\n",
              "\\item 0.155018905719145\n",
              "\\item 0.256877083095508\n",
              "\\item 0.253384555790558\n",
              "\\item 0.212418627668354\n",
              "\\item 0.215911154973304\n",
              "\\item 0.271012693707549\n",
              "\\end{enumerate*}\n"
            ],
            "text/markdown": [
              "1. 0.102455353618369\n",
              "2. 0.030809227182284\n",
              "3. 0.155018905719145\n",
              "4. 0.256877083095508\n",
              "5. 0.253384555790558\n",
              "6. 0.212418627668354\n",
              "7. 0.215911154973304\n",
              "8. 0.271012693707549\n",
              "\n",
              "\n"
            ],
            "text/plain": [
              "[1] 0.10245535 0.03080923 0.15501891 0.25687708 0.25338456 0.21241863 0.21591115\n",
              "[8] 0.27101269"
            ]
          },
          "metadata": {},
          "output_type": "display_data"
        },
        {
          "data": {
            "text/html": [
              "<style>\n",
              ".list-inline {list-style: none; margin:0; padding: 0}\n",
              ".list-inline>li {display: inline-block}\n",
              ".list-inline>li:not(:last-child)::after {content: \"\\00b7\"; padding: 0 .5ex}\n",
              "</style>\n",
              "<ol class=list-inline><li>0.264127362788448</li><li>0.142060700923066</li><li>0.324585411324618</li><li>0.418051656290024</li><li>0.415868585345239</li><li>0.377395678289007</li><li>0.379799953977088</li><li>0.431023075604</li></ol>\n"
            ],
            "text/latex": [
              "\\begin{enumerate*}\n",
              "\\item 0.264127362788448\n",
              "\\item 0.142060700923066\n",
              "\\item 0.324585411324618\n",
              "\\item 0.418051656290024\n",
              "\\item 0.415868585345239\n",
              "\\item 0.377395678289007\n",
              "\\item 0.379799953977088\n",
              "\\item 0.431023075604\n",
              "\\end{enumerate*}\n"
            ],
            "text/markdown": [
              "1. 0.264127362788448\n",
              "2. 0.142060700923066\n",
              "3. 0.324585411324618\n",
              "4. 0.418051656290024\n",
              "5. 0.415868585345239\n",
              "6. 0.377395678289007\n",
              "7. 0.379799953977088\n",
              "8. 0.431023075604\n",
              "\n",
              "\n"
            ],
            "text/plain": [
              "[1] 0.2641274 0.1420607 0.3245854 0.4180517 0.4158686 0.3773957 0.3798000\n",
              "[8] 0.4310231"
            ]
          },
          "metadata": {},
          "output_type": "display_data"
        },
        {
          "data": {
            "text/html": [
              "<style>\n",
              ".list-inline {list-style: none; margin:0; padding: 0}\n",
              ".list-inline>li {display: inline-block}\n",
              ".list-inline>li:not(:last-child)::after {content: \"\\00b7\"; padding: 0 .5ex}\n",
              "</style>\n",
              "<ol class=list-inline><li>0.320086478343538</li><li>0.175525574154549</li><li>0.393724403255812</li><li>0.506830428344144</li><li>0.503373177464352</li><li>0.460888953727851</li><li>0.464662409683959</li><li>0.52058879521898</li></ol>\n"
            ],
            "text/latex": [
              "\\begin{enumerate*}\n",
              "\\item 0.320086478343538\n",
              "\\item 0.175525574154549\n",
              "\\item 0.393724403255812\n",
              "\\item 0.506830428344144\n",
              "\\item 0.503373177464352\n",
              "\\item 0.460888953727851\n",
              "\\item 0.464662409683959\n",
              "\\item 0.52058879521898\n",
              "\\end{enumerate*}\n"
            ],
            "text/markdown": [
              "1. 0.320086478343538\n",
              "2. 0.175525574154549\n",
              "3. 0.393724403255812\n",
              "4. 0.506830428344144\n",
              "5. 0.503373177464352\n",
              "6. 0.460888953727851\n",
              "7. 0.464662409683959\n",
              "8. 0.52058879521898\n",
              "\n",
              "\n"
            ],
            "text/plain": [
              "[1] 0.3200865 0.1755256 0.3937244 0.5068304 0.5033732 0.4608890 0.4646624\n",
              "[8] 0.5205888"
            ]
          },
          "metadata": {},
          "output_type": "display_data"
        }
      ],
      "execution_count": 13
    },
    {
      "cell_type": "code",
      "source": "est_tr1 = results_2$est[5:12]\nest_tr2 = results_2$est[13:20]",
      "metadata": {},
      "outputs": [],
      "execution_count": 14
    }
  ]
}